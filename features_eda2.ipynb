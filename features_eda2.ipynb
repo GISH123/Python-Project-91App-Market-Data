{
 "cells": [
  {
   "cell_type": "code",
   "execution_count": 1,
   "metadata": {},
   "outputs": [],
   "source": [
    "import numpy as np\n",
    "import pandas as pd\n",
    "import seaborn as sns\n",
    "import matplotlib.pyplot as plt\n",
    "from scipy import stats\n",
    "import statistics \n",
    "from math import sqrt"
   ]
  },
  {
   "cell_type": "code",
   "execution_count": 2,
   "metadata": {
    "scrolled": true
   },
   "outputs": [
    {
     "name": "stderr",
     "output_type": "stream",
     "text": [
      "C:\\ProgramData\\Anaconda3\\lib\\site-packages\\IPython\\core\\interactiveshell.py:3049: DtypeWarning: Columns (0) have mixed types. Specify dtype option on import or set low_memory=False.\n",
      "  interactivity=interactivity, compiler=compiler, result=result)\n"
     ]
    }
   ],
   "source": [
    "df = pd.read_csv('features/91app_features.txt')"
   ]
  },
  {
   "cell_type": "code",
   "execution_count": 3,
   "metadata": {},
   "outputs": [
    {
     "data": {
      "text/plain": [
       "Index(['memberid', 'online_ratio', 'total_day_using_percentage',\n",
       "       'actually_using_percentage', 'view_per_date', 'view_per_session',\n",
       "       'session_per_date', 'total_conversion_rate', 'off_cart_c', 'off_fav_c',\n",
       "       'off_view_c', 'on_cart_c', 'on_fav_c', 'on_view_c', 'total_cart_c',\n",
       "       'total_fav_c', 'total_view_c', 'viewtime_ave', 'view_time_med',\n",
       "       '201803F', '201804F', '201805F', '201806F', '201807F', '201808F',\n",
       "       '201809F', '201810F', '201811F', '201812F', '201901F', '201902F',\n",
       "       '201903F', '201904F', '201803M', '201804M', '201805M', '201806M',\n",
       "       '201807M', '201808M', '201809M', '201810M', '201811M', '201812M',\n",
       "       '201901M', '201902M', '201903M', '201904M', '201803S', '201804S',\n",
       "       '201805S', '201806S', '201807S', '201808S', '201809S', '201810S',\n",
       "       '201811S', '201812S', '201901S', '201902S', '201903S', '201904S',\n",
       "       'total_F', 'total_M', 'ave_M', 'ave_M_not_offline_return',\n",
       "       'total_discount_percentage'],\n",
       "      dtype='object')"
      ]
     },
     "execution_count": 3,
     "metadata": {},
     "output_type": "execute_result"
    }
   ],
   "source": [
    "df.columns"
   ]
  },
  {
   "cell_type": "code",
   "execution_count": 4,
   "metadata": {},
   "outputs": [
    {
     "data": {
      "text/plain": [
       "76401"
      ]
     },
     "execution_count": 4,
     "metadata": {},
     "output_type": "execute_result"
    }
   ],
   "source": [
    "df.shape[0]"
   ]
  },
  {
   "cell_type": "markdown",
   "metadata": {},
   "source": [
    "# inactive users are those whose total_day_using_percentage < 2%"
   ]
  },
  {
   "cell_type": "code",
   "execution_count": 5,
   "metadata": {},
   "outputs": [],
   "source": [
    "df_inactive = df[df['total_day_using_percentage'] < 0.02]\n",
    "df_active =   df[~(df['total_day_using_percentage'] < 0.02)]"
   ]
  },
  {
   "cell_type": "code",
   "execution_count": 6,
   "metadata": {},
   "outputs": [
    {
     "data": {
      "text/plain": [
       "(25676, 50725)"
      ]
     },
     "execution_count": 6,
     "metadata": {},
     "output_type": "execute_result"
    }
   ],
   "source": [
    "df_inactive.shape[0], df_active.shape[0]"
   ]
  },
  {
   "cell_type": "code",
   "execution_count": null,
   "metadata": {},
   "outputs": [],
   "source": []
  },
  {
   "cell_type": "markdown",
   "metadata": {},
   "source": [
    "# offline buyer are those who purchases only offline"
   ]
  },
  {
   "cell_type": "code",
   "execution_count": 7,
   "metadata": {},
   "outputs": [],
   "source": [
    "df_never_buy = df_active[df_active['online_ratio'].isnull()]\n",
    "df_buy = df_active[~df_active['online_ratio'].isnull()]"
   ]
  },
  {
   "cell_type": "code",
   "execution_count": 8,
   "metadata": {},
   "outputs": [
    {
     "data": {
      "text/plain": [
       "((14429, 66), (36296, 66))"
      ]
     },
     "execution_count": 8,
     "metadata": {},
     "output_type": "execute_result"
    }
   ],
   "source": [
    "df_never_buy.shape, df_buy.shape"
   ]
  },
  {
   "cell_type": "code",
   "execution_count": null,
   "metadata": {},
   "outputs": [],
   "source": []
  },
  {
   "cell_type": "code",
   "execution_count": null,
   "metadata": {},
   "outputs": [],
   "source": []
  },
  {
   "cell_type": "code",
   "execution_count": 9,
   "metadata": {},
   "outputs": [],
   "source": [
    "def split_by_percentile(df, keyword, n):\n",
    "    a_list = df[keyword].tolist()\n",
    "    null_df = df[df[keyword].isnull()]\n",
    "    remaining_df = df[~df[keyword].isnull()]\n",
    "    return_list = []\n",
    "    number_list = []\n",
    "    for i in range(1, n):\n",
    "        number = np.nanpercentile(a_list, int(100/n*i) )\n",
    "        number_list.append(number)\n",
    "        a_df = remaining_df[ remaining_df[keyword] <= number]\n",
    "        remaining_df = remaining_df[~ (remaining_df[keyword] <= number)]      \n",
    "        return_list.append(a_df)\n",
    "    return_list.append(remaining_df)\n",
    "    return return_list, number_list, null_df"
   ]
  },
  {
   "cell_type": "code",
   "execution_count": 10,
   "metadata": {},
   "outputs": [],
   "source": [
    "[df1 , df2], number_list, null_df = split_by_percentile(df_buy, 'online_ratio', 2)"
   ]
  },
  {
   "cell_type": "code",
   "execution_count": 11,
   "metadata": {},
   "outputs": [
    {
     "data": {
      "text/plain": [
       "(21087, 15209, [0.0], 0)"
      ]
     },
     "execution_count": 11,
     "metadata": {},
     "output_type": "execute_result"
    }
   ],
   "source": [
    "df1.shape[0] , df2.shape[0], number_list, null_df.shape[0]"
   ]
  },
  {
   "cell_type": "code",
   "execution_count": 12,
   "metadata": {},
   "outputs": [],
   "source": [
    "def difference_in_rate(df1, df2, key_word):\n",
    "    \n",
    "    newdf1, newdf2 = df1[~df1[key_word].isnull()],  df2[~df2[key_word].isnull()]\n",
    "    n1, n2 = newdf1.shape[0] , newdf2.shape[0]\n",
    "    if n1 == 0 or n2 == 0:\n",
    "        return (0,0)\n",
    "    \n",
    "    m1, m2 = np.nanmean( newdf1[key_word].tolist() ), np.nanmean( newdf2[key_word].tolist() )\n",
    "    s1, s2 = np.nanstd(newdf1[key_word].tolist()), np.nanstd(newdf2[key_word].tolist())\n",
    "    differnce = m1 - m2\n",
    "    \n",
    "    sp2 = ((n1-1)*(s1**2) + (n2-1)*(s2**2)) / (n1+n2-2)\n",
    "    t = differnce / sqrt(sp2 * (1/n1+1/n2))\n",
    "    return differnce, t"
   ]
  },
  {
   "cell_type": "code",
   "execution_count": 13,
   "metadata": {},
   "outputs": [],
   "source": [
    "def find_important_difference(df1, df2):\n",
    "    for key_word in ['ave_M', 'ave_M_not_offline_return', 'total_M', 'total_F', 'actually_using_percentage', 'view_per_date', 'view_per_session',\n",
    "       'session_per_date', 'total_conversion_rate',\n",
    "       'off_cart_c', 'off_fav_c', 'off_view_c', 'on_cart_c', 'on_fav_c',\n",
    "       'on_view_c', 'total_cart_c', 'total_fav_c', 'total_view_c',\n",
    "       'viewtime_ave', 'view_time_med', 'total_discount_percentage', 'online_ratio', 'total_day_using_percentage']:\n",
    "        differnce, t = difference_in_rate(df1, df2, key_word)\n",
    "        if abs( t ) > 1.96:\n",
    "            print(key_word, round(differnce, 4)  )\n",
    "        elif  abs( t ) >= 1.5:\n",
    "            print(key_word, round(differnce, 4) ,  'Not so significant' )"
   ]
  },
  {
   "cell_type": "code",
   "execution_count": 14,
   "metadata": {},
   "outputs": [],
   "source": [
    "def find_important_difference_all(df1, df2):\n",
    "    for key_word in ['ave_M', 'ave_M_not_offline_return', 'total_M', 'total_F', 'actually_using_percentage', 'view_per_date', 'view_per_session',\n",
    "       'session_per_date', 'total_conversion_rate',\n",
    "       'off_cart_c', 'off_fav_c', 'off_view_c', 'on_cart_c', 'on_fav_c',\n",
    "       'on_view_c', 'total_cart_c', 'total_fav_c', 'total_view_c',\n",
    "       'viewtime_ave', 'view_time_med', 'total_discount_percentage', 'online_ratio', 'total_day_using_percentage']:\n",
    "        differnce, t = difference_in_rate(df1, df2, key_word)\n",
    "        if abs( t ) > 1.96:\n",
    "            print(key_word, round(differnce, 4)  )\n",
    "        elif  abs( t ) >= 1.5:\n",
    "            print(key_word, round(differnce, 4) ,  'Not so significant' )\n",
    "        else:\n",
    "            print(key_word, round(differnce, 4) ,  'Not significant' )"
   ]
  },
  {
   "cell_type": "code",
   "execution_count": 15,
   "metadata": {},
   "outputs": [
    {
     "name": "stdout",
     "output_type": "stream",
     "text": [
      "ave_M 606.8825\n",
      "ave_M_not_offline_return 788.0889\n",
      "total_M -3699.2128\n",
      "total_F -1.698\n",
      "actually_using_percentage 0.0096\n",
      "view_per_date -2.9567\n",
      "view_per_session -1.8285\n",
      "session_per_date -0.1518\n",
      "total_conversion_rate 0.2271\n",
      "off_fav_c -0.0137\n",
      "off_view_c -0.0029 Not so significant\n",
      "total_cart_c -0.4278\n",
      "total_fav_c -0.0883\n",
      "total_view_c -0.0662\n",
      "viewtime_ave 2.409\n",
      "view_time_med 5.148\n",
      "total_discount_percentage 0.0038\n",
      "online_ratio -0.7164\n",
      "total_day_using_percentage -0.0746\n"
     ]
    }
   ],
   "source": [
    " find_important_difference(df1, df2)"
   ]
  },
  {
   "cell_type": "markdown",
   "metadata": {},
   "source": [
    "# df1是 offline, df2 是online, df3, df4, df5 依照view conversion rate劃分"
   ]
  },
  {
   "cell_type": "code",
   "execution_count": 16,
   "metadata": {},
   "outputs": [
    {
     "data": {
      "text/plain": [
       "(0.008075642857142872, 0.0656, '此可看出要把inactive user分開的重要性')"
      ]
     },
     "execution_count": 16,
     "metadata": {},
     "output_type": "execute_result"
    }
   ],
   "source": [
    "np.nanpercentile(df['total_view_c'], 33), np.nanpercentile(df['total_view_c'], 67), '此可看出要把inactive user分開的重要性'"
   ]
  },
  {
   "cell_type": "code",
   "execution_count": 17,
   "metadata": {},
   "outputs": [],
   "source": [
    "[df3, df4, df5], number_list2, null_df2 = split_by_percentile(df2, 'total_view_c', 3)"
   ]
  },
  {
   "cell_type": "code",
   "execution_count": 18,
   "metadata": {},
   "outputs": [
    {
     "data": {
      "text/plain": [
       "((5012, 66), (5012, 66), (5162, 66), [0.039113263888888895, 0.09355], (23, 66))"
      ]
     },
     "execution_count": 18,
     "metadata": {},
     "output_type": "execute_result"
    }
   ],
   "source": [
    "df3.shape , df4.shape , df5.shape  , number_list2, null_df2.shape"
   ]
  },
  {
   "cell_type": "code",
   "execution_count": 19,
   "metadata": {
    "scrolled": false
   },
   "outputs": [
    {
     "name": "stdout",
     "output_type": "stream",
     "text": [
      "ave_M -317.5342\n",
      "ave_M_not_offline_return -308.3299\n",
      "total_M -4864.0805\n",
      "total_F -0.9562\n",
      "actually_using_percentage 0.0565\n",
      "view_per_date 1.8494\n",
      "view_per_session 0.9772\n",
      "session_per_date 0.0918\n",
      "total_conversion_rate -0.1332\n",
      "off_cart_c -0.1026\n",
      "off_fav_c -0.0528\n",
      "off_view_c -0.0933\n",
      "on_cart_c -0.3027\n",
      "on_fav_c -0.1331\n",
      "on_view_c -0.2615\n",
      "total_cart_c -0.3206\n",
      "total_fav_c -0.1173\n",
      "total_view_c -0.2241\n",
      "viewtime_ave -7.77\n",
      "view_time_med -7.9158\n",
      "total_discount_percentage 0.0113\n",
      "online_ratio -0.072\n",
      "total_day_using_percentage 0.0962\n"
     ]
    }
   ],
   "source": [
    " find_important_difference(df3, df5)"
   ]
  },
  {
   "cell_type": "code",
   "execution_count": 20,
   "metadata": {},
   "outputs": [
    {
     "name": "stdout",
     "output_type": "stream",
     "text": [
      "ave_M -276.0765\n",
      "ave_M_not_offline_return -268.4822\n",
      "total_M -5749.4818\n",
      "total_F -1.592\n",
      "actually_using_percentage 0.0254\n",
      "view_per_date 0.9093\n",
      "view_per_session 0.5272\n",
      "session_per_date 0.0291\n",
      "total_conversion_rate -0.0206\n",
      "off_cart_c -0.0574\n",
      "off_fav_c -0.0419\n",
      "off_view_c -0.028\n",
      "on_cart_c -0.1398\n",
      "on_fav_c -0.0547\n",
      "on_view_c -0.0501\n",
      "total_cart_c -0.1362\n",
      "total_fav_c -0.0497\n",
      "total_view_c -0.0407\n",
      "viewtime_ave -2.1815\n",
      "view_time_med -1.766\n",
      "total_discount_percentage 0.0067\n",
      "online_ratio -0.0233\n",
      "total_day_using_percentage 0.0292\n"
     ]
    }
   ],
   "source": [
    " find_important_difference(df3, df4)"
   ]
  },
  {
   "cell_type": "code",
   "execution_count": 21,
   "metadata": {},
   "outputs": [
    {
     "name": "stdout",
     "output_type": "stream",
     "text": [
      "total_M 885.4014 Not so significant\n",
      "total_F 0.6358\n",
      "actually_using_percentage 0.0311\n",
      "view_per_date 0.9401\n",
      "view_per_session 0.4501\n",
      "session_per_date 0.0628\n",
      "total_conversion_rate -0.1126\n",
      "off_cart_c -0.0452\n",
      "off_view_c -0.0653\n",
      "on_cart_c -0.1629\n",
      "on_fav_c -0.0783\n",
      "on_view_c -0.2115\n",
      "total_cart_c -0.1844\n",
      "total_fav_c -0.0676\n",
      "total_view_c -0.1834\n",
      "viewtime_ave -5.5884\n",
      "view_time_med -6.1498\n",
      "total_discount_percentage 0.0046\n",
      "online_ratio -0.0487\n",
      "total_day_using_percentage 0.0669\n"
     ]
    }
   ],
   "source": [
    " find_important_difference(df4, df5)"
   ]
  },
  {
   "cell_type": "markdown",
   "metadata": {},
   "source": [
    "## 可得知，用view_conversion_rate分群之後，df3為深思熟慮型, df5為衝動購物型"
   ]
  },
  {
   "cell_type": "markdown",
   "metadata": {},
   "source": [
    "## PRICE 敏感者"
   ]
  },
  {
   "cell_type": "code",
   "execution_count": 22,
   "metadata": {},
   "outputs": [],
   "source": [
    "import matplotlib.pyplot as plt"
   ]
  },
  {
   "cell_type": "code",
   "execution_count": 23,
   "metadata": {},
   "outputs": [
    {
     "data": {
      "image/png": "[encoded data removed]",
      "text/plain": [
       "<Figure size 432x288 with 1 Axes>"
      ]
     },
     "metadata": {
      "needs_background": "light"
     },
     "output_type": "display_data"
    }
   ],
   "source": [
    "Y = df4['ave_M']\n",
    "X = df4['total_discount_percentage']\n",
    "T = np.arctan2(Y,X) # for color value\n",
    "plt.scatter(X, Y, s=75,c=T, alpha=.5)\n",
    "\n",
    "plt.show()\n",
    "\n"
   ]
  },
  {
   "cell_type": "code",
   "execution_count": 24,
   "metadata": {},
   "outputs": [
    {
     "data": {
      "image/png": "[encoded data removed]",
      "text/plain": [
       "<Figure size 432x288 with 1 Axes>"
      ]
     },
     "metadata": {
      "needs_background": "light"
     },
     "output_type": "display_data"
    }
   ],
   "source": [
    "Y = df4['total_M']\n",
    "X = df4['total_discount_percentage']\n",
    "T = np.arctan2(Y,X) # for color value\n",
    "plt.scatter(X, Y, s=75,c=T, alpha=.5)\n",
    "plt.show()"
   ]
  },
  {
   "cell_type": "code",
   "execution_count": 25,
   "metadata": {},
   "outputs": [
    {
     "data": {
      "text/plain": [
       "0.10469497031575628"
      ]
     },
     "execution_count": 25,
     "metadata": {},
     "output_type": "execute_result"
    }
   ],
   "source": [
    "np.nanpercentile(df4['total_discount_percentage'], 89)"
   ]
  },
  {
   "cell_type": "code",
   "execution_count": 26,
   "metadata": {},
   "outputs": [],
   "source": [
    "df_normal = df4[df4['total_discount_percentage'] < 0.1]\n",
    "df_price_sensitive = df4[df4['total_discount_percentage'] >= 0.1]"
   ]
  },
  {
   "cell_type": "code",
   "execution_count": 27,
   "metadata": {},
   "outputs": [
    {
     "data": {
      "text/plain": [
       "(4415, 597)"
      ]
     },
     "execution_count": 27,
     "metadata": {},
     "output_type": "execute_result"
    }
   ],
   "source": [
    "df_normal.shape[0], df_price_sensitive.shape[0]"
   ]
  },
  {
   "cell_type": "code",
   "execution_count": 28,
   "metadata": {},
   "outputs": [
    {
     "name": "stdout",
     "output_type": "stream",
     "text": [
      "ave_M 816.6948\n",
      "ave_M_not_offline_return 856.929\n",
      "total_M 8239.6906\n",
      "total_F 1.44\n",
      "actually_using_percentage 0.0181\n",
      "view_per_date 0.6711\n",
      "view_per_session 0.3149\n",
      "session_per_date 0.0391\n",
      "off_view_c 0.0037 Not so significant\n",
      "total_view_c 0.0017\n",
      "view_time_med -1.1102 Not so significant\n",
      "total_discount_percentage -0.1405\n",
      "online_ratio 0.0469\n",
      "total_day_using_percentage 0.0198\n"
     ]
    }
   ],
   "source": [
    "find_important_difference(df_normal, df_price_sensitive)"
   ]
  },
  {
   "cell_type": "markdown",
   "metadata": {},
   "source": [
    "# 想看一下price_sensitive 對各個group的影響"
   ]
  },
  {
   "cell_type": "code",
   "execution_count": 29,
   "metadata": {},
   "outputs": [],
   "source": [
    "def look_the_effect_of_price_sensitive(df, p = 0.1):\n",
    "    other_sensitive = df[df['total_discount_percentage'] >=p]\n",
    "    other_normal = df[df['total_discount_percentage'] < p]\n",
    "    print( find_important_difference(other_sensitive, other_normal) )"
   ]
  },
  {
   "cell_type": "code",
   "execution_count": 30,
   "metadata": {},
   "outputs": [
    {
     "name": "stdout",
     "output_type": "stream",
     "text": [
      "ave_M -1057.2691\n",
      "ave_M_not_offline_return -1214.465\n",
      "total_M -4597.9661\n",
      "total_F -0.4694\n",
      "actually_using_percentage -0.0181\n",
      "session_per_date 0.0371\n",
      "total_conversion_rate -0.0792\n",
      "off_cart_c -0.0387\n",
      "off_view_c -0.009\n",
      "total_cart_c -0.0387\n",
      "total_view_c -0.009\n",
      "viewtime_ave 4.1003\n",
      "view_time_med 1.6894 Not so significant\n",
      "total_discount_percentage 0.1576\n",
      "total_day_using_percentage -0.0069\n",
      "None\n"
     ]
    },
    {
     "name": "stderr",
     "output_type": "stream",
     "text": [
      "C:\\ProgramData\\Anaconda3\\lib\\site-packages\\ipykernel_launcher.py:13: RuntimeWarning: invalid value encountered in double_scalars\n",
      "  del sys.path[0]\n"
     ]
    }
   ],
   "source": [
    "look_the_effect_of_price_sensitive(df1)"
   ]
  },
  {
   "cell_type": "code",
   "execution_count": 31,
   "metadata": {},
   "outputs": [
    {
     "name": "stdout",
     "output_type": "stream",
     "text": [
      "ave_M -715.0233\n",
      "ave_M_not_offline_return -763.8027\n",
      "total_M -4384.648\n",
      "total_F -0.6473\n",
      "view_per_date -0.3837 Not so significant\n",
      "view_per_session -0.2627\n",
      "total_conversion_rate -0.0081 Not so significant\n",
      "total_fav_c 0.0167 Not so significant\n",
      "total_view_c -0.0009\n",
      "total_discount_percentage 0.143\n",
      "online_ratio -0.0382\n",
      "None\n"
     ]
    }
   ],
   "source": [
    "look_the_effect_of_price_sensitive(df3)"
   ]
  },
  {
   "cell_type": "code",
   "execution_count": 32,
   "metadata": {},
   "outputs": [
    {
     "name": "stdout",
     "output_type": "stream",
     "text": [
      "ave_M -816.6948\n",
      "ave_M_not_offline_return -856.929\n",
      "total_M -8239.6906\n",
      "total_F -1.44\n",
      "actually_using_percentage -0.0181\n",
      "view_per_date -0.6711\n",
      "view_per_session -0.3149\n",
      "session_per_date -0.0391\n",
      "off_view_c -0.0037 Not so significant\n",
      "total_view_c -0.0017\n",
      "view_time_med 1.1102 Not so significant\n",
      "total_discount_percentage 0.1405\n",
      "online_ratio -0.0469\n",
      "total_day_using_percentage -0.0198\n",
      "None\n"
     ]
    }
   ],
   "source": [
    "look_the_effect_of_price_sensitive(df4)"
   ]
  },
  {
   "cell_type": "code",
   "execution_count": 33,
   "metadata": {},
   "outputs": [
    {
     "name": "stdout",
     "output_type": "stream",
     "text": [
      "ave_M -984.6551\n",
      "ave_M_not_offline_return -1023.1873\n",
      "total_M -9524.1659\n",
      "total_F -1.8262\n",
      "actually_using_percentage 0.0266\n",
      "view_per_date -0.6061\n",
      "view_per_session -0.3276\n",
      "session_per_date -0.0389\n",
      "off_cart_c -0.0527 Not so significant\n",
      "off_fav_c -0.0463 Not so significant\n",
      "on_view_c 0.0609\n",
      "total_view_c 0.0636\n",
      "view_time_med 2.024 Not so significant\n",
      "total_discount_percentage 0.1386\n",
      "None\n"
     ]
    }
   ],
   "source": [
    "look_the_effect_of_price_sensitive(df5)"
   ]
  },
  {
   "cell_type": "markdown",
   "metadata": {},
   "source": [
    "* 價格敏感的衝動購買者"
   ]
  },
  {
   "cell_type": "code",
   "execution_count": 34,
   "metadata": {},
   "outputs": [
    {
     "data": {
      "text/plain": [
       "590"
      ]
     },
     "execution_count": 34,
     "metadata": {},
     "output_type": "execute_result"
    }
   ],
   "source": [
    "df5[df5['total_discount_percentage'] >= 0.1].shape[0]"
   ]
  },
  {
   "cell_type": "code",
   "execution_count": 35,
   "metadata": {},
   "outputs": [
    {
     "data": {
      "text/plain": [
       "0.047300224350305474"
      ]
     },
     "execution_count": 35,
     "metadata": {},
     "output_type": "execute_result"
    }
   ],
   "source": [
    "np.nanpercentile(df5['total_discount_percentage'], 67)"
   ]
  },
  {
   "cell_type": "code",
   "execution_count": 36,
   "metadata": {
    "scrolled": true
   },
   "outputs": [
    {
     "name": "stdout",
     "output_type": "stream",
     "text": [
      "ave_M -648.5171\n",
      "ave_M_not_offline_return -646.2232\n",
      "total_M 2844.3829\n",
      "total_F 2.1017\n",
      "actually_using_percentage 0.0503\n",
      "view_per_date -0.4608\n",
      "view_per_session -0.3708\n",
      "session_per_date -0.0004 Not significant\n",
      "total_conversion_rate 0.057\n",
      "off_cart_c -0.0137 Not significant\n",
      "off_fav_c -0.0296 Not so significant\n",
      "off_view_c -0.0098 Not significant\n",
      "on_cart_c -0.0013 Not significant\n",
      "on_fav_c -0.0026 Not significant\n",
      "on_view_c 0.0633\n",
      "total_cart_c -0.0249\n",
      "total_fav_c -0.0146 Not significant\n",
      "total_view_c 0.0335\n",
      "viewtime_ave 1.267 Not significant\n",
      "view_time_med 1.303 Not significant\n",
      "total_discount_percentage 0.0894\n",
      "online_ratio -0.1251\n",
      "total_day_using_percentage 0.0336\n"
     ]
    }
   ],
   "source": [
    "find_important_difference_all(df5[df5['total_discount_percentage'] >= 0.05], df5[df5['total_discount_percentage'] < 0.05])"
   ]
  },
  {
   "cell_type": "markdown",
   "metadata": {},
   "source": [
    "* 價格敏感的線下購買者 "
   ]
  },
  {
   "cell_type": "code",
   "execution_count": 37,
   "metadata": {},
   "outputs": [
    {
     "data": {
      "text/plain": [
       "0.0534515051982953"
      ]
     },
     "execution_count": 37,
     "metadata": {},
     "output_type": "execute_result"
    }
   ],
   "source": [
    "np.nanpercentile(df1['total_discount_percentage'], 67)"
   ]
  },
  {
   "cell_type": "code",
   "execution_count": 38,
   "metadata": {},
   "outputs": [
    {
     "name": "stdout",
     "output_type": "stream",
     "text": [
      "ave_M -1234.4676\n",
      "ave_M_not_offline_return -1383.1553\n",
      "total_M -1873.8247\n",
      "total_F 0.3171\n",
      "actually_using_percentage 0.0104\n",
      "view_per_date -0.1758\n",
      "view_per_session -0.2094\n",
      "session_per_date 0.015\n",
      "total_conversion_rate -0.0177 Not so significant\n",
      "off_cart_c -0.0248\n",
      "off_fav_c -0.0106 Not so significant\n",
      "off_view_c -0.0017 Not significant\n",
      "on_cart_c 0 Not significant\n",
      "on_fav_c 0 Not significant\n",
      "on_view_c 0 Not significant\n",
      "total_cart_c -0.0248\n",
      "total_fav_c -0.0106 Not so significant\n",
      "total_view_c -0.0017 Not significant\n",
      "viewtime_ave 2.4002\n",
      "view_time_med 1.2529 Not so significant\n",
      "total_discount_percentage 0.1005\n",
      "online_ratio 0.0 Not significant\n",
      "total_day_using_percentage 0.0004 Not significant\n"
     ]
    },
    {
     "name": "stderr",
     "output_type": "stream",
     "text": [
      "C:\\ProgramData\\Anaconda3\\lib\\site-packages\\ipykernel_launcher.py:13: RuntimeWarning: invalid value encountered in double_scalars\n",
      "  del sys.path[0]\n"
     ]
    }
   ],
   "source": [
    "find_important_difference_all(df1[df1['total_discount_percentage'] >= 0.055], df1[df1['total_discount_percentage'] < 0.055])"
   ]
  },
  {
   "cell_type": "markdown",
   "metadata": {},
   "source": [
    "# 以上評論\n",
    "## 對於衝動購物者而言，如果他們還是價格敏感者，那會更提高online_view_conversion_rate，但是他們會比較多在線下買(可能因為折扣多)並且大多不是買線上看到的(可能因為專買線下特價商品)，但線上的轉換率會比較高!!!\n",
    "\n",
    "## 線下的價格敏感者，則轉換率比一般線下購滿者低"
   ]
  },
  {
   "cell_type": "code",
   "execution_count": null,
   "metadata": {},
   "outputs": [],
   "source": []
  },
  {
   "cell_type": "code",
   "execution_count": 39,
   "metadata": {},
   "outputs": [
    {
     "data": {
      "text/plain": [
       "'統整一下，目前有1. 不活躍(可能是線上或線下), 2. 線下購買者, 3. 深思猶豫者, 4. 線上一般購買者, 5.衝動型購物者'"
      ]
     },
     "execution_count": 39,
     "metadata": {},
     "output_type": "execute_result"
    }
   ],
   "source": [
    "'統整一下，目前有1. 不活躍(可能是線上或線下), 2. 線下購買者, 3. 深思猶豫者, 4. 線上一般購買者, 5.衝動型購物者'"
   ]
  },
  {
   "cell_type": "code",
   "execution_count": 40,
   "metadata": {},
   "outputs": [
    {
     "data": {
      "text/plain": [
       "('不活躍', 25676)"
      ]
     },
     "execution_count": 40,
     "metadata": {},
     "output_type": "execute_result"
    }
   ],
   "source": [
    "'不活躍',df_inactive.shape[0]"
   ]
  },
  {
   "cell_type": "code",
   "execution_count": 41,
   "metadata": {},
   "outputs": [
    {
     "data": {
      "text/plain": [
       "('線下購買者', 21087)"
      ]
     },
     "execution_count": 41,
     "metadata": {},
     "output_type": "execute_result"
    }
   ],
   "source": [
    "'線下購買者', df1.shape[0]"
   ]
  },
  {
   "cell_type": "code",
   "execution_count": 42,
   "metadata": {},
   "outputs": [
    {
     "data": {
      "text/plain": [
       "('深思猶豫者', 5012)"
      ]
     },
     "execution_count": 42,
     "metadata": {},
     "output_type": "execute_result"
    }
   ],
   "source": [
    "'深思猶豫者', df3.shape[0]"
   ]
  },
  {
   "cell_type": "code",
   "execution_count": 43,
   "metadata": {},
   "outputs": [
    {
     "data": {
      "text/plain": [
       "('線上一般購買者', 5012)"
      ]
     },
     "execution_count": 43,
     "metadata": {},
     "output_type": "execute_result"
    }
   ],
   "source": [
    "'線上一般購買者', df4.shape[0]"
   ]
  },
  {
   "cell_type": "code",
   "execution_count": 44,
   "metadata": {},
   "outputs": [
    {
     "data": {
      "text/plain": [
       "('衝動型購物者', 5162)"
      ]
     },
     "execution_count": 44,
     "metadata": {},
     "output_type": "execute_result"
    }
   ],
   "source": [
    "'衝動型購物者', df5.shape[0]"
   ]
  },
  {
   "cell_type": "code",
   "execution_count": 45,
   "metadata": {},
   "outputs": [
    {
     "data": {
      "text/plain": [
       "('被排除的人', 23)"
      ]
     },
     "execution_count": 45,
     "metadata": {},
     "output_type": "execute_result"
    }
   ],
   "source": [
    "'被排除的人', null_df2.shape[0]"
   ]
  },
  {
   "cell_type": "code",
   "execution_count": 46,
   "metadata": {},
   "outputs": [
    {
     "data": {
      "text/plain": [
       "('還沒被分群的人(他們沒購買過)', 14429)"
      ]
     },
     "execution_count": 46,
     "metadata": {},
     "output_type": "execute_result"
    }
   ],
   "source": [
    "'還沒被分群的人(他們沒購買過)', df_never_buy.shape[0]"
   ]
  },
  {
   "cell_type": "markdown",
   "metadata": {},
   "source": [
    "# 現在要給他們建造馬可夫遷移矩陣"
   ]
  },
  {
   "cell_type": "code",
   "execution_count": 47,
   "metadata": {},
   "outputs": [
    {
     "data": {
      "text/plain": [
       "(2280.0, 1.0)"
      ]
     },
     "execution_count": 47,
     "metadata": {},
     "output_type": "execute_result"
    }
   ],
   "source": [
    "np.nanpercentile( df['ave_M'], 50), np.nanpercentile( df['total_F'], 50)"
   ]
  },
  {
   "cell_type": "code",
   "execution_count": 48,
   "metadata": {},
   "outputs": [
    {
     "data": {
      "text/plain": [
       "(24456, 48450)"
      ]
     },
     "execution_count": 48,
     "metadata": {},
     "output_type": "execute_result"
    }
   ],
   "source": [
    "df[df['ave_M']<=2280].shape[0], df[df['total_F']<=1].shape[0]"
   ]
  },
  {
   "cell_type": "code",
   "execution_count": 49,
   "metadata": {},
   "outputs": [
    {
     "data": {
      "text/plain": [
       "(24347, 27951)"
      ]
     },
     "execution_count": 49,
     "metadata": {},
     "output_type": "execute_result"
    }
   ],
   "source": [
    "df[df['ave_M']>2280].shape[0], df[df['total_F']>1].shape[0]"
   ]
  },
  {
   "cell_type": "code",
   "execution_count": 50,
   "metadata": {},
   "outputs": [
    {
     "data": {
      "text/plain": [
       "('memberid', '201803F', '201803M', '201803S', '201904S')"
      ]
     },
     "execution_count": 50,
     "metadata": {},
     "output_type": "execute_result"
    }
   ],
   "source": [
    "df5.columns[0], df5.columns[19], df5.columns[33], df5.columns[47], df5.columns[60]"
   ]
  },
  {
   "cell_type": "code",
   "execution_count": 51,
   "metadata": {},
   "outputs": [
    {
     "data": {
      "text/plain": [
       "'我要看一下，一個月多少session是過少'"
      ]
     },
     "execution_count": 51,
     "metadata": {},
     "output_type": "execute_result"
    }
   ],
   "source": [
    "'我要看一下，一個月多少session是過少'"
   ]
  },
  {
   "cell_type": "code",
   "execution_count": null,
   "metadata": {},
   "outputs": [],
   "source": []
  },
  {
   "cell_type": "code",
   "execution_count": 52,
   "metadata": {},
   "outputs": [
    {
     "name": "stdout",
     "output_type": "stream",
     "text": [
      "7.0\n",
      "11.0\n",
      "12.0\n",
      "10.0\n",
      "17.0\n",
      "10.0\n",
      "9.0\n",
      "11.0\n",
      "17.0\n",
      "12.0\n",
      "19.0\n",
      "10.0\n",
      "10.0\n",
      "10.0\n"
     ]
    }
   ],
   "source": [
    "counter = 0\n",
    "total_session = []\n",
    "for col_name in df.columns[47:61]:\n",
    "    with_session_df = df[df[col_name]>0]\n",
    "    print( np.median(with_session_df[col_name]) )\n",
    "    total_session+= with_session_df[col_name].tolist()\n",
    "    counter += with_session_df.shape[0]"
   ]
  },
  {
   "cell_type": "code",
   "execution_count": 53,
   "metadata": {},
   "outputs": [
    {
     "data": {
      "text/plain": [
       "(11.0, 12.0)"
      ]
     },
     "execution_count": 53,
     "metadata": {},
     "output_type": "execute_result"
    }
   ],
   "source": [
    "np.nanpercentile(total_session, 49), np.nanpercentile(total_session, 50)"
   ]
  },
  {
   "cell_type": "code",
   "execution_count": null,
   "metadata": {},
   "outputs": [],
   "source": []
  },
  {
   "cell_type": "code",
   "execution_count": null,
   "metadata": {},
   "outputs": [],
   "source": []
  },
  {
   "cell_type": "code",
   "execution_count": null,
   "metadata": {},
   "outputs": [],
   "source": []
  },
  {
   "cell_type": "markdown",
   "metadata": {},
   "source": [
    "## 開始依照過去歷史給予分類\n",
    "0是沒操作，1是有操作但少於12(但是沒購買)，2是有操作但高於12(但是沒購買)。3,4,5,6分別是FM四象限(F橫M縱)，3是高F高M，4是低F高M"
   ]
  },
  {
   "cell_type": "code",
   "execution_count": 54,
   "metadata": {},
   "outputs": [],
   "source": [
    "a_dict_for_markov = dict() # 'id: [] shape of 1*14'"
   ]
  },
  {
   "cell_type": "code",
   "execution_count": 55,
   "metadata": {},
   "outputs": [
    {
     "name": "stderr",
     "output_type": "stream",
     "text": [
      "C:\\ProgramData\\Anaconda3\\lib\\site-packages\\ipykernel_launcher.py:13: RuntimeWarning: invalid value encountered in longlong_scalars\n",
      "  del sys.path[0]\n"
     ]
    }
   ],
   "source": [
    "for i in range(df5.shape[0]):\n",
    "    memberID = str( df5.iloc[i,0] )\n",
    "    a_dict_for_markov[memberID] = [0]*14\n",
    "    for j in range(14): \n",
    "        '''\n",
    "        47+j, j = 0,1,...13 是session\n",
    "        33+j 是 M\n",
    "        19+J 是 F\n",
    "        '''\n",
    "        S = df5.iloc[i,47+j]\n",
    "        M =  df5.iloc[i,33+j]\n",
    "        F =  df5.iloc[i,19+j]\n",
    "        M_ave = M/F\n",
    "        if  S == 0:\n",
    "            continue\n",
    "        elif  F == 0:\n",
    "            a_dict_for_markov[memberID][j] = 1 if S < 12 else 2\n",
    "        elif M_ave <= 2280 and F<= 1:\n",
    "            a_dict_for_markov[memberID][j] = 5\n",
    "        elif M_ave > 2280 and F<= 1:\n",
    "            a_dict_for_markov[memberID][j] = 4\n",
    "        elif M_ave <= 2280 and F > 1:\n",
    "            a_dict_for_markov[memberID][j] = 6\n",
    "        elif M_ave > 2280 and F > 1:\n",
    "            a_dict_for_markov[memberID][j] = 3\n",
    "        \n"
   ]
  },
  {
   "cell_type": "code",
   "execution_count": 56,
   "metadata": {},
   "outputs": [
    {
     "data": {
      "text/plain": [
       "{'2680057180': [0, 0, 0, 0, 0, 0, 0, 0, 2, 1, 2, 5, 6, 2],\n",
       " '2680062581': [1, 1, 4, 2, 1, 4, 1, 0, 0, 0, 0, 0, 0, 0],\n",
       " '2680090688': [0, 0, 0, 0, 0, 0, 3, 3, 3, 6, 2, 1, 1, 4],\n",
       " '2680150989': [5, 4, 2, 2, 1, 1, 1, 1, 1, 1, 1, 1, 1, 0],\n",
       " '2680176181': [0, 1, 1, 1, 5, 1, 0, 5, 1, 2, 1, 0, 2, 0],\n",
       " '2680250588': [4, 2, 4, 2, 4, 1, 4, 1, 1, 2, 1, 1, 1, 2],\n",
       " '2680266881': [1, 4, 5, 2, 0, 0, 0, 0, 0, 0, 0, 0, 0, 0],\n",
       " '2680274480': [1, 1, 1, 5, 1, 0, 0, 0, 0, 0, 0, 0, 0, 0],\n",
       " '2680278781': [4, 1, 2, 2, 2, 2, 3, 4, 2, 1, 0, 3, 2, 4],\n",
       " '2680292480': [2, 0, 1, 4, 4, 1, 1, 2, 3, 4, 3, 3, 4, 1],\n",
       " '2680293382': [0, 0, 1, 1, 0, 0, 4, 2, 1, 2, 2, 2, 4, 1],\n",
       " '2680310384': [1, 0, 1, 0, 5, 2, 0, 1, 2, 0, 1, 0, 0, 0],\n",
       " '2680329288': [0, 0, 0, 0, 0, 0, 1, 2, 5, 1, 4, 1, 1, 1],\n",
       " '2680366182': [2, 5, 0, 0, 0, 0, 1, 5, 4, 3, 1, 0, 2, 0],\n",
       " '2680371189': [0, 0, 0, 0, 5, 1, 2, 0, 5, 1, 2, 1, 0, 0],\n",
       " '2680389388': [5, 2, 1, 1, 1, 2, 1, 1, 1, 1, 2, 1, 2, 4],\n",
       " '2680410681': [1, 5, 1, 2, 5, 1, 1, 1, 0, 1, 2, 1, 1, 1],\n",
       " '2680415684': [0, 0, 0, 0, 0, 0, 0, 0, 6, 3, 3, 4, 3, 3],\n",
       " '2680419688': [0, 0, 0, 0, 0, 0, 0, 0, 5, 0, 1, 0, 0, 1],\n",
       " '2680422783': [2, 1, 1, 1, 2, 3, 2, 2, 1, 1, 2, 2, 2, 1],\n",
       " '2680443980': [2, 0, 0, 0, 0, 0, 1, 0, 5, 1, 2, 1, 1, 4],\n",
       " '2680466181': [1, 1, 1, 1, 0, 5, 0, 0, 0, 0, 0, 0, 0, 0],\n",
       " '2680497483': [0, 2, 1, 0, 1, 0, 2, 1, 4, 2, 4, 2, 1, 1],\n",
       " '2680506788': [0, 0, 4, 2, 1, 2, 0, 0, 1, 0, 0, 0, 0, 0],\n",
       " '2680514381': [5, 0, 1, 1, 0, 0, 0, 0, 0, 1, 1, 0, 0, 0],\n",
       " '2680532289': [1, 2, 2, 1, 6, 2, 2, 5, 2, 1, 2, 1, 2, 1],\n",
       " '2680564281': [2, 6, 0, 0, 1, 1, 1, 6, 2, 2, 4, 2, 2, 2],\n",
       " '2680579389': [0, 0, 0, 0, 0, 4, 4, 0, 0, 0, 0, 3, 3, 0],\n",
       " '2680600689': [1, 5, 2, 2, 0, 0, 0, 0, 0, 0, 0, 0, 0, 0],\n",
       " '2680623684': [0, 0, 0, 6, 1, 0, 0, 0, 0, 0, 0, 0, 0, 0],\n",
       " '2680633189': [0, 2, 1, 0, 5, 0, 1, 0, 4, 0, 2, 0, 0, 0],\n",
       " '2680638483': [1, 1, 1, 0, 4, 0, 0, 0, 1, 1, 0, 0, 0, 0],\n",
       " '2680642182': [0, 1, 4, 5, 2, 0, 0, 2, 1, 4, 0, 1, 0, 0],\n",
       " '2680644982': [0, 0, 1, 4, 1, 1, 0, 0, 0, 0, 0, 0, 1, 0],\n",
       " '2680651283': [0, 0, 0, 0, 0, 0, 0, 0, 0, 0, 0, 0, 6, 2],\n",
       " '2680689684': [1, 3, 3, 5, 3, 6, 4, 3, 3, 3, 3, 3, 6, 6],\n",
       " '2680695289': [0, 0, 0, 0, 6, 1, 0, 0, 2, 2, 5, 0, 0, 1],\n",
       " '2680727684': [0, 0, 0, 0, 0, 0, 0, 0, 5, 1, 1, 0, 0, 1],\n",
       " '2680738384': [0, 0, 0, 0, 0, 0, 0, 0, 0, 1, 5, 1, 0, 1],\n",
       " '2680751189': [0, 0, 6, 6, 0, 3, 3, 0, 6, 0, 3, 6, 6, 6],\n",
       " '2680834489': [0, 0, 0, 0, 0, 0, 0, 1, 0, 0, 0, 5, 2, 2],\n",
       " '2680854181': [0, 0, 0, 0, 0, 0, 0, 0, 4, 0, 0, 0, 0, 0],\n",
       " '2680867183': [0, 0, 0, 0, 5, 2, 1, 1, 1, 1, 1, 0, 1, 0],\n",
       " '2680920381': [0, 1, 1, 5, 2, 5, 2, 4, 2, 2, 2, 2, 1, 2],\n",
       " '2680933588': [4, 4, 2, 3, 4, 2, 3, 5, 0, 1, 0, 1, 1, 3],\n",
       " '2680959681': [0, 0, 1, 0, 4, 0, 0, 0, 5, 1, 2, 1, 0, 1],\n",
       " '2680970288': [0, 0, 0, 0, 0, 0, 0, 4, 2, 2, 2, 1, 2, 1],\n",
       " '2681003883': [1, 2, 2, 2, 6, 2, 6, 5, 2, 4, 2, 2, 2, 2],\n",
       " '2681007788': [4, 5, 5, 2, 4, 2, 5, 5, 6, 2, 5, 2, 2, 6],\n",
       " '2681012082': [1, 1, 0, 4, 2, 0, 0, 1, 1, 0, 2, 0, 0, 1],\n",
       " '2681017182': [0, 0, 0, 0, 0, 0, 0, 0, 0, 0, 4, 5, 2, 5],\n",
       " '2681030384': [0, 3, 2, 4, 4, 2, 3, 4, 4, 1, 4, 1, 1, 3],\n",
       " '2681034689': [0, 0, 0, 0, 0, 0, 0, 6, 1, 1, 5, 1, 5, 1],\n",
       " '2681052782': [0, 0, 0, 0, 0, 0, 0, 0, 0, 0, 1, 4, 2, 1],\n",
       " '2681061281': [2, 3, 2, 4, 2, 2, 1, 2, 2, 2, 2, 2, 2, 2],\n",
       " '2681065784': [0, 0, 0, 1, 5, 1, 3, 1, 2, 2, 0, 2, 3, 2],\n",
       " '2681071182': [2, 2, 2, 2, 2, 2, 0, 6, 1, 3, 4, 2, 2, 4],\n",
       " '2681079789': [0, 0, 0, 0, 4, 0, 0, 0, 2, 4, 2, 1, 4, 4],\n",
       " '2681095788': [1, 4, 2, 2, 2, 2, 2, 1, 2, 2, 2, 2, 1, 1],\n",
       " '2681144181': [0, 1, 1, 2, 6, 2, 5, 2, 3, 1, 2, 2, 1, 2],\n",
       " '2681144281': [3, 2, 3, 4, 4, 2, 2, 5, 3, 4, 4, 5, 4, 4],\n",
       " '2681146584': [0, 2, 6, 6, 1, 1, 5, 4, 0, 0, 1, 1, 0, 0],\n",
       " '2681146683': [0, 0, 0, 0, 0, 0, 0, 0, 6, 0, 6, 0, 3, 3],\n",
       " '2681168489': [2, 2, 0, 1, 1, 0, 0, 6, 2, 2, 1, 1, 0, 4],\n",
       " '2681169684': [1, 2, 2, 5, 5, 2, 4, 2, 2, 5, 2, 6, 2, 2],\n",
       " '2681181981': [2, 4, 6, 4, 2, 1, 6, 4, 6, 3, 3, 5, 4, 1],\n",
       " '2681185588': [0, 0, 0, 0, 0, 0, 0, 0, 0, 4, 1, 0, 0, 0],\n",
       " '2681232389': [0, 2, 4, 4, 2, 2, 4, 2, 2, 3, 4, 1, 2, 1],\n",
       " '2681241689': [3, 1, 4, 4, 2, 4, 3, 3, 4, 4, 4, 4, 2, 4],\n",
       " '2681256389': [1, 4, 1, 0, 0, 2, 2, 4, 4, 6, 2, 2, 2, 2],\n",
       " '2681257288': [5, 0, 1, 4, 1, 1, 1, 2, 0, 0, 0, 0, 2, 2],\n",
       " '2681264589': [0, 0, 0, 1, 6, 1, 1, 1, 2, 1, 2, 0, 2, 1],\n",
       " '2681269084': [0, 0, 0, 0, 0, 0, 0, 0, 0, 4, 2, 0, 1, 3],\n",
       " '2681270588': [1, 0, 0, 1, 1, 5, 0, 1, 0, 1, 1, 0, 1, 1],\n",
       " '2681274880': [0, 0, 0, 0, 5, 0, 0, 0, 0, 0, 0, 0, 0, 0],\n",
       " '2681288183': [1, 1, 3, 2, 0, 5, 1, 0, 0, 0, 0, 0, 0, 5],\n",
       " '2681331581': [0, 0, 1, 4, 0, 0, 0, 4, 1, 2, 2, 4, 1, 1],\n",
       " '2681334784': [1, 1, 2, 5, 3, 3, 2, 1, 1, 1, 0, 2, 0, 0],\n",
       " '2681367983': [1, 3, 4, 4, 3, 2, 4, 4, 4, 2, 3, 5, 1, 6],\n",
       " '2681368484': [0, 0, 0, 0, 0, 0, 0, 0, 4, 1, 1, 2, 1, 1],\n",
       " '2681379983': [4, 2, 4, 1, 0, 0, 0, 0, 0, 0, 0, 1, 0, 4],\n",
       " '2681413688': [0, 1, 1, 5, 2, 2, 2, 1, 4, 0, 2, 1, 2, 2],\n",
       " '2681419682': [0, 0, 0, 0, 0, 0, 0, 4, 4, 2, 1, 0, 0, 1],\n",
       " '2681440980': [0, 0, 0, 2, 5, 0, 0, 1, 1, 1, 0, 2, 0, 0],\n",
       " '2681458384': [2, 4, 4, 2, 4, 3, 4, 3, 3, 6, 2, 2, 3, 3],\n",
       " '2681462780': [0, 5, 1, 1, 5, 5, 1, 5, 4, 2, 2, 1, 2, 4],\n",
       " '2681469682': [0, 2, 4, 1, 2, 1, 0, 0, 0, 0, 0, 0, 0, 0],\n",
       " '2681487380': [4, 1, 1, 5, 0, 0, 0, 0, 0, 0, 2, 5, 5, 0],\n",
       " '2681505189': [0, 0, 0, 0, 0, 0, 0, 0, 0, 0, 0, 0, 0, 5],\n",
       " '2681529888': [1, 1, 2, 1, 1, 2, 6, 2, 3, 6, 1, 0, 0, 0],\n",
       " '2681563383': [0, 0, 0, 4, 0, 0, 0, 0, 0, 1, 1, 0, 0, 1],\n",
       " '2681621881': [0, 0, 1, 1, 4, 1, 0, 1, 4, 2, 2, 1, 1, 1],\n",
       " '2681661381': [4, 5, 1, 3, 1, 0, 0, 1, 1, 0, 1, 3, 5, 1],\n",
       " '2681675182': [2, 4, 2, 2, 4, 3, 2, 2, 2, 2, 3, 3, 3, 6],\n",
       " '2681687583': [6, 0, 5, 6, 3, 5, 6, 6, 6, 5, 2, 5, 5, 6],\n",
       " '2681694880': [0, 2, 6, 2, 1, 4, 2, 1, 2, 0, 2, 1, 1, 2],\n",
       " '2681721383': [6, 4, 2, 4, 4, 0, 4, 2, 4, 3, 1, 0, 3, 3],\n",
       " '2681722981': [1, 1, 4, 1, 2, 1, 1, 0, 0, 5, 5, 1, 1, 2],\n",
       " '2681757584': [1, 0, 1, 1, 3, 5, 0, 0, 1, 1, 4, 1, 0, 1],\n",
       " '2681771482': [1, 2, 4, 2, 2, 2, 2, 2, 2, 1, 1, 1, 1, 1],\n",
       " '2681792984': [0, 4, 0, 1, 0, 1, 2, 0, 0, 0, 0, 0, 0, 0],\n",
       " '2681810680': [0, 0, 0, 0, 4, 1, 4, 1, 2, 4, 2, 1, 0, 5],\n",
       " '2681842683': [0, 0, 0, 2, 4, 1, 1, 0, 2, 0, 2, 0, 1, 1],\n",
       " '2681863488': [1, 2, 2, 4, 2, 0, 0, 0, 0, 0, 0, 0, 0, 0],\n",
       " '2681876288': [0, 0, 0, 0, 0, 0, 0, 5, 5, 4, 2, 5, 1, 2],\n",
       " '2681884584': [0, 0, 2, 1, 5, 1, 1, 1, 5, 1, 2, 0, 0, 0],\n",
       " '2681891382': [0, 5, 3, 2, 5, 2, 6, 2, 1, 5, 6, 2, 2, 0],\n",
       " '2681934181': [0, 0, 0, 0, 0, 0, 0, 0, 0, 0, 0, 0, 0, 3],\n",
       " '2681951581': [3, 4, 2, 3, 2, 0, 0, 2, 2, 1, 1, 1, 2, 2],\n",
       " '2682003482': [0, 0, 0, 1, 5, 1, 1, 2, 1, 1, 2, 0, 0, 1],\n",
       " '2682018289': [0, 0, 0, 0, 0, 0, 0, 0, 5, 0, 0, 0, 0, 0],\n",
       " '2682035182': [0, 0, 2, 0, 0, 1, 4, 1, 2, 1, 4, 1, 5, 0],\n",
       " '2682071288': [0, 0, 1, 0, 5, 0, 0, 0, 2, 0, 1, 0, 0, 0],\n",
       " '2682091880': [6, 2, 5, 5, 6, 1, 0, 4, 3, 1, 2, 0, 1, 1],\n",
       " '2682115883': [0, 0, 0, 0, 0, 4, 2, 4, 3, 2, 2, 0, 1, 1],\n",
       " '2682151081': [0, 0, 0, 0, 5, 0, 1, 0, 1, 0, 1, 1, 0, 0],\n",
       " '2682221182': [1, 1, 4, 4, 3, 3, 4, 3, 3, 4, 3, 4, 4, 3],\n",
       " '2682245184': [0, 1, 0, 4, 0, 0, 0, 0, 0, 0, 0, 0, 0, 0],\n",
       " '2682247984': [1, 1, 1, 2, 6, 2, 3, 2, 4, 3, 2, 2, 6, 5],\n",
       " '2682253784': [0, 0, 0, 0, 0, 0, 1, 4, 2, 0, 1, 0, 0, 0],\n",
       " '2682312581': [0, 0, 0, 0, 0, 0, 0, 0, 0, 0, 5, 1, 0, 5],\n",
       " '2682332780': [2, 1, 1, 6, 1, 0, 0, 0, 0, 0, 0, 0, 0, 1],\n",
       " '2682353489': [6, 1, 2, 6, 2, 5, 2, 2, 6, 2, 2, 1, 1, 2],\n",
       " '2682368184': [0, 0, 1, 1, 5, 0, 0, 0, 2, 1, 2, 1, 0, 0],\n",
       " '2682372688': [0, 0, 0, 0, 0, 0, 0, 0, 0, 0, 5, 1, 2, 1],\n",
       " '2682376780': [1, 1, 5, 3, 1, 1, 5, 4, 5, 5, 5, 0, 0, 1],\n",
       " '2682412581': [0, 4, 0, 1, 0, 0, 0, 0, 0, 0, 0, 0, 0, 0],\n",
       " '2682415384': [1, 3, 4, 3, 5, 2, 5, 2, 2, 2, 4, 2, 2, 3],\n",
       " '2682416889': [0, 0, 0, 0, 0, 0, 0, 0, 0, 2, 5, 0, 0, 0],\n",
       " '2682445881': [0, 0, 0, 5, 2, 1, 0, 1, 1, 1, 0, 0, 0, 0],\n",
       " '2682453180': [1, 1, 2, 2, 3, 1, 1, 1, 4, 1, 2, 1, 1, 4],\n",
       " '2682458181': [0, 2, 5, 5, 2, 2, 1, 1, 1, 2, 1, 1, 1, 1],\n",
       " '2682485482': [5, 5, 6, 2, 3, 1, 6, 2, 2, 1, 5, 2, 1, 2],\n",
       " '2682487183': [0, 0, 4, 0, 0, 1, 0, 1, 0, 2, 5, 2, 2, 2],\n",
       " '2682509880': [0, 0, 0, 2, 3, 1, 2, 2, 2, 1, 1, 0, 0, 0],\n",
       " '2682518489': [0, 0, 0, 1, 1, 1, 0, 0, 0, 0, 0, 1, 2, 5],\n",
       " '2682542588': [6, 1, 0, 1, 1, 0, 0, 1, 0, 0, 0, 0, 0, 0],\n",
       " '2682564988': [0, 0, 0, 0, 0, 0, 0, 4, 1, 1, 1, 0, 0, 0],\n",
       " '2682571289': [0, 0, 6, 0, 1, 0, 0, 0, 1, 0, 0, 5, 0, 0],\n",
       " '2682576688': [0, 0, 5, 0, 0, 0, 0, 0, 0, 1, 0, 0, 0, 0],\n",
       " '2682598589': [1, 1, 1, 1, 0, 1, 1, 2, 2, 3, 3, 2, 2, 1],\n",
       " '2682612288': [0, 0, 0, 0, 0, 0, 0, 0, 5, 2, 0, 0, 0, 0],\n",
       " '2682626684': [6, 6, 0, 5, 0, 0, 6, 6, 0, 5, 0, 6, 6, 2],\n",
       " '2682671583': [0, 5, 2, 1, 4, 0, 0, 0, 0, 0, 1, 0, 0, 1],\n",
       " '2682685981': [0, 2, 3, 4, 5, 2, 1, 2, 3, 5, 2, 5, 5, 2],\n",
       " '2682695584': [0, 0, 0, 0, 5, 1, 1, 1, 0, 0, 0, 0, 0, 0],\n",
       " '2682704584': [0, 0, 0, 0, 0, 0, 0, 0, 4, 1, 2, 0, 0, 1],\n",
       " '2682706782': [2, 4, 4, 4, 4, 3, 4, 4, 4, 4, 2, 2, 3, 2],\n",
       " '2682757281': [5, 2, 5, 2, 1, 2, 1, 1, 1, 1, 2, 1, 1, 0],\n",
       " '2682778089': [0, 1, 0, 0, 1, 0, 1, 0, 2, 2, 2, 4, 5, 2],\n",
       " '2682825688': [0, 1, 5, 1, 1, 1, 0, 0, 1, 0, 0, 0, 0, 0],\n",
       " '2682843883': [0, 0, 0, 0, 0, 3, 4, 0, 0, 0, 0, 0, 0, 0],\n",
       " '2682849781': [0, 5, 1, 1, 4, 1, 0, 2, 1, 1, 0, 0, 0, 1],\n",
       " '2682852881': [0, 0, 0, 0, 0, 0, 0, 0, 0, 0, 0, 0, 6, 2],\n",
       " '2682859184': [0, 0, 0, 0, 0, 1, 0, 0, 1, 4, 2, 2, 2, 1],\n",
       " '2682884588': [4, 4, 2, 1, 1, 2, 1, 2, 1, 1, 0, 0, 0, 0],\n",
       " '2682887781': [4, 1, 0, 0, 1, 1, 1, 0, 0, 2, 1, 1, 2, 1],\n",
       " '2682895182': [2, 1, 6, 4, 6, 1, 1, 1, 4, 1, 2, 5, 1, 0],\n",
       " '2682903883': [2, 1, 1, 1, 2, 5, 2, 1, 2, 1, 1, 1, 2, 1],\n",
       " '2682916084': [0, 0, 0, 0, 0, 1, 1, 1, 1, 5, 0, 1, 1, 1],\n",
       " '2682930880': [0, 0, 0, 0, 2, 3, 0, 4, 4, 1, 1, 2, 1, 1],\n",
       " '2682932184': [3, 3, 3, 3, 3, 3, 2, 2, 2, 3, 3, 3, 3, 3],\n",
       " '2682941980': [0, 0, 0, 0, 0, 0, 0, 0, 5, 0, 0, 0, 0, 0],\n",
       " '2682942988': [0, 0, 0, 2, 1, 4, 2, 2, 1, 2, 1, 1, 0, 1],\n",
       " '2682979084': [0, 0, 0, 5, 5, 1, 1, 1, 2, 0, 2, 1, 1, 1],\n",
       " '2682982088': [0, 0, 0, 0, 0, 0, 0, 0, 5, 6, 6, 5, 5, 5],\n",
       " '2683015582': [2, 2, 5, 5, 5, 2, 4, 2, 5, 5, 2, 5, 5, 4],\n",
       " '2683019981': [0, 0, 0, 0, 0, 0, 4, 1, 1, 0, 0, 0, 0, 1],\n",
       " '2683063280': [0, 1, 0, 1, 4, 1, 5, 0, 4, 1, 2, 1, 0, 0],\n",
       " '2683063983': [4, 2, 4, 0, 3, 4, 2, 4, 2, 2, 1, 4, 3, 2],\n",
       " '2683082381': [0, 0, 0, 0, 0, 0, 0, 0, 0, 0, 0, 0, 0, 5],\n",
       " '2683089088': [0, 4, 1, 0, 0, 1, 1, 1, 1, 2, 0, 1, 0, 0],\n",
       " '2683091383': [1, 4, 2, 2, 3, 1, 1, 1, 1, 1, 2, 1, 2, 1],\n",
       " '2683098584': [0, 3, 1, 0, 0, 1, 3, 1, 2, 1, 4, 5, 6, 1],\n",
       " '2683102688': [4, 1, 1, 1, 5, 1, 1, 1, 4, 1, 2, 1, 1, 1],\n",
       " '2683109982': [0, 0, 0, 0, 0, 0, 0, 0, 4, 1, 0, 1, 1, 0],\n",
       " '2683133988': [0, 0, 0, 0, 0, 0, 0, 0, 0, 0, 0, 0, 6, 1],\n",
       " '2683186088': [0, 0, 0, 0, 0, 0, 0, 0, 0, 0, 5, 1, 6, 0],\n",
       " '2683240781': [0, 0, 0, 0, 0, 2, 6, 2, 2, 1, 0, 0, 0, 0],\n",
       " '2683263688': [3, 2, 3, 3, 2, 2, 6, 3, 5, 4, 2, 5, 4, 4],\n",
       " '2683268183': [1, 3, 2, 2, 3, 1, 1, 5, 2, 2, 2, 1, 2, 2],\n",
       " '2683270182': [0, 0, 0, 3, 3, 4, 2, 3, 2, 2, 0, 1, 0, 1],\n",
       " '2683280881': [0, 0, 0, 0, 5, 2, 2, 1, 2, 0, 2, 0, 1, 0],\n",
       " '2683284983': [2, 1, 1, 0, 0, 6, 0, 0, 0, 0, 0, 0, 0, 0],\n",
       " '2683300989': [1, 0, 0, 5, 1, 0, 1, 0, 5, 1, 2, 2, 5, 5],\n",
       " '2683305480': [0, 0, 1, 0, 0, 0, 1, 5, 2, 2, 2, 1, 0, 0],\n",
       " '2683344583': [4, 2, 6, 2, 5, 5, 2, 2, 2, 2, 4, 4, 2, 2],\n",
       " '2683356289': [0, 0, 0, 0, 0, 0, 0, 0, 0, 0, 0, 0, 0, 5],\n",
       " '2683357783': [1, 0, 1, 0, 0, 0, 0, 6, 6, 1, 0, 0, 0, 0],\n",
       " '2683375782': [0, 6, 5, 6, 6, 6, 2, 2, 1, 6, 5, 4, 0, 0],\n",
       " '2683383983': [1, 5, 2, 0, 0, 1, 1, 0, 6, 0, 2, 1, 0, 0],\n",
       " '2683413984': [2, 2, 4, 2, 2, 2, 1, 2, 5, 2, 1, 0, 1, 1],\n",
       " '2683456189': [0, 0, 1, 4, 4, 5, 2, 3, 4, 4, 2, 6, 2, 2],\n",
       " '2683496783': [0, 0, 0, 0, 0, 0, 0, 0, 4, 1, 1, 0, 0, 0],\n",
       " '2683530381': [1, 2, 2, 1, 2, 1, 1, 1, 4, 5, 2, 1, 2, 5],\n",
       " '2683536283': [0, 0, 0, 3, 1, 5, 1, 4, 1, 5, 1, 0, 0, 5],\n",
       " '2683581282': [2, 2, 0, 0, 0, 3, 3, 0, 0, 5, 1, 2, 6, 6],\n",
       " '2683581482': [0, 0, 4, 3, 3, 2, 2, 2, 4, 5, 2, 5, 2, 1],\n",
       " '2683585589': [0, 0, 0, 0, 0, 0, 0, 0, 4, 0, 0, 0, 0, 0],\n",
       " '2683601188': [0, 0, 0, 0, 0, 0, 0, 0, 0, 2, 4, 0, 0, 0],\n",
       " '2683619388': [1, 5, 5, 5, 5, 5, 2, 1, 2, 2, 2, 2, 2, 2],\n",
       " '2683653688': [0, 0, 0, 0, 2, 0, 0, 0, 5, 1, 2, 1, 2, 2],\n",
       " '2683672982': [0, 0, 0, 0, 5, 1, 0, 0, 0, 0, 0, 0, 0, 0],\n",
       " '2683674489': [0, 0, 0, 4, 3, 4, 1, 5, 0, 0, 1, 0, 0, 0],\n",
       " '2683694481': [0, 0, 4, 5, 5, 2, 2, 2, 1, 1, 2, 0, 1, 1],\n",
       " '2683742281': [3, 5, 1, 1, 1, 1, 1, 4, 1, 1, 5, 1, 1, 1],\n",
       " '2683787389': [0, 0, 0, 0, 0, 0, 0, 0, 0, 0, 0, 0, 5, 0],\n",
       " '2683806389': [0, 0, 0, 0, 0, 0, 4, 2, 0, 2, 6, 2, 2, 2],\n",
       " '2683890980': [1, 2, 6, 6, 2, 4, 2, 3, 6, 3, 2, 4, 4, 6],\n",
       " '2683895589': [1, 0, 0, 1, 1, 0, 1, 1, 0, 1, 1, 3, 2, 1],\n",
       " '2683964183': [0, 0, 1, 0, 0, 0, 0, 0, 5, 2, 2, 6, 1, 0],\n",
       " '2683986082': [2, 4, 1, 1, 0, 0, 0, 0, 0, 0, 0, 0, 0, 0],\n",
       " '2683986589': [0, 0, 0, 0, 0, 0, 0, 0, 0, 0, 1, 5, 1, 0],\n",
       " '2684083589': [1, 5, 2, 2, 2, 2, 2, 2, 4, 2, 2, 1, 1, 1],\n",
       " '2684085788': [0, 0, 0, 0, 0, 0, 0, 0, 0, 0, 0, 0, 5, 0],\n",
       " '2684131189': [0, 0, 0, 0, 0, 0, 0, 0, 0, 5, 5, 2, 2, 2],\n",
       " '2684200183': [3, 6, 2, 5, 4, 2, 5, 2, 2, 2, 5, 2, 2, 2],\n",
       " '2684219180': [0, 0, 0, 5, 1, 1, 0, 1, 4, 0, 5, 0, 0, 0],\n",
       " '2684219283': [1, 1, 1, 2, 3, 2, 1, 1, 4, 6, 2, 2, 2, 2],\n",
       " '2684239584': [0, 1, 1, 2, 1, 0, 5, 0, 1, 2, 1, 1, 0, 0],\n",
       " '2684282489': [0, 5, 1, 1, 1, 1, 1, 0, 0, 0, 0, 0, 0, 0],\n",
       " '2684316382': [0, 5, 0, 2, 5, 2, 2, 2, 4, 4, 0, 0, 0, 0],\n",
       " '2684363681': [1, 0, 5, 1, 1, 1, 1, 0, 1, 0, 0, 0, 0, 0],\n",
       " '2684400981': [0, 0, 0, 0, 0, 0, 0, 6, 2, 2, 2, 1, 4, 3],\n",
       " '2684402688': [4, 1, 1, 0, 2, 2, 0, 0, 0, 0, 0, 0, 0, 0],\n",
       " '2684500383': [1, 5, 4, 5, 1, 0, 0, 0, 0, 0, 0, 0, 0, 0],\n",
       " '2684524682': [0, 6, 0, 0, 0, 0, 0, 2, 2, 2, 3, 1, 1, 4],\n",
       " '2684555683': [0, 0, 0, 0, 0, 0, 5, 0, 1, 0, 1, 0, 0, 1],\n",
       " '2684571683': [0, 1, 5, 2, 5, 1, 1, 1, 2, 1, 2, 2, 1, 0],\n",
       " '2684574880': [0, 4, 2, 1, 0, 0, 0, 0, 0, 0, 0, 0, 0, 0],\n",
       " '2684617284': [0, 0, 6, 0, 0, 0, 0, 0, 0, 0, 0, 0, 3, 1],\n",
       " '2684618380': [0, 0, 0, 0, 5, 1, 1, 0, 1, 0, 0, 0, 0, 0],\n",
       " '2684679884': [0, 0, 6, 1, 1, 0, 0, 0, 0, 0, 0, 0, 0, 0],\n",
       " '2684701688': [0, 2, 1, 5, 1, 0, 1, 0, 0, 0, 0, 0, 0, 0],\n",
       " '2684716182': [0, 0, 5, 0, 1, 0, 0, 0, 6, 1, 2, 1, 0, 0],\n",
       " '2684726588': [0, 0, 5, 5, 2, 2, 2, 2, 0, 0, 0, 0, 0, 0],\n",
       " '2684740489': [0, 0, 0, 0, 0, 0, 0, 4, 5, 4, 2, 2, 2, 4],\n",
       " '2684813582': [1, 2, 5, 2, 6, 1, 1, 1, 0, 1, 1, 1, 1, 1],\n",
       " '2684828084': [0, 0, 0, 0, 0, 0, 0, 0, 0, 0, 0, 0, 6, 1],\n",
       " '2684855782': [0, 0, 0, 0, 5, 1, 0, 1, 1, 0, 1, 0, 1, 1],\n",
       " '2684859282': [0, 1, 0, 0, 0, 1, 0, 1, 4, 2, 1, 0, 1, 1],\n",
       " '2684923081': [0, 5, 4, 1, 0, 1, 0, 1, 0, 0, 1, 0, 0, 1],\n",
       " '2684927681': [0, 0, 0, 0, 0, 0, 0, 0, 0, 0, 0, 0, 0, 4],\n",
       " '2684951784': [0, 0, 0, 0, 3, 5, 5, 2, 4, 1, 2, 0, 0, 0],\n",
       " '2684972183': [0, 0, 0, 0, 0, 0, 2, 0, 4, 1, 2, 1, 1, 1],\n",
       " '2684989580': [0, 0, 0, 2, 5, 2, 2, 2, 0, 0, 1, 1, 0, 0],\n",
       " '2685035688': [0, 0, 0, 0, 0, 0, 0, 0, 5, 2, 2, 2, 2, 2],\n",
       " '2685067781': [0, 0, 0, 0, 5, 2, 2, 2, 0, 0, 0, 0, 0, 0],\n",
       " '2685071388': [0, 0, 0, 0, 0, 0, 0, 0, 0, 0, 0, 0, 5, 5],\n",
       " '2685079589': [0, 0, 0, 0, 5, 1, 1, 0, 0, 0, 2, 2, 5, 6],\n",
       " '2685095980': [0, 0, 0, 0, 5, 1, 1, 1, 1, 2, 0, 0, 2, 0],\n",
       " '2685170988': [0, 0, 0, 0, 0, 0, 2, 1, 2, 1, 1, 2, 3, 2],\n",
       " '2685347280': [0, 0, 0, 0, 0, 0, 0, 0, 0, 0, 5, 0, 5, 1],\n",
       " '2685473481': [0, 0, 0, 0, 0, 0, 0, 0, 4, 1, 0, 0, 0, 0],\n",
       " '2685493481': [0, 0, 0, 0, 0, 0, 0, 0, 0, 0, 3, 3, 4, 2],\n",
       " '2685518982': [0, 0, 0, 0, 0, 0, 0, 0, 6, 2, 1, 1, 1, 1],\n",
       " '2685774589': [0, 0, 0, 0, 0, 0, 0, 0, 0, 6, 2, 2, 5, 6],\n",
       " '2685830183': [0, 0, 1, 1, 5, 0, 1, 2, 2, 1, 1, 1, 2, 2],\n",
       " '2685834989': [0, 0, 0, 0, 0, 0, 0, 0, 0, 0, 0, 3, 6, 1],\n",
       " '2685855584': [0, 0, 0, 4, 2, 2, 2, 2, 2, 2, 2, 6, 2, 1],\n",
       " '2685867783': [0, 0, 0, 0, 0, 0, 0, 0, 5, 1, 1, 0, 0, 0],\n",
       " '2685942982': [0, 0, 0, 0, 0, 1, 0, 4, 1, 0, 6, 0, 6, 0],\n",
       " '2686065089': [0, 0, 0, 0, 0, 0, 0, 0, 0, 0, 0, 0, 5, 2],\n",
       " '2686174484': [0, 0, 0, 0, 0, 0, 0, 0, 0, 0, 0, 0, 6, 5],\n",
       " '2686207584': [0, 0, 0, 0, 0, 0, 0, 0, 0, 0, 0, 0, 5, 6],\n",
       " '2686294189': [0, 0, 0, 0, 0, 0, 0, 0, 0, 0, 0, 0, 5, 2],\n",
       " '2686895582': [0, 0, 0, 0, 0, 0, 0, 0, 0, 0, 1, 5, 6, 1],\n",
       " '2686915588': [0, 0, 0, 0, 0, 0, 0, 0, 0, 0, 0, 3, 3, 1],\n",
       " '2686935080': [0, 0, 0, 0, 0, 0, 0, 0, 0, 0, 0, 6, 6, 6],\n",
       " '2686947683': [0, 0, 0, 0, 0, 0, 0, 0, 0, 0, 0, 3, 2, 2],\n",
       " '2688094681': [6, 6, 3, 6, 6, 4, 4, 3, 6, 3, 3, 3, 6, 6],\n",
       " '2688096380': [0, 0, 0, 0, 5, 1, 0, 0, 0, 0, 0, 0, 0, 0],\n",
       " '2688112582': [0, 0, 5, 1, 1, 1, 0, 0, 1, 0, 0, 0, 0, 0],\n",
       " '2688161481': [6, 1, 0, 0, 0, 0, 0, 0, 0, 5, 1, 0, 1, 0],\n",
       " '2688174082': [0, 0, 0, 0, 4, 6, 0, 0, 2, 1, 0, 0, 0, 0],\n",
       " '2688191688': [0, 0, 0, 0, 0, 0, 0, 0, 1, 6, 0, 2, 0, 0],\n",
       " '2688261081': [0, 0, 0, 0, 0, 0, 0, 0, 0, 0, 0, 5, 1, 1],\n",
       " '2688298781': [1, 1, 2, 2, 3, 3, 5, 3, 3, 4, 3, 4, 5, 2],\n",
       " '2688343281': [0, 0, 0, 0, 0, 0, 0, 0, 0, 0, 0, 0, 0, 5],\n",
       " '2688346482': [0, 0, 0, 5, 2, 0, 0, 0, 0, 0, 0, 0, 0, 0],\n",
       " '2688389189': [0, 0, 0, 0, 0, 0, 0, 0, 4, 1, 1, 0, 0, 0],\n",
       " '2688389980': [0, 0, 0, 0, 0, 0, 0, 0, 0, 0, 0, 0, 6, 1],\n",
       " '2688403082': [5, 5, 6, 4, 6, 2, 6, 1, 6, 4, 5, 6, 1, 1],\n",
       " '2688418983': [1, 1, 1, 5, 1, 1, 5, 2, 1, 5, 5, 6, 2, 2],\n",
       " '2688435789': [0, 0, 0, 0, 0, 0, 0, 0, 0, 0, 0, 0, 0, 5],\n",
       " '2688455681': [0, 0, 0, 0, 0, 0, 0, 0, 4, 3, 2, 2, 1, 0],\n",
       " '2688467182': [0, 1, 1, 0, 1, 1, 0, 0, 5, 0, 0, 1, 1, 0],\n",
       " '2688475583': [0, 0, 0, 0, 0, 0, 0, 0, 0, 0, 4, 0, 1, 1],\n",
       " '2688484588': [0, 1, 4, 1, 0, 1, 1, 0, 0, 0, 0, 0, 0, 0],\n",
       " '2688503789': [0, 4, 3, 2, 2, 3, 2, 4, 2, 4, 2, 1, 1, 2],\n",
       " '2688531589': [1, 2, 0, 1, 1, 1, 0, 0, 4, 4, 2, 0, 1, 1],\n",
       " '2688536389': [0, 0, 0, 0, 6, 0, 1, 2, 4, 0, 1, 0, 4, 0],\n",
       " '2688605988': [0, 0, 0, 0, 0, 0, 0, 0, 5, 1, 2, 0, 0, 0],\n",
       " '2688625282': [0, 3, 3, 3, 3, 2, 3, 4, 5, 2, 2, 2, 2, 6],\n",
       " '2688628180': [0, 0, 6, 1, 1, 0, 1, 0, 0, 0, 0, 1, 2, 4],\n",
       " '2688693784': [0, 1, 1, 1, 5, 1, 1, 2, 2, 2, 2, 1, 0, 0],\n",
       " '2688706880': [4, 2, 4, 5, 2, 4, 2, 2, 2, 2, 2, 2, 2, 6],\n",
       " '2688767081': [4, 1, 1, 4, 3, 6, 5, 6, 3, 3, 5, 2, 6, 1],\n",
       " '2688773581': [0, 0, 0, 0, 0, 0, 0, 0, 3, 1, 0, 0, 0, 0],\n",
       " '2688779684': [0, 3, 6, 2, 2, 2, 2, 2, 5, 2, 2, 2, 1, 1],\n",
       " '2688785189': [0, 1, 2, 2, 4, 2, 0, 0, 0, 6, 2, 0, 0, 0],\n",
       " '2688815581': [0, 0, 0, 0, 0, 0, 0, 0, 1, 3, 0, 2, 5, 1],\n",
       " '2688815583': [0, 5, 1, 1, 2, 1, 0, 0, 1, 0, 0, 0, 0, 0],\n",
       " '2688841288': [0, 0, 0, 5, 2, 1, 1, 1, 0, 1, 1, 1, 0, 1],\n",
       " '2688902689': [0, 1, 0, 0, 0, 1, 0, 0, 1, 1, 4, 2, 2, 1],\n",
       " '2688917182': [0, 1, 1, 4, 4, 1, 0, 2, 4, 2, 2, 0, 1, 1],\n",
       " '2689002083': [0, 0, 0, 1, 0, 1, 1, 2, 4, 2, 2, 1, 1, 2],\n",
       " '2689032781': [0, 0, 2, 5, 2, 2, 1, 0, 2, 1, 2, 0, 0, 0],\n",
       " '2689088082': [1, 2, 3, 2, 1, 2, 2, 3, 3, 4, 4, 1, 0, 2],\n",
       " '2689093881': [0, 0, 0, 0, 0, 5, 2, 1, 0, 0, 2, 0, 0, 0],\n",
       " '2689108889': [0, 0, 0, 0, 0, 0, 0, 3, 3, 5, 1, 0, 3, 3],\n",
       " '2689116583': [0, 0, 0, 0, 6, 1, 1, 0, 1, 0, 1, 1, 0, 0],\n",
       " '2689133084': [0, 2, 2, 4, 4, 3, 3, 4, 3, 2, 4, 4, 4, 3],\n",
       " '2689133683': [1, 4, 2, 2, 2, 4, 1, 2, 4, 2, 1, 2, 1, 2],\n",
       " '2689192488': [4, 2, 2, 2, 4, 6, 5, 3, 2, 2, 5, 1, 1, 1],\n",
       " '2689204480': [0, 0, 0, 0, 0, 0, 0, 0, 0, 0, 0, 0, 0, 4],\n",
       " '2689210983': [0, 0, 1, 2, 0, 1, 4, 1, 1, 2, 2, 0, 1, 1],\n",
       " '2689219781': [0, 1, 0, 0, 2, 0, 0, 2, 5, 1, 4, 0, 0, 5],\n",
       " '2689243288': [2, 2, 4, 3, 4, 1, 5, 5, 3, 4, 2, 2, 2, 2],\n",
       " '2689250084': [1, 4, 2, 4, 3, 2, 2, 3, 2, 4, 3, 2, 2, 4],\n",
       " '2689268080': [4, 3, 3, 5, 3, 5, 4, 3, 3, 2, 2, 5, 3, 3],\n",
       " '2689274782': [0, 0, 0, 4, 3, 2, 2, 6, 4, 4, 3, 5, 2, 2],\n",
       " '2689275781': [4, 3, 5, 2, 2, 1, 0, 2, 1, 1, 2, 0, 0, 0],\n",
       " '2689289382': [0, 0, 0, 0, 0, 0, 0, 0, 0, 0, 0, 0, 6, 1],\n",
       " '2689306789': [0, 0, 0, 0, 0, 6, 0, 0, 2, 4, 2, 1, 2, 2],\n",
       " '2689307582': [0, 0, 5, 0, 0, 0, 5, 2, 3, 4, 2, 2, 2, 2],\n",
       " '2689310289': [0, 1, 2, 0, 3, 3, 0, 4, 2, 1, 1, 0, 0, 3],\n",
       " '2689321289': [0, 0, 2, 5, 0, 3, 5, 2, 4, 2, 2, 2, 1, 2],\n",
       " '2689333182': [0, 5, 1, 0, 1, 2, 6, 2, 1, 1, 5, 1, 2, 1],\n",
       " '2689343284': [0, 1, 4, 4, 1, 1, 0, 2, 5, 1, 2, 1, 1, 4],\n",
       " '2689383782': [0, 0, 3, 4, 0, 4, 0, 0, 1, 3, 3, 3, 4, 0],\n",
       " '2689389989': [1, 1, 1, 4, 1, 0, 1, 0, 1, 1, 1, 1, 0, 2],\n",
       " '2689393783': [0, 0, 0, 0, 0, 0, 0, 0, 5, 0, 0, 0, 0, 0],\n",
       " '2689397480': [2, 2, 6, 5, 5, 1, 1, 5, 2, 3, 2, 3, 4, 5],\n",
       " '2689414180': [0, 4, 2, 2, 2, 2, 1, 2, 2, 2, 2, 1, 0, 0],\n",
       " '2689463588': [0, 0, 1, 6, 0, 0, 0, 0, 0, 5, 3, 4, 6, 0],\n",
       " '2689465381': [0, 0, 0, 0, 0, 1, 0, 5, 1, 3, 2, 2, 1, 1],\n",
       " '2689502184': [0, 0, 2, 4, 4, 1, 1, 0, 0, 0, 0, 0, 0, 0],\n",
       " '2689504681': [1, 2, 4, 1, 1, 1, 1, 0, 1, 0, 1, 0, 1, 0],\n",
       " '2689519581': [0, 0, 0, 0, 0, 0, 0, 6, 5, 0, 0, 0, 0, 3],\n",
       " '2689548780': [0, 5, 6, 5, 2, 1, 5, 1, 2, 2, 2, 2, 2, 0],\n",
       " '2689565688': [1, 0, 3, 0, 2, 1, 0, 0, 1, 0, 0, 2, 4, 1],\n",
       " '2689583881': [0, 0, 0, 4, 3, 1, 0, 1, 4, 1, 0, 1, 0, 0],\n",
       " '2689602081': [0, 1, 1, 0, 4, 5, 2, 1, 4, 2, 4, 2, 2, 2],\n",
       " '2689602589': [1, 5, 2, 2, 0, 0, 0, 0, 0, 0, 0, 0, 0, 0],\n",
       " '2689638783': [0, 0, 0, 0, 0, 0, 0, 2, 5, 1, 1, 0, 0, 0],\n",
       " '2689643183': [0, 0, 5, 5, 5, 0, 2, 1, 2, 0, 4, 0, 5, 6],\n",
       " '2689689584': [0, 0, 0, 0, 5, 0, 0, 0, 2, 0, 0, 2, 0, 0],\n",
       " '2689703384': [0, 0, 1, 1, 1, 1, 1, 0, 1, 4, 2, 1, 1, 2],\n",
       " '2689754384': [1, 2, 0, 0, 1, 1, 1, 0, 0, 0, 0, 0, 0, 4],\n",
       " '2689773084': [2, 0, 0, 0, 4, 0, 0, 0, 3, 4, 1, 2, 6, 6],\n",
       " '2689773983': [0, 3, 5, 3, 4, 5, 3, 4, 3, 3, 4, 4, 3, 5],\n",
       " '2689805282': [1, 0, 2, 1, 2, 1, 1, 1, 4, 0, 4, 4, 2, 4],\n",
       " '2689814689': [0, 0, 0, 0, 0, 0, 0, 0, 0, 0, 0, 1, 6, 1],\n",
       " '2689834184': [0, 0, 0, 0, 0, 0, 0, 0, 0, 0, 0, 0, 6, 1],\n",
       " '2689842788': [1, 3, 5, 3, 2, 3, 2, 4, 4, 3, 4, 4, 2, 4],\n",
       " '2689849788': [0, 3, 3, 6, 6, 4, 3, 3, 3, 3, 3, 2, 2, 4],\n",
       " '2689861683': [4, 1, 0, 1, 1, 1, 0, 0, 0, 0, 0, 0, 0, 1],\n",
       " '2689895589': [1, 1, 5, 6, 5, 1, 2, 6, 6, 2, 2, 2, 6, 2],\n",
       " '2689934380': [1, 6, 6, 2, 2, 6, 6, 5, 3, 2, 6, 6, 6, 2],\n",
       " '2689936783': [5, 5, 3, 5, 6, 1, 1, 1, 0, 2, 2, 4, 1, 2],\n",
       " '2689945989': [0, 0, 0, 6, 1, 0, 1, 1, 1, 1, 2, 1, 0, 1],\n",
       " '2689955388': [0, 1, 1, 2, 3, 0, 2, 0, 4, 1, 0, 2, 4, 3],\n",
       " '2689957180': [5, 2, 1, 1, 4, 0, 1, 3, 5, 1, 2, 1, 4, 2],\n",
       " '2780006104': [0, 1, 1, 4, 1, 5, 4, 4, 2, 3, 2, 1, 3, 5],\n",
       " '2780065202': [0, 0, 0, 0, 0, 0, 0, 0, 0, 0, 0, 4, 1, 1],\n",
       " '2780067608': [0, 0, 0, 0, 4, 4, 3, 5, 2, 2, 6, 2, 5, 6],\n",
       " '2780116409': [0, 0, 0, 0, 0, 0, 0, 5, 0, 1, 0, 0, 0, 0],\n",
       " '2780118809': [4, 2, 2, 2, 0, 0, 1, 1, 0, 0, 0, 2, 2, 0],\n",
       " '2780141104': [0, 0, 0, 5, 6, 0, 0, 0, 0, 5, 0, 0, 1, 0],\n",
       " '2780162304': [4, 0, 1, 1, 0, 1, 0, 1, 0, 0, 0, 0, 0, 0],\n",
       " '2780182609': [0, 0, 0, 0, 6, 6, 1, 5, 3, 2, 2, 2, 2, 1],\n",
       " '2780200308': [0, 1, 1, 0, 4, 1, 1, 1, 0, 1, 0, 0, 0, 0],\n",
       " '2780208209': [0, 0, 0, 0, 2, 1, 4, 2, 1, 2, 1, 1, 1, 2],\n",
       " '2780231200': [0, 1, 6, 1, 2, 1, 0, 1, 1, 1, 1, 1, 1, 1],\n",
       " '2780233804': [2, 1, 1, 0, 2, 4, 2, 1, 1, 1, 1, 0, 0, 0],\n",
       " '2780234208': [0, 0, 0, 1, 4, 1, 1, 1, 2, 1, 2, 1, 1, 1],\n",
       " '2780237000': [2, 1, 1, 0, 0, 0, 0, 4, 0, 1, 1, 5, 0, 0],\n",
       " '2780246404': [0, 0, 1, 1, 5, 0, 1, 1, 2, 1, 2, 0, 0, 1],\n",
       " '2780257603': [0, 0, 0, 0, 0, 0, 0, 0, 5, 2, 1, 1, 1, 1],\n",
       " '2780274504': [0, 0, 0, 0, 0, 1, 0, 0, 5, 1, 1, 0, 0, 0],\n",
       " '2780319302': [6, 2, 2, 2, 1, 2, 5, 2, 2, 1, 2, 1, 1, 1],\n",
       " '2780364404': [0, 0, 0, 0, 4, 1, 1, 1, 2, 1, 1, 0, 1, 1],\n",
       " '2780367109': [0, 0, 0, 0, 0, 3, 6, 3, 6, 3, 6, 6, 5, 5],\n",
       " '2780373909': [3, 5, 3, 6, 3, 3, 4, 2, 3, 3, 4, 4, 5, 3],\n",
       " '2780392303': [0, 0, 0, 0, 0, 0, 0, 0, 0, 0, 0, 0, 5, 0],\n",
       " '2780418602': [0, 0, 0, 0, 0, 0, 0, 4, 6, 2, 4, 2, 4, 4],\n",
       " '2780425702': [6, 1, 0, 0, 1, 0, 1, 2, 4, 0, 1, 1, 0, 0],\n",
       " '2780434909': [0, 0, 0, 0, 0, 0, 0, 0, 4, 0, 1, 5, 0, 1],\n",
       " '2780455809': [0, 0, 0, 0, 0, 0, 0, 0, 4, 2, 3, 2, 2, 1],\n",
       " '2780478500': [0, 0, 1, 1, 0, 0, 0, 0, 0, 1, 4, 2, 4, 4],\n",
       " '2780503101': [5, 2, 2, 2, 1, 1, 0, 0, 2, 5, 1, 1, 1, 1],\n",
       " '2780514602': [0, 0, 0, 0, 0, 0, 0, 0, 4, 0, 1, 0, 0, 0],\n",
       " '2780535500': [0, 0, 1, 0, 1, 3, 2, 1, 5, 5, 2, 5, 2, 4],\n",
       " '2780555609': [1, 2, 3, 1, 1, 1, 1, 0, 1, 1, 1, 0, 0, 0],\n",
       " '2780559901': [0, 0, 0, 0, 0, 0, 5, 1, 0, 0, 0, 0, 0, 0],\n",
       " '2780589601': [0, 0, 0, 0, 0, 0, 0, 0, 0, 0, 0, 4, 0, 0],\n",
       " '2780594401': [0, 0, 0, 0, 6, 5, 5, 4, 2, 1, 1, 0, 1, 1],\n",
       " '2780628504': [0, 0, 0, 1, 5, 0, 1, 1, 2, 0, 2, 1, 1, 1],\n",
       " '2780721703': [5, 1, 0, 1, 2, 0, 0, 0, 1, 1, 0, 4, 4, 1],\n",
       " '2780737503': [0, 0, 0, 0, 5, 1, 0, 0, 0, 0, 0, 0, 0, 0],\n",
       " '2780772101': [1, 1, 0, 5, 6, 2, 2, 1, 2, 4, 3, 5, 1, 1],\n",
       " '2780780008': [0, 0, 0, 0, 1, 0, 2, 2, 4, 4, 1, 0, 1, 1],\n",
       " '2780791604': [1, 3, 4, 5, 1, 2, 4, 2, 5, 4, 2, 3, 1, 4],\n",
       " '2780794702': [0, 2, 4, 2, 1, 0, 0, 0, 0, 0, 0, 0, 0, 0],\n",
       " '2780820004': [0, 0, 0, 0, 3, 0, 1, 2, 0, 5, 1, 1, 3, 3],\n",
       " '2780836102': [2, 5, 2, 6, 6, 5, 0, 0, 1, 0, 0, 5, 1, 0],\n",
       " '2780847503': [0, 0, 0, 0, 0, 0, 0, 0, 0, 0, 0, 6, 2, 2],\n",
       " '2780867104': [0, 1, 1, 4, 4, 2, 2, 2, 1, 1, 1, 0, 1, 0],\n",
       " '2780924904': [0, 0, 0, 0, 0, 0, 0, 0, 2, 1, 4, 1, 0, 0],\n",
       " '2780926609': [0, 0, 0, 0, 0, 0, 0, 0, 5, 2, 2, 1, 1, 1],\n",
       " '2780989609': [0, 5, 2, 2, 2, 1, 0, 2, 2, 1, 2, 1, 1, 1],\n",
       " '2780998301': [0, 0, 0, 0, 0, 0, 0, 0, 0, 1, 5, 1, 0, 0],\n",
       " '2781009409': [0, 0, 0, 0, 0, 0, 0, 0, 0, 0, 0, 0, 5, 0],\n",
       " '2781016209': [0, 0, 0, 0, 0, 0, 0, 0, 1, 5, 2, 1, 0, 0],\n",
       " '2781056101': [0, 0, 0, 0, 0, 0, 0, 0, 5, 0, 1, 1, 1, 0],\n",
       " '2781098403': [0, 0, 0, 1, 2, 1, 1, 0, 3, 0, 0, 0, 0, 1],\n",
       " '2781101002': [0, 1, 1, 0, 0, 0, 0, 0, 1, 0, 4, 0, 0, 0],\n",
       " '2781117008': [0, 0, 0, 0, 0, 0, 0, 0, 0, 0, 5, 0, 0, 1],\n",
       " '2781128404': [1, 2, 6, 2, 2, 2, 2, 2, 2, 2, 2, 1, 1, 2],\n",
       " '2781148403': [1, 1, 0, 0, 0, 0, 0, 1, 1, 4, 2, 1, 0, 0],\n",
       " '2781185704': [0, 0, 0, 0, 0, 0, 0, 0, 4, 5, 2, 1, 1, 0],\n",
       " '2781186702': [0, 0, 0, 0, 0, 0, 0, 0, 0, 5, 2, 5, 0, 1],\n",
       " '2781196409': [1, 1, 0, 1, 1, 1, 5, 2, 1, 2, 2, 2, 2, 2],\n",
       " '2781205202': [1, 5, 1, 5, 6, 1, 1, 1, 2, 1, 5, 1, 2, 0],\n",
       " '2781205600': [0, 0, 0, 0, 0, 0, 0, 0, 0, 0, 0, 0, 0, 4],\n",
       " '2781226400': [5, 5, 2, 2, 5, 1, 1, 4, 1, 0, 1, 1, 1, 0],\n",
       " '2781241103': [0, 0, 0, 0, 0, 0, 0, 0, 0, 0, 3, 1, 1, 0],\n",
       " '2781247108': [5, 2, 2, 2, 2, 6, 5, 2, 6, 3, 5, 5, 2, 1],\n",
       " '2781250804': [0, 0, 0, 0, 0, 0, 5, 5, 4, 2, 3, 1, 1, 0],\n",
       " '2781268901': [0, 0, 6, 6, 0, 0, 0, 3, 3, 5, 6, 0, 6, 3],\n",
       " '2781296803': [0, 0, 0, 0, 0, 0, 0, 0, 0, 0, 0, 5, 2, 2],\n",
       " '2781380709': [0, 0, 0, 0, 4, 1, 2, 2, 0, 1, 0, 0, 0, 0],\n",
       " '2781396404': [0, 1, 2, 0, 1, 0, 1, 2, 1, 5, 4, 2, 2, 2],\n",
       " '2781409302': [0, 0, 0, 0, 6, 5, 2, 6, 5, 1, 2, 1, 1, 0],\n",
       " '2781444400': [1, 3, 2, 2, 3, 3, 3, 6, 6, 2, 3, 6, 3, 5],\n",
       " '2781445604': [0, 5, 2, 2, 1, 5, 2, 5, 2, 3, 1, 0, 6, 2],\n",
       " '2781452304': [0, 1, 0, 0, 2, 5, 1, 5, 1, 1, 0, 0, 0, 0],\n",
       " '2781464403': [1, 0, 1, 1, 4, 0, 1, 1, 3, 2, 2, 4, 5, 3],\n",
       " '2781467904': [0, 0, 0, 5, 2, 1, 0, 1, 0, 0, 0, 0, 0, 0],\n",
       " '2781486504': [0, 0, 0, 0, 0, 0, 0, 0, 5, 2, 2, 0, 0, 0],\n",
       " '2781505501': [5, 2, 1, 1, 1, 1, 0, 0, 0, 0, 0, 1, 0, 1],\n",
       " '2781548902': [0, 1, 5, 2, 2, 1, 0, 0, 0, 0, 2, 0, 0, 0],\n",
       " '2781550600': [0, 0, 0, 0, 0, 0, 0, 4, 6, 6, 1, 2, 6, 2],\n",
       " '2781585904': [0, 0, 0, 0, 0, 0, 0, 3, 3, 1, 2, 0, 1, 1],\n",
       " '2781597804': [0, 0, 0, 0, 0, 0, 0, 3, 1, 2, 2, 2, 0, 0],\n",
       " '2781602708': [1, 1, 1, 2, 6, 5, 5, 1, 2, 1, 1, 0, 0, 0],\n",
       " '2781674102': [0, 0, 0, 1, 4, 6, 0, 1, 0, 1, 0, 0, 0, 0],\n",
       " '2781677502': [0, 0, 2, 5, 1, 1, 1, 1, 5, 1, 1, 1, 5, 1],\n",
       " '2781687002': [0, 1, 0, 0, 3, 1, 1, 6, 2, 2, 2, 1, 1, 0],\n",
       " '2781752002': [1, 0, 0, 0, 1, 6, 0, 1, 0, 0, 4, 1, 0, 2],\n",
       " '2781753804': [5, 0, 1, 1, 2, 1, 0, 0, 2, 0, 1, 0, 2, 0],\n",
       " '2781756109': [0, 0, 0, 0, 0, 0, 0, 3, 3, 2, 2, 0, 3, 1],\n",
       " '2781839908': [0, 0, 0, 0, 0, 1, 1, 5, 2, 1, 2, 1, 0, 0],\n",
       " '2781846009': [3, 3, 4, 1, 1, 1, 5, 1, 4, 3, 3, 2, 4, 3],\n",
       " '2781848308': [5, 5, 2, 0, 0, 0, 0, 0, 0, 0, 0, 0, 0, 0],\n",
       " '2781896900': [0, 0, 0, 0, 0, 0, 0, 0, 0, 0, 0, 0, 6, 0],\n",
       " '2781928601': [4, 4, 1, 1, 4, 6, 1, 4, 4, 2, 2, 2, 1, 3],\n",
       " '2781929909': [0, 0, 5, 0, 1, 0, 0, 0, 1, 0, 1, 1, 0, 0],\n",
       " '2781930003': [3, 2, 4, 1, 4, 1, 0, 3, 3, 1, 2, 0, 1, 3],\n",
       " '2781971404': [0, 1, 3, 1, 1, 2, 0, 1, 4, 4, 2, 1, 1, 4],\n",
       " '2781974600': [1, 2, 2, 3, 5, 1, 2, 1, 4, 6, 2, 4, 2, 5],\n",
       " '2781984100': [0, 0, 0, 0, 0, 0, 0, 0, 0, 0, 0, 0, 0, 5],\n",
       " '2781987403': [4, 4, 4, 0, 0, 4, 3, 2, 2, 5, 2, 5, 2, 4],\n",
       " '2781992508': [0, 4, 2, 2, 1, 2, 0, 0, 2, 5, 1, 2, 5, 4],\n",
       " '2782059101': [0, 0, 4, 1, 3, 5, 2, 5, 3, 2, 4, 2, 3, 4],\n",
       " '2782080804': [4, 1, 1, 0, 1, 1, 0, 1, 1, 1, 1, 0, 0, 1],\n",
       " '2782089509': [0, 1, 0, 1, 5, 1, 1, 4, 1, 1, 0, 0, 4, 1],\n",
       " '2782143804': [0, 0, 3, 4, 2, 2, 1, 1, 0, 1, 1, 0, 0, 0],\n",
       " '2782190204': [4, 2, 1, 5, 5, 1, 2, 6, 2, 1, 2, 1, 2, 1],\n",
       " '2782225803': [0, 0, 2, 0, 5, 1, 2, 0, 0, 0, 2, 0, 1, 1],\n",
       " '2782237704': [0, 0, 0, 0, 0, 0, 0, 0, 0, 0, 0, 0, 0, 3],\n",
       " '2782239501': [0, 0, 0, 0, 0, 0, 0, 0, 0, 5, 1, 0, 0, 0],\n",
       " '2782244709': [0, 0, 0, 5, 2, 0, 0, 0, 0, 0, 0, 0, 0, 0],\n",
       " '2782250700': [2, 2, 3, 5, 2, 1, 2, 2, 2, 2, 2, 2, 1, 2],\n",
       " '2782255002': [5, 2, 2, 2, 5, 1, 0, 0, 1, 4, 1, 0, 0, 0],\n",
       " '2782267203': [3, 0, 0, 0, 3, 4, 6, 3, 3, 3, 6, 6, 2, 4],\n",
       " '2782300608': [0, 0, 0, 0, 5, 0, 1, 0, 0, 0, 0, 0, 0, 0],\n",
       " '2782327803': [0, 0, 0, 0, 0, 0, 0, 0, 0, 1, 3, 1, 0, 0],\n",
       " '2782378500': [0, 0, 0, 0, 0, 0, 0, 0, 0, 0, 4, 1, 0, 0],\n",
       " '2782454409': [0, 1, 1, 1, 4, 2, 1, 1, 0, 1, 2, 0, 0, 0],\n",
       " '2782460702': [0, 0, 0, 0, 6, 0, 6, 0, 6, 5, 0, 4, 5, 5],\n",
       " '2782471609': [1, 4, 1, 1, 2, 1, 0, 1, 2, 2, 4, 4, 1, 0],\n",
       " '2782477004': [0, 0, 0, 0, 0, 1, 4, 0, 0, 0, 0, 0, 0, 0],\n",
       " '2782483400': [0, 0, 5, 1, 1, 1, 2, 0, 0, 1, 2, 1, 1, 1],\n",
       " '2782499503': [0, 0, 0, 0, 0, 0, 0, 0, 5, 1, 2, 1, 0, 0],\n",
       " '2782556504': [0, 4, 5, 1, 1, 1, 1, 0, 6, 1, 1, 1, 1, 0],\n",
       " '2782581600': [1, 0, 0, 0, 0, 1, 1, 4, 3, 3, 3, 2, 5, 6],\n",
       " '2782611609': [0, 0, 0, 0, 0, 0, 0, 0, 4, 6, 6, 2, 6, 4],\n",
       " '2782617309': [0, 2, 2, 2, 0, 4, 6, 2, 5, 2, 6, 6, 6, 5],\n",
       " '2782635204': [3, 2, 1, 2, 2, 5, 1, 2, 2, 2, 2, 2, 2, 1],\n",
       " '2782655602': [3, 2, 2, 3, 2, 6, 2, 2, 4, 1, 2, 3, 6, 2],\n",
       " '2782657100': [0, 0, 0, 0, 0, 0, 0, 0, 4, 1, 2, 1, 1, 1],\n",
       " '2782663502': [0, 0, 0, 0, 4, 2, 0, 0, 0, 0, 0, 0, 0, 0],\n",
       " '2782671104': [4, 0, 5, 0, 0, 5, 0, 0, 2, 0, 4, 1, 0, 4],\n",
       " '2782674003': [0, 5, 0, 1, 0, 0, 2, 5, 0, 0, 1, 0, 0, 0],\n",
       " '2782689003': [0, 3, 2, 1, 3, 1, 0, 0, 4, 0, 2, 0, 0, 1],\n",
       " '2782705104': [1, 1, 0, 1, 4, 0, 4, 0, 1, 0, 0, 1, 1, 0],\n",
       " '2782716903': [0, 0, 0, 2, 4, 2, 2, 2, 2, 2, 2, 2, 2, 2],\n",
       " '2782753001': [3, 6, 6, 5, 3, 5, 6, 3, 5, 3, 6, 6, 5, 6],\n",
       " '2782766203': [4, 6, 3, 4, 4, 6, 3, 3, 3, 4, 4, 4, 6, 5],\n",
       " '2782811109': [5, 0, 2, 1, 5, 5, 1, 0, 0, 0, 0, 0, 0, 0],\n",
       " '2782823201': [0, 0, 1, 5, 5, 0, 0, 1, 2, 2, 5, 2, 5, 1],\n",
       " '2782847904': [0, 0, 0, 6, 2, 1, 0, 0, 0, 0, 4, 1, 1, 0],\n",
       " '2782892800': [0, 0, 0, 0, 0, 0, 0, 0, 0, 0, 4, 6, 0, 4],\n",
       " '2782898204': [0, 0, 0, 0, 5, 0, 0, 1, 2, 1, 2, 0, 0, 1],\n",
       " '2782914503': [0, 0, 0, 0, 0, 0, 0, 0, 4, 4, 0, 0, 1, 1],\n",
       " '2782935903': [0, 0, 0, 0, 0, 0, 6, 3, 4, 5, 6, 2, 2, 2],\n",
       " '2782945200': [0, 0, 0, 0, 0, 0, 0, 0, 0, 0, 2, 5, 4, 2],\n",
       " '2783077103': [4, 2, 3, 3, 6, 3, 6, 1, 2, 5, 2, 2, 2, 2],\n",
       " '2783099503': [0, 0, 0, 0, 0, 0, 0, 0, 1, 5, 2, 5, 2, 2],\n",
       " '2783100703': [0, 0, 0, 0, 0, 0, 0, 0, 0, 0, 2, 1, 0, 4],\n",
       " '2783114203': [5, 2, 2, 2, 4, 1, 0, 0, 0, 0, 0, 0, 0, 0],\n",
       " '2783127200': [0, 0, 0, 0, 0, 0, 0, 0, 0, 0, 0, 0, 0, 6],\n",
       " '2783154703': [0, 0, 1, 0, 1, 1, 1, 6, 2, 5, 2, 1, 1, 1],\n",
       " '2783166100': [0, 5, 2, 1, 1, 0, 1, 0, 1, 0, 1, 0, 0, 0],\n",
       " '2783183204': [1, 0, 0, 5, 1, 0, 1, 0, 1, 1, 1, 0, 1, 0],\n",
       " '2783189004': [4, 4, 6, 2, 2, 2, 1, 2, 2, 5, 2, 1, 6, 6],\n",
       " '2783227600': [0, 5, 4, 2, 1, 0, 0, 3, 6, 5, 6, 1, 4, 1],\n",
       " '2783318003': [0, 1, 1, 2, 1, 2, 4, 1, 1, 1, 2, 0, 1, 1],\n",
       " '2783362902': [0, 0, 1, 1, 4, 5, 1, 1, 0, 0, 0, 0, 0, 0],\n",
       " '2783390501': [0, 0, 4, 1, 4, 1, 1, 0, 0, 0, 0, 0, 0, 0],\n",
       " '2783393604': [2, 5, 5, 2, 6, 2, 2, 5, 2, 6, 2, 2, 2, 6],\n",
       " '2783418500': [0, 0, 0, 0, 0, 5, 6, 0, 0, 0, 0, 0, 0, 0],\n",
       " '2783422309': [0, 0, 0, 0, 3, 2, 0, 1, 4, 2, 0, 1, 0, 2],\n",
       " '2783483701': [5, 2, 2, 2, 2, 2, 1, 2, 1, 0, 0, 0, 0, 0],\n",
       " '2783488500': [0, 3, 2, 2, 4, 5, 2, 2, 3, 3, 3, 2, 4, 4],\n",
       " '2783496503': [0, 0, 0, 0, 0, 0, 0, 6, 2, 2, 1, 1, 4, 1],\n",
       " '2783514403': [0, 0, 0, 0, 0, 0, 0, 0, 0, 0, 0, 5, 1, 1],\n",
       " '2783526200': [0, 0, 1, 1, 0, 1, 4, 0, 1, 1, 0, 0, 0, 0],\n",
       " '2783564603': [1, 0, 0, 1, 4, 2, 2, 5, 6, 2, 4, 1, 2, 2],\n",
       " '2783597500': [4, 2, 2, 0, 0, 0, 0, 4, 2, 2, 4, 2, 2, 2],\n",
       " '2783613003': [2, 1, 0, 1, 5, 2, 1, 1, 2, 0, 2, 1, 0, 0],\n",
       " '2783651402': [1, 2, 1, 6, 4, 1, 1, 4, 2, 1, 3, 5, 1, 1],\n",
       " '2783652800': [0, 1, 0, 0, 5, 0, 0, 0, 5, 1, 0, 0, 1, 1],\n",
       " '2783775003': [0, 0, 0, 6, 6, 1, 1, 1, 1, 1, 2, 6, 1, 0],\n",
       " '2783800602': [0, 1, 1, 2, 5, 0, 1, 1, 1, 0, 0, 1, 1, 0],\n",
       " '2783806103': [0, 4, 0, 1, 1, 1, 0, 1, 1, 4, 1, 0, 1, 1],\n",
       " '2783819008': [0, 1, 2, 5, 1, 2, 1, 0, 1, 1, 0, 0, 0, 0],\n",
       " '2783821303': [0, 0, 0, 0, 0, 0, 0, 0, 0, 0, 0, 0, 3, 2],\n",
       " '2783832001': [0, 0, 0, 0, 0, 0, 0, 0, 0, 0, 0, 0, 6, 0],\n",
       " '2783844908': [2, 4, 3, 4, 3, 4, 4, 4, 3, 4, 2, 2, 3, 2],\n",
       " '2783943800': [0, 0, 0, 0, 5, 6, 0, 5, 5, 5, 2, 1, 1, 1],\n",
       " '2783961003': [0, 0, 0, 0, 1, 4, 0, 0, 0, 0, 0, 0, 0, 0],\n",
       " '2784074708': [0, 0, 0, 0, 0, 0, 0, 0, 0, 0, 0, 6, 0, 0],\n",
       " '2784097701': [0, 4, 3, 3, 3, 0, 4, 5, 3, 2, 2, 1, 1, 6],\n",
       " '2784105709': [0, 0, 0, 0, 6, 2, 1, 1, 0, 1, 0, 0, 0, 0],\n",
       " '2784107000': [0, 0, 0, 0, 0, 0, 0, 0, 0, 0, 0, 0, 3, 0],\n",
       " '2784110008': [0, 0, 0, 0, 0, 0, 0, 0, 0, 0, 0, 0, 5, 1],\n",
       " '2784111308': [0, 2, 2, 1, 5, 2, 2, 1, 2, 2, 2, 1, 0, 0],\n",
       " '2784120508': [0, 6, 1, 6, 1, 0, 0, 0, 0, 0, 0, 0, 0, 0],\n",
       " '2784141201': [0, 2, 0, 0, 0, 0, 6, 2, 1, 2, 0, 2, 1, 4],\n",
       " '2784164404': [0, 2, 5, 1, 1, 0, 0, 0, 0, 0, 0, 0, 0, 0],\n",
       " '2784178700': [1, 1, 4, 2, 2, 1, 1, 1, 2, 1, 1, 0, 0, 0],\n",
       " '2784195803': [0, 0, 0, 0, 6, 1, 0, 1, 2, 1, 0, 0, 0, 0],\n",
       " '2784207108': [2, 5, 1, 2, 4, 1, 1, 1, 0, 1, 1, 1, 0, 0],\n",
       " '2784220709': [0, 2, 2, 1, 5, 0, 0, 2, 4, 2, 2, 1, 1, 0],\n",
       " '2784246803': [0, 4, 0, 0, 0, 0, 0, 0, 0, 0, 0, 0, 3, 4],\n",
       " '2784251404': [4, 2, 3, 2, 2, 2, 2, 2, 3, 3, 2, 2, 3, 3],\n",
       " '2784263303': [0, 0, 0, 0, 3, 2, 1, 0, 1, 1, 1, 0, 0, 1],\n",
       " '2784282709': [3, 6, 3, 5, 4, 5, 2, 3, 3, 3, 3, 5, 6, 3],\n",
       " '2784322209': [0, 1, 0, 0, 0, 1, 0, 0, 4, 0, 0, 0, 0, 0],\n",
       " '2784378302': [0, 0, 0, 0, 0, 0, 1, 1, 5, 1, 1, 0, 0, 0],\n",
       " '2784428302': [0, 0, 0, 0, 0, 0, 0, 0, 0, 0, 0, 0, 5, 0],\n",
       " '2784434103': [0, 2, 2, 2, 3, 1, 0, 0, 0, 0, 0, 0, 0, 0],\n",
       " '2784446902': [4, 1, 2, 1, 1, 1, 0, 0, 0, 0, 0, 0, 0, 0],\n",
       " '2784595808': [0, 5, 1, 0, 0, 2, 2, 2, 6, 1, 5, 1, 0, 4],\n",
       " '2784644608': [0, 0, 0, 0, 1, 1, 0, 2, 5, 5, 2, 1, 0, 2],\n",
       " '2784645803': [0, 0, 0, 0, 0, 0, 0, 0, 4, 1, 2, 1, 2, 1],\n",
       " '2784779709': [0, 0, 0, 4, 1, 0, 0, 0, 5, 5, 1, 0, 5, 0],\n",
       " '2784816104': [0, 5, 5, 2, 1, 5, 5, 2, 2, 1, 2, 1, 6, 2],\n",
       " '2784855301': [0, 1, 1, 5, 6, 5, 6, 6, 6, 3, 6, 3, 3, 6],\n",
       " '2784861202': [1, 0, 5, 5, 2, 5, 1, 1, 1, 1, 5, 1, 5, 1],\n",
       " '2784906804': [0, 0, 0, 1, 1, 1, 0, 0, 5, 1, 2, 1, 0, 1],\n",
       " '2784923303': [0, 0, 0, 1, 0, 2, 1, 5, 2, 1, 2, 1, 4, 5],\n",
       " '2784926103': [0, 0, 0, 0, 0, 0, 0, 0, 0, 0, 0, 0, 3, 0],\n",
       " '2784941800': [4, 1, 4, 2, 1, 2, 2, 2, 4, 1, 4, 4, 1, 2],\n",
       " '2784963503': [0, 2, 1, 0, 0, 1, 1, 1, 4, 1, 0, 0, 0, 0],\n",
       " '2784977200': [1, 1, 0, 2, 4, 0, 2, 6, 3, 5, 4, 2, 4, 1],\n",
       " '2785022001': [0, 0, 0, 0, 4, 0, 0, 1, 1, 2, 1, 1, 1, 1],\n",
       " '2785023609': [0, 0, 1, 0, 3, 0, 0, 0, 0, 0, 0, 0, 0, 0],\n",
       " '2785057900': [0, 0, 0, 0, 6, 4, 0, 0, 0, 0, 4, 1, 0, 1],\n",
       " '2785072104': [0, 0, 0, 0, 5, 1, 1, 1, 0, 2, 1, 1, 0, 0],\n",
       " '2785078501': [0, 0, 0, 0, 4, 1, 1, 0, 1, 0, 1, 0, 1, 0],\n",
       " '2785096101': [0, 0, 0, 0, 6, 0, 6, 4, 1, 4, 1, 1, 2, 2],\n",
       " '2785277209': [0, 0, 0, 0, 0, 0, 5, 0, 0, 5, 0, 1, 0, 0],\n",
       " '2785293408': [0, 0, 0, 1, 1, 0, 5, 2, 1, 0, 1, 2, 0, 2],\n",
       " '2785444602': [0, 0, 0, 0, 0, 0, 0, 1, 4, 3, 4, 2, 5, 3],\n",
       " '2785591708': [0, 0, 0, 0, 0, 0, 0, 0, 0, 0, 0, 0, 0, 5],\n",
       " '2785592708': [0, 0, 0, 0, 0, 0, 0, 0, 5, 0, 0, 0, 0, 0],\n",
       " '2785661003': [0, 0, 0, 0, 0, 0, 0, 0, 0, 0, 5, 1, 0, 0],\n",
       " '2785762409': [0, 0, 0, 0, 0, 0, 0, 0, 0, 5, 0, 0, 0, 0],\n",
       " '2785860801': [0, 0, 0, 5, 3, 2, 2, 2, 2, 1, 2, 0, 1, 2],\n",
       " '2785865600': [0, 0, 0, 0, 0, 0, 0, 0, 5, 5, 2, 1, 0, 0],\n",
       " '2785886204': [0, 0, 0, 3, 3, 3, 3, 2, 3, 5, 2, 1, 4, 3],\n",
       " '2785898809': [0, 0, 0, 0, 0, 0, 0, 0, 6, 0, 2, 1, 0, 0],\n",
       " '2785957100': [0, 0, 0, 0, 0, 2, 0, 5, 0, 0, 4, 0, 1, 4],\n",
       " '2785982409': [0, 0, 0, 0, 5, 2, 2, 2, 2, 1, 6, 1, 2, 1],\n",
       " '2785984009': [0, 0, 0, 0, 6, 2, 1, 0, 0, 0, 0, 0, 0, 0],\n",
       " '2786154409': [0, 0, 0, 0, 0, 0, 0, 0, 0, 0, 0, 0, 4, 1],\n",
       " '2786210803': [0, 0, 0, 0, 0, 0, 0, 0, 0, 0, 0, 0, 3, 2],\n",
       " '2786252202': [0, 0, 0, 0, 0, 0, 0, 0, 0, 0, 0, 0, 1, 5],\n",
       " '2786299202': [0, 0, 0, 0, 0, 0, 0, 0, 0, 0, 0, 0, 6, 0],\n",
       " '2786387608': [0, 0, 0, 0, 0, 0, 0, 0, 0, 0, 0, 0, 0, 5],\n",
       " '2786854800': [0, 0, 0, 0, 0, 0, 0, 0, 0, 2, 5, 2, 1, 0],\n",
       " '2786864600': [0, 0, 0, 0, 0, 0, 0, 0, 2, 1, 5, 2, 4, 2],\n",
       " '2786988909': [0, 0, 0, 0, 0, 0, 1, 1, 1, 2, 4, 2, 1, 2],\n",
       " '2788060908': [1, 4, 0, 0, 0, 0, 0, 0, 2, 4, 0, 0, 5, 0],\n",
       " '2788136108': [1, 6, 6, 6, 6, 6, 1, 1, 6, 2, 5, 6, 4, 6],\n",
       " '2788155808': [0, 0, 0, 5, 4, 2, 1, 1, 6, 1, 2, 2, 0, 0],\n",
       " '2788206702': [6, 5, 2, 2, 5, 2, 2, 6, 5, 5, 5, 2, 2, 2],\n",
       " '2788220501': [0, 0, 0, 0, 0, 0, 0, 5, 2, 2, 0, 4, 5, 5],\n",
       " '2788224300': [0, 0, 0, 0, 1, 1, 1, 1, 5, 1, 2, 1, 0, 0],\n",
       " '2788301903': [0, 0, 0, 0, 0, 0, 0, 0, 5, 0, 0, 0, 0, 0],\n",
       " '2788383101': [4, 4, 4, 3, 5, 5, 2, 6, 2, 3, 4, 4, 4, 2],\n",
       " '2788388503': [0, 0, 0, 0, 0, 0, 0, 0, 0, 1, 0, 1, 5, 1],\n",
       " '2788403002': [0, 1, 0, 0, 0, 0, 0, 0, 0, 0, 3, 2, 3, 2],\n",
       " '2788420600': [1, 1, 1, 0, 4, 1, 0, 0, 0, 0, 0, 0, 0, 0],\n",
       " '2788448908': [0, 0, 0, 0, 0, 0, 0, 0, 0, 0, 0, 0, 0, 4],\n",
       " '2788455008': [0, 0, 0, 0, 0, 4, 1, 2, 2, 1, 2, 1, 0, 0],\n",
       " '2788462602': [0, 1, 0, 5, 0, 5, 0, 1, 1, 4, 1, 6, 6, 3],\n",
       " '2788502604': [0, 1, 0, 0, 0, 0, 4, 4, 1, 0, 1, 2, 1, 1],\n",
       " '2788510403': [2, 3, 4, 4, 2, 3, 4, 4, 2, 3, 3, 2, 2, 4],\n",
       " '2788524200': [0, 0, 0, 0, 0, 0, 0, 0, 1, 2, 4, 1, 1, 2],\n",
       " '2788611902': [0, 1, 1, 0, 5, 0, 0, 0, 0, 0, 0, 0, 0, 0],\n",
       " '2788617901': [1, 6, 2, 2, 2, 4, 1, 2, 3, 4, 4, 0, 1, 5],\n",
       " '2788681603': [1, 1, 1, 5, 2, 1, 0, 1, 1, 1, 2, 1, 0, 1],\n",
       " '2788685800': [1, 0, 0, 1, 1, 1, 5, 1, 0, 1, 1, 0, 0, 0],\n",
       " '2788688102': [2, 2, 4, 2, 3, 3, 5, 4, 2, 2, 2, 2, 3, 2],\n",
       " '2788696701': [1, 2, 3, 1, 4, 1, 1, 2, 2, 0, 1, 0, 0, 0],\n",
       " '2788719404': [4, 2, 1, 1, 0, 0, 1, 2, 1, 1, 2, 2, 2, 1],\n",
       " '2788752204': [0, 1, 1, 0, 4, 4, 4, 2, 1, 1, 2, 2, 4, 4],\n",
       " '2788773904': [1, 2, 2, 1, 5, 5, 6, 5, 2, 2, 2, 2, 1, 3],\n",
       " '2788917609': [0, 0, 0, 0, 0, 0, 0, 0, 0, 5, 5, 5, 2, 6],\n",
       " '2789026202': [0, 0, 0, 0, 2, 1, 0, 6, 1, 1, 0, 1, 0, 0],\n",
       " '2789051100': [1, 1, 2, 5, 5, 1, 2, 5, 0, 5, 0, 0, 0, 0],\n",
       " '2789055601': [0, 0, 0, 0, 0, 0, 0, 0, 0, 0, 0, 0, 5, 1],\n",
       " '2789073208': [0, 0, 0, 0, 0, 0, 0, 0, 0, 0, 4, 0, 1, 1],\n",
       " '2789077509': [0, 0, 0, 1, 0, 0, 0, 0, 6, 1, 5, 5, 2, 0],\n",
       " '2789129101': [1, 2, 2, 2, 2, 2, 2, 2, 6, 5, 1, 6, 4, 6],\n",
       " '2789151608': [1, 2, 2, 1, 4, 1, 1, 3, 1, 0, 0, 0, 1, 1],\n",
       " '2789180108': [0, 0, 0, 0, 4, 1, 1, 0, 2, 1, 2, 1, 1, 0],\n",
       " '2789183808': [0, 0, 0, 0, 0, 0, 0, 0, 0, 0, 0, 1, 5, 1],\n",
       " '2789210904': [1, 1, 1, 1, 1, 0, 0, 0, 5, 2, 4, 2, 1, 1],\n",
       " '2789213402': [4, 4, 2, 1, 2, 2, 1, 0, 0, 0, 1, 1, 1, 0],\n",
       " '2789266304': [0, 0, 0, 0, 4, 2, 0, 1, 4, 1, 2, 1, 1, 1],\n",
       " '2789267801': [0, 2, 2, 1, 4, 0, 2, 4, 4, 4, 2, 1, 5, 4],\n",
       " '2789277801': [0, 0, 0, 0, 0, 0, 0, 0, 0, 0, 0, 4, 0, 5],\n",
       " '2789289804': [0, 1, 2, 4, 1, 2, 2, 1, 2, 6, 1, 0, 0, 0],\n",
       " '2789304500': [2, 4, 6, 2, 2, 2, 6, 6, 2, 6, 4, 2, 4, 5],\n",
       " '2789309409': [0, 1, 1, 4, 1, 0, 0, 0, 0, 0, 4, 4, 2, 5],\n",
       " '2789316101': [0, 5, 2, 5, 5, 3, 4, 3, 4, 2, 2, 2, 5, 5],\n",
       " '2789320301': [1, 5, 5, 4, 4, 6, 1, 4, 1, 6, 2, 1, 2, 2],\n",
       " '2789320400': [0, 1, 2, 2, 0, 0, 1, 1, 0, 6, 2, 0, 1, 0],\n",
       " '2789328900': [0, 0, 0, 0, 1, 0, 0, 0, 5, 1, 0, 0, 0, 0],\n",
       " '2789329709': [0, 0, 0, 0, 0, 0, 0, 0, 0, 0, 4, 0, 3, 6],\n",
       " '2789347003': [0, 0, 0, 0, 0, 0, 0, 0, 0, 0, 3, 1, 0, 0],\n",
       " '2789357001': [0, 0, 0, 0, 0, 0, 0, 4, 2, 1, 1, 6, 0, 0],\n",
       " '2789389101': [0, 0, 0, 0, 0, 0, 0, 0, 4, 1, 0, 1, 1, 0],\n",
       " '2789392104': [0, 0, 0, 0, 0, 0, 0, 0, 0, 0, 0, 0, 0, 5],\n",
       " '2789397508': [0, 2, 2, 4, 2, 4, 2, 2, 2, 2, 2, 2, 2, 2],\n",
       " '2789414408': [0, 0, 1, 2, 3, 2, 5, 1, 6, 2, 5, 1, 4, 1],\n",
       " '2789418104': [0, 0, 0, 0, 0, 0, 0, 0, 0, 0, 0, 0, 0, 5],\n",
       " '2789424109': [0, 0, 4, 2, 2, 1, 0, 1, 2, 1, 1, 0, 0, 0],\n",
       " '2789429209': [0, 3, 0, 0, 2, 3, 4, 3, 0, 0, 0, 0, 0, 0],\n",
       " '2789452603': [0, 5, 4, 5, 4, 1, 0, 0, 3, 5, 6, 4, 3, 6],\n",
       " '2789455901': [0, 0, 0, 0, 5, 1, 1, 0, 0, 0, 1, 0, 0, 0],\n",
       " '2789458102': [0, 4, 4, 2, 0, 0, 0, 0, 0, 0, 0, 0, 0, 0],\n",
       " '2789462402': [0, 0, 0, 0, 0, 0, 0, 0, 0, 0, 0, 0, 5, 1],\n",
       " '2789465201': [0, 0, 0, 0, 0, 0, 0, 0, 0, 0, 1, 1, 5, 1],\n",
       " '2789492203': [1, 2, 0, 1, 2, 1, 1, 1, 0, 4, 1, 0, 3, 1],\n",
       " '2789559603': [2, 1, 2, 2, 1, 5, 4, 1, 2, 2, 2, 1, 1, 4],\n",
       " '2789575604': [0, 0, 0, 0, 5, 2, 1, 1, 1, 1, 2, 1, 0, 1],\n",
       " '2789630400': [0, 0, 1, 0, 0, 0, 1, 1, 4, 1, 1, 0, 1, 0],\n",
       " '2789645604': [0, 0, 6, 1, 0, 0, 1, 0, 1, 0, 0, 0, 0, 0],\n",
       " '2789665303': [0, 3, 0, 0, 0, 0, 0, 0, 0, 3, 5, 0, 0, 0],\n",
       " '2789679502': [0, 3, 2, 3, 4, 5, 5, 6, 6, 5, 2, 2, 6, 4],\n",
       " '2789720502': [1, 2, 3, 3, 6, 0, 2, 1, 6, 4, 2, 0, 4, 4],\n",
       " '2789720809': [0, 2, 2, 2, 2, 3, 2, 1, 4, 2, 2, 5, 4, 1],\n",
       " '2789722203': [0, 0, 0, 0, 0, 0, 0, 0, 0, 0, 0, 0, 3, 2],\n",
       " '2789729608': [0, 0, 1, 1, 4, 4, 0, 1, 1, 1, 0, 0, 4, 0],\n",
       " '2789738808': [1, 6, 3, 6, 2, 1, 5, 5, 4, 1, 1, 1, 0, 1],\n",
       " '2789771704': [0, 0, 0, 0, 0, 0, 0, 0, 5, 0, 1, 1, 0, 0],\n",
       " '2789776103': [0, 5, 2, 2, 2, 5, 5, 6, 5, 2, 2, 6, 5, 2],\n",
       " '2789790609': [0, 0, 0, 6, 2, 2, 2, 1, 2, 2, 1, 2, 5, 5],\n",
       " '2789877004': [0, 0, 0, 0, 0, 5, 2, 0, 0, 0, 0, 0, 0, 0],\n",
       " '2789878200': [0, 6, 2, 6, 3, 2, 2, 2, 3, 6, 2, 5, 4, 5],\n",
       " '2789896904': [1, 4, 1, 0, 0, 1, 0, 0, 1, 0, 1, 0, 0, 0],\n",
       " '2789935000': [0, 0, 0, 0, 0, 1, 2, 4, 1, 0, 0, 0, 5, 1],\n",
       " '3080009618': [5, 2, 2, 1, 2, 2, 1, 2, 2, 1, 1, 1, 1, 0],\n",
       " '3080028510': [0, 0, 1, 0, 5, 0, 0, 0, 4, 5, 1, 0, 0, 1],\n",
       " '3080035618': [0, 0, 0, 0, 5, 2, 1, 0, 0, 0, 0, 0, 0, 0],\n",
       " '3080042714': [4, 1, 2, 5, 2, 2, 0, 0, 0, 0, 0, 0, 0, 0],\n",
       " '3080093710': [0, 0, 0, 0, 0, 0, 0, 0, 0, 0, 5, 2, 2, 2],\n",
       " '3080104718': [4, 0, 2, 1, 5, 4, 2, 4, 6, 4, 3, 6, 3, 5],\n",
       " '3080111810': [1, 0, 5, 1, 0, 0, 0, 0, 0, 0, 4, 4, 1, 0],\n",
       " '3080132810': [1, 0, 0, 0, 5, 1, 5, 0, 5, 0, 1, 1, 1, 0],\n",
       " '3080202819': [0, 1, 1, 4, 1, 5, 1, 1, 2, 1, 0, 0, 0, 0],\n",
       " '3080222811': [0, 0, 0, 0, 0, 0, 0, 0, 0, 0, 1, 6, 1, 0],\n",
       " '3080248918': [0, 0, 1, 3, 0, 0, 1, 1, 5, 1, 0, 0, 1, 1],\n",
       " '3080253918': [4, 2, 2, 0, 0, 0, 0, 0, 0, 0, 0, 0, 0, 0],\n",
       " '3080277719': [2, 3, 4, 2, 2, 2, 5, 4, 2, 4, 2, 2, 4, 6],\n",
       " '3080280714': [0, 5, 1, 1, 1, 4, 0, 0, 0, 0, 0, 0, 0, 0],\n",
       " '3080290119': [1, 1, 0, 1, 4, 0, 0, 1, 5, 1, 2, 1, 0, 0],\n",
       " '3080333313': [0, 0, 0, 5, 2, 2, 1, 2, 2, 0, 2, 0, 0, 0],\n",
       " '3080404812': [0, 2, 5, 1, 0, 1, 1, 1, 1, 1, 2, 0, 0, 0],\n",
       " '3080414518': [1, 0, 0, 0, 4, 1, 1, 5, 1, 0, 1, 0, 0, 0],\n",
       " '3080453812': [0, 0, 0, 0, 0, 0, 0, 0, 4, 2, 1, 0, 0, 0],\n",
       " '3080468011': [0, 2, 1, 1, 1, 6, 6, 1, 1, 5, 6, 0, 0, 0],\n",
       " '3080470112': [2, 2, 5, 5, 6, 2, 3, 5, 3, 6, 2, 6, 6, 6],\n",
       " '3080476513': [0, 5, 1, 0, 0, 0, 0, 2, 4, 0, 1, 0, 1, 1],\n",
       " '3080480313': [0, 0, 0, 0, 0, 2, 2, 6, 2, 2, 2, 2, 1, 1],\n",
       " '3080482412': [0, 2, 4, 1, 4, 2, 2, 6, 2, 4, 2, 0, 0, 0],\n",
       " '3080491413': [0, 0, 0, 0, 0, 0, 1, 4, 1, 1, 1, 0, 2, 1],\n",
       " '3080491610': [0, 0, 0, 0, 4, 2, 2, 2, 1, 1, 2, 0, 0, 0],\n",
       " '3080492518': [0, 4, 4, 0, 0, 0, 0, 4, 3, 4, 4, 1, 1, 4],\n",
       " '3080499514': [2, 2, 2, 1, 2, 2, 1, 0, 0, 0, 0, 0, 3, 2],\n",
       " '3080525118': [0, 0, 0, 0, 0, 0, 0, 5, 0, 1, 5, 0, 3, 5],\n",
       " '3080531211': [0, 0, 4, 1, 0, 0, 2, 2, 2, 2, 1, 0, 0, 0],\n",
       " '3080549212': [5, 0, 0, 0, 0, 0, 0, 2, 2, 1, 2, 0, 0, 1],\n",
       " '3080551219': [0, 0, 0, 0, 0, 6, 5, 0, 1, 0, 1, 2, 2, 3],\n",
       " '3080573610': [0, 0, 0, 0, 0, 0, 0, 0, 5, 0, 1, 0, 0, 0],\n",
       " '3080582913': [0, 0, 0, 0, 0, 0, 0, 0, 0, 0, 0, 0, 3, 0],\n",
       " '3080653319': [3, 6, 4, 5, 6, 5, 6, 6, 6, 4, 3, 1, 1, 1],\n",
       " '3080659514': [6, 2, 2, 5, 2, 6, 2, 2, 2, 2, 2, 1, 2, 2],\n",
       " '3080662314': [0, 0, 0, 0, 0, 0, 0, 0, 0, 0, 0, 0, 5, 0],\n",
       " '3080665113': [0, 0, 0, 0, 0, 0, 0, 0, 0, 0, 0, 0, 5, 0],\n",
       " '3080684210': [0, 0, 0, 6, 3, 2, 1, 5, 6, 6, 2, 2, 2, 6],\n",
       " '3080689819': [1, 1, 3, 2, 2, 1, 5, 5, 6, 1, 2, 0, 0, 1],\n",
       " '3080690112': [0, 0, 0, 0, 5, 2, 0, 1, 5, 0, 2, 0, 0, 0],\n",
       " '3080702313': [0, 0, 0, 0, 0, 0, 0, 0, 0, 0, 4, 0, 6, 0],\n",
       " '3080758014': [1, 2, 4, 4, 2, 1, 1, 1, 5, 1, 2, 5, 5, 1],\n",
       " '3080767713': [0, 6, 1, 1, 4, 1, 1, 0, 0, 0, 1, 0, 0, 0],\n",
       " '3080834912': [0, 0, 1, 1, 4, 0, 1, 4, 0, 4, 0, 0, 0, 0],\n",
       " '3080839714': [0, 0, 0, 0, 0, 0, 0, 0, 0, 0, 5, 1, 0, 1],\n",
       " '3080867311': [0, 1, 0, 3, 1, 1, 0, 0, 0, 4, 6, 0, 0, 0],\n",
       " '3080868314': [0, 0, 0, 0, 0, 0, 0, 0, 0, 0, 0, 6, 0, 0],\n",
       " '3080868814': [0, 0, 0, 5, 1, 2, 0, 0, 1, 1, 0, 1, 0, 0],\n",
       " '3080877214': [0, 0, 1, 4, 0, 0, 2, 0, 1, 0, 1, 0, 0, 0],\n",
       " '3080898811': [0, 1, 5, 1, 1, 1, 1, 0, 0, 0, 0, 0, 0, 0],\n",
       " '3080935812': [2, 2, 5, 3, 2, 5, 5, 1, 2, 2, 4, 4, 1, 1],\n",
       " '3080947318': [4, 4, 1, 0, 3, 2, 0, 1, 1, 0, 3, 4, 1, 1],\n",
       " '3080955418': [5, 6, 4, 5, 2, 0, 2, 1, 1, 2, 4, 2, 1, 2],\n",
       " '3081005818': [0, 0, 0, 0, 0, 0, 0, 0, 0, 0, 0, 0, 5, 5],\n",
       " '3081010819': [0, 0, 0, 0, 4, 2, 2, 2, 2, 1, 2, 2, 2, 1],\n",
       " '3081026318': [0, 0, 0, 0, 0, 0, 0, 4, 2, 2, 5, 1, 2, 1],\n",
       " '3081061212': [0, 0, 2, 6, 2, 4, 5, 6, 2, 2, 4, 0, 0, 0],\n",
       " '3081086714': [0, 0, 0, 0, 0, 0, 0, 0, 0, 1, 5, 1, 0, 0],\n",
       " '3081097810': [0, 0, 0, 0, 0, 0, 1, 5, 6, 1, 5, 5, 2, 1],\n",
       " '3081104112': [0, 0, 0, 0, 0, 0, 0, 2, 4, 5, 5, 2, 2, 1],\n",
       " '3081107414': [0, 0, 0, 0, 0, 0, 0, 0, 0, 0, 0, 0, 0, 4],\n",
       " '3081147714': [0, 0, 0, 0, 3, 0, 0, 0, 5, 0, 0, 0, 0, 3],\n",
       " '3081185713': [4, 4, 3, 3, 4, 6, 5, 6, 6, 2, 5, 1, 2, 5],\n",
       " '3081191412': [0, 0, 0, 0, 0, 5, 2, 0, 1, 0, 0, 0, 0, 0],\n",
       " '3081233819': [0, 1, 3, 6, 2, 2, 1, 0, 2, 2, 2, 2, 0, 0],\n",
       " '3081240719': [0, 2, 5, 1, 3, 5, 1, 0, 1, 0, 1, 2, 0, 0],\n",
       " '3081251012': [0, 0, 1, 1, 4, 1, 1, 1, 1, 1, 2, 2, 1, 1],\n",
       " '3081254118': [0, 0, 0, 2, 1, 1, 2, 5, 1, 0, 0, 1, 1, 1],\n",
       " '3081263012': [4, 6, 6, 5, 3, 3, 1, 4, 6, 5, 6, 3, 3, 5],\n",
       " '3081270719': [1, 0, 0, 0, 0, 0, 0, 0, 2, 0, 4, 2, 6, 2],\n",
       " '3081281911': [0, 4, 2, 1, 0, 2, 2, 1, 0, 1, 2, 1, 1, 0],\n",
       " '3081295811': [0, 0, 0, 0, 0, 0, 0, 5, 2, 6, 2, 0, 0, 2],\n",
       " '3081300110': [1, 2, 2, 2, 6, 2, 2, 6, 2, 5, 2, 2, 2, 2],\n",
       " '3081301410': [1, 0, 4, 2, 0, 5, 1, 0, 0, 1, 6, 1, 1, 0],\n",
       " '3081303913': [0, 0, 0, 0, 0, 0, 2, 1, 4, 0, 1, 0, 0, 0],\n",
       " '3081321212': [0, 0, 0, 0, 0, 5, 0, 0, 1, 0, 2, 1, 0, 0],\n",
       " '3081324119': [1, 3, 3, 2, 4, 4, 4, 2, 4, 2, 1, 1, 2, 2],\n",
       " '3081326912': [0, 5, 1, 0, 0, 2, 0, 1, 1, 0, 0, 0, 0, 0],\n",
       " '3081329511': [0, 0, 0, 0, 1, 4, 1, 0, 2, 4, 2, 0, 0, 0],\n",
       " '3081336618': [4, 3, 2, 3, 3, 3, 4, 3, 4, 2, 6, 3, 4, 2],\n",
       " '3081362010': [0, 1, 3, 2, 2, 1, 0, 0, 2, 1, 1, 0, 1, 1],\n",
       " '3081402212': [0, 0, 0, 0, 0, 5, 2, 0, 5, 2, 2, 4, 6, 6],\n",
       " '3081408614': [0, 0, 4, 0, 0, 1, 1, 0, 1, 1, 4, 2, 2, 1],\n",
       " '3081432812': [0, 0, 0, 0, 4, 0, 1, 1, 4, 2, 1, 1, 1, 0],\n",
       " '3081464319': [0, 0, 0, 0, 0, 0, 0, 0, 0, 0, 0, 0, 5, 0],\n",
       " '3081480518': [0, 2, 2, 2, 0, 0, 0, 1, 0, 0, 3, 3, 5, 2],\n",
       " '3081497913': [0, 0, 0, 0, 0, 0, 1, 4, 2, 4, 2, 1, 4, 2],\n",
       " '3081522212': [0, 5, 6, 2, 2, 2, 2, 2, 2, 2, 2, 2, 2, 2],\n",
       " '3081535313': [4, 2, 2, 2, 2, 2, 2, 1, 1, 0, 0, 1, 1, 0],\n",
       " '3081576310': [0, 2, 2, 2, 5, 2, 2, 2, 2, 2, 2, 5, 5, 2],\n",
       " '3081584613': [0, 0, 4, 0, 0, 0, 0, 0, 4, 0, 4, 0, 0, 0],\n",
       " '3081636210': [0, 5, 0, 1, 4, 2, 2, 6, 2, 1, 2, 2, 6, 1],\n",
       " '3081654718': [1, 0, 1, 1, 5, 1, 1, 0, 0, 1, 1, 1, 1, 2],\n",
       " '3081656819': [0, 0, 0, 0, 0, 0, 0, 0, 0, 0, 0, 0, 5, 1],\n",
       " '3081663718': [2, 2, 5, 2, 2, 2, 2, 5, 2, 3, 5, 2, 2, 2],\n",
       " '3081688919': [0, 1, 1, 3, 0, 0, 0, 1, 0, 4, 1, 5, 4, 0],\n",
       " '3081714618': [0, 0, 0, 0, 0, 0, 0, 0, 0, 0, 0, 0, 0, 3],\n",
       " '3081736310': [0, 0, 0, 0, 0, 0, 0, 5, 1, 1, 1, 1, 0, 1],\n",
       " '3081753818': [5, 6, 2, 5, 2, 2, 5, 1, 1, 4, 5, 5, 2, 2],\n",
       " '3081773110': [0, 0, 0, 0, 6, 2, 1, 1, 2, 4, 4, 0, 0, 0],\n",
       " '3081778418': [0, 2, 2, 1, 2, 6, 2, 2, 2, 2, 2, 2, 3, 1],\n",
       " '3081792811': [0, 0, 4, 5, 1, 1, 0, 0, 0, 0, 0, 0, 0, 0],\n",
       " '3081802419': [3, 4, 4, 2, 3, 6, 4, 4, 2, 2, 4, 2, 4, 4],\n",
       " '3081803310': [1, 0, 0, 1, 0, 1, 6, 2, 2, 2, 2, 1, 1, 2],\n",
       " '3081809213': [0, 1, 3, 4, 3, 5, 5, 2, 4, 2, 2, 2, 4, 2],\n",
       " '3081819414': [0, 0, 0, 0, 0, 0, 0, 0, 5, 2, 2, 2, 2, 1],\n",
       " '3081823811': [1, 6, 2, 2, 4, 2, 2, 4, 4, 2, 2, 5, 2, 5],\n",
       " '3081855611': [5, 5, 2, 0, 0, 0, 0, 1, 2, 2, 2, 0, 0, 0],\n",
       " '3081865418': [0, 0, 0, 0, 4, 2, 2, 6, 2, 1, 2, 1, 1, 1],\n",
       " '3081866418': [0, 0, 0, 0, 0, 0, 0, 4, 4, 0, 0, 0, 0, 4],\n",
       " '3081957418': [0, 0, 5, 2, 1, 0, 0, 0, 0, 0, 0, 0, 0, 0],\n",
       " '3081967619': [6, 6, 2, 6, 3, 3, 2, 4, 2, 2, 6, 2, 3, 0],\n",
       " '3081969510': [0, 0, 0, 0, 0, 0, 0, 0, 3, 1, 2, 2, 1, 1],\n",
       " '3081982714': [0, 0, 0, 0, 1, 1, 0, 5, 1, 1, 1, 1, 0, 0],\n",
       " '3081991519': [0, 0, 2, 1, 2, 1, 5, 1, 0, 0, 0, 0, 0, 0],\n",
       " '3082077912': [0, 0, 0, 0, 0, 1, 0, 4, 2, 2, 2, 2, 2, 2],\n",
       " '3082099510': [2, 2, 2, 4, 2, 1, 2, 2, 2, 2, 2, 2, 2, 2],\n",
       " '3082102619': [0, 0, 0, 0, 0, 0, 0, 0, 0, 0, 0, 3, 0, 0],\n",
       " '3082121219': [0, 0, 0, 0, 0, 5, 2, 1, 1, 1, 1, 0, 0, 0],\n",
       " '3082146710': [0, 4, 2, 2, 5, 1, 5, 5, 1, 2, 1, 1, 1, 1],\n",
       " '3082152019': [4, 2, 2, 3, 2, 4, 4, 2, 2, 2, 2, 3, 2, 2],\n",
       " '3082170519': [0, 5, 1, 0, 3, 2, 0, 3, 2, 3, 4, 4, 2, 4],\n",
       " '3082246014': [1, 1, 4, 1, 2, 1, 2, 3, 4, 2, 4, 1, 2, 2],\n",
       " '3082251211': [0, 0, 0, 0, 0, 0, 0, 0, 4, 1, 0, 0, 0, 0],\n",
       " '3082286410': [5, 1, 6, 2, 6, 6, 5, 5, 5, 1, 6, 0, 2, 5],\n",
       " '3082302118': [1, 6, 6, 2, 5, 1, 2, 4, 2, 2, 2, 1, 6, 1],\n",
       " '3082408118': [0, 0, 0, 1, 1, 0, 1, 1, 4, 1, 2, 0, 0, 1],\n",
       " '3082410811': [5, 1, 1, 0, 0, 0, 0, 0, 1, 0, 0, 1, 1, 1],\n",
       " '3082426813': [0, 0, 0, 0, 6, 1, 2, 4, 1, 1, 4, 1, 0, 0],\n",
       " '3082462814': [5, 2, 2, 0, 0, 0, 0, 0, 0, 0, 0, 0, 0, 0],\n",
       " '3082515014': [0, 0, 0, 1, 4, 2, 1, 0, 2, 1, 2, 1, 0, 1],\n",
       " '3082517718': [4, 5, 4, 4, 2, 5, 2, 4, 2, 2, 2, 2, 5, 4],\n",
       " '3082570110': [0, 0, 0, 0, 0, 0, 0, 0, 0, 0, 0, 0, 0, 5],\n",
       " '3082572814': [0, 0, 0, 0, 0, 0, 0, 0, 0, 0, 0, 5, 0, 0],\n",
       " '3082589411': [0, 0, 5, 2, 2, 1, 1, 0, 1, 0, 1, 0, 0, 0],\n",
       " '3082625710': [3, 5, 4, 2, 2, 5, 3, 5, 2, 2, 5, 2, 2, 2],\n",
       " '3082640219': [0, 0, 0, 0, 2, 0, 2, 2, 4, 4, 2, 1, 2, 2],\n",
       " '3082641413': [0, 0, 0, 5, 1, 0, 0, 0, 1, 0, 0, 0, 0, 6],\n",
       " '3082661912': [0, 1, 2, 5, 0, 0, 1, 1, 5, 5, 0, 2, 1, 2],\n",
       " '3082672011': [3, 4, 1, 0, 2, 3, 2, 1, 0, 1, 1, 2, 1, 1],\n",
       " '3082677518': [1, 1, 5, 4, 1, 1, 1, 0, 1, 5, 2, 1, 5, 2],\n",
       " '3082754311': [0, 0, 0, 0, 3, 0, 0, 0, 2, 0, 2, 1, 1, 1],\n",
       " '3082787619': [0, 0, 0, 0, 0, 4, 1, 1, 2, 2, 2, 2, 1, 2],\n",
       " '3082789113': [0, 0, 0, 4, 1, 0, 5, 0, 0, 0, 0, 0, 0, 0],\n",
       " '3082797710': [0, 0, 0, 0, 0, 0, 0, 0, 0, 0, 3, 1, 1, 1],\n",
       " '3082799714': [0, 0, 0, 0, 0, 0, 0, 0, 0, 0, 0, 3, 2, 1],\n",
       " '3082804813': [1, 2, 1, 3, 4, 6, 3, 6, 6, 3, 4, 5, 6, 5],\n",
       " '3082812018': [0, 1, 2, 1, 5, 1, 2, 2, 2, 1, 2, 5, 2, 2],\n",
       " '3082852212': [0, 0, 0, 1, 2, 4, 4, 2, 2, 2, 4, 3, 5, 3],\n",
       " '3082852612': [0, 0, 4, 3, 3, 3, 2, 2, 4, 2, 6, 3, 4, 4],\n",
       " '3082867914': [0, 0, 0, 0, 0, 0, 1, 4, 2, 1, 0, 0, 2, 4],\n",
       " '3082880512': [0, 0, 5, 1, 0, 1, 0, 1, 1, 0, 0, 0, 0, 0],\n",
       " '3082890611': [0, 1, 0, 4, 2, 1, 0, 0, 1, 0, 0, 0, 0, 0],\n",
       " '3082897613': [0, 0, 1, 0, 5, 1, 5, 1, 0, 0, 1, 0, 0, 0],\n",
       " '3082951114': [1, 2, 2, 2, 4, 1, 2, 4, 3, 2, 2, 5, 4, 2],\n",
       " '3083036612': [1, 3, 3, 4, 2, 2, 2, 4, 2, 1, 0, 0, 0, 0],\n",
       " '3083050910': [0, 0, 0, 0, 0, 0, 0, 0, 0, 0, 3, 1, 1, 1],\n",
       " '3083094911': [0, 0, 0, 0, 0, 0, 0, 0, 0, 0, 0, 0, 0, 5],\n",
       " '3083116310': [3, 6, 3, 3, 3, 6, 3, 3, 3, 3, 4, 3, 4, 4],\n",
       " '3083147013': [2, 4, 5, 2, 3, 2, 2, 2, 3, 2, 3, 2, 2, 5],\n",
       " '3083154313': [0, 1, 1, 0, 5, 0, 0, 0, 1, 0, 0, 0, 0, 0],\n",
       " '3083176218': [0, 0, 0, 0, 0, 4, 6, 2, 6, 2, 6, 6, 2, 2],\n",
       " '3083194318': [4, 2, 2, 4, 4, 1, 0, 4, 2, 1, 1, 1, 1, 0],\n",
       " '3083205319': [0, 0, 0, 0, 0, 0, 0, 0, 0, 0, 0, 0, 0, 6],\n",
       " '3083214612': [0, 0, 2, 2, 0, 6, 2, 2, 6, 4, 6, 2, 1, 5],\n",
       " '3083217118': [0, 0, 5, 0, 5, 1, 1, 5, 0, 1, 5, 3, 6, 5],\n",
       " '3083217912': [1, 2, 5, 2, 2, 2, 6, 2, 5, 4, 2, 2, 4, 2],\n",
       " '3083220511': [0, 0, 0, 0, 0, 0, 0, 0, 2, 6, 2, 2, 2, 5],\n",
       " '3083236110': [0, 5, 1, 1, 6, 4, 6, 4, 3, 6, 5, 4, 6, 5],\n",
       " '3083243411': [1, 5, 2, 3, 2, 2, 2, 2, 2, 2, 2, 2, 1, 1],\n",
       " '3083267813': [5, 2, 2, 2, 2, 4, 2, 2, 2, 2, 4, 2, 4, 2],\n",
       " '3083277512': [6, 4, 1, 0, 5, 2, 5, 5, 2, 5, 5, 5, 2, 5],\n",
       " '3083291319': [0, 1, 0, 0, 5, 1, 0, 1, 2, 0, 0, 0, 0, 0],\n",
       " '3083311014': [2, 2, 4, 2, 4, 2, 2, 4, 3, 2, 4, 6, 6, 2],\n",
       " '3083317310': [0, 3, 6, 2, 4, 1, 2, 1, 6, 6, 2, 1, 3, 6],\n",
       " '3083320011': [0, 0, 5, 6, 6, 1, 0, 0, 1, 1, 2, 2, 3, 2],\n",
       " '3083408912': [1, 5, 5, 2, 2, 0, 0, 0, 0, 0, 2, 0, 0, 0],\n",
       " '3083425811': [0, 0, 0, 0, 0, 0, 0, 0, 3, 1, 6, 3, 5, 5],\n",
       " '3083439914': [1, 0, 1, 0, 0, 0, 5, 1, 1, 1, 1, 0, 0, 0],\n",
       " '3083445212': [0, 0, 0, 0, 0, 0, 0, 0, 2, 5, 0, 0, 0, 1],\n",
       " '3083484711': [2, 5, 1, 1, 5, 2, 1, 1, 6, 1, 2, 1, 2, 1],\n",
       " '3083524512': [0, 0, 0, 4, 2, 1, 0, 0, 0, 0, 0, 0, 0, 0],\n",
       " '3083561513': [0, 0, 5, 1, 1, 0, 1, 0, 0, 0, 0, 0, 0, 0],\n",
       " '3083585013': [4, 5, 1, 2, 2, 0, 0, 2, 4, 1, 0, 0, 0, 0],\n",
       " '3083586914': [0, 0, 0, 0, 1, 6, 5, 2, 2, 1, 2, 1, 2, 1],\n",
       " '3083592711': [0, 0, 0, 0, 0, 0, 0, 0, 0, 0, 0, 0, 6, 1],\n",
       " '3083616019': [0, 6, 2, 2, 5, 2, 2, 2, 5, 5, 3, 0, 1, 2],\n",
       " '3083639513': [0, 0, 4, 0, 1, 2, 2, 1, 1, 0, 1, 0, 1, 2],\n",
       " '3083646110': [0, 1, 2, 1, 3, 5, 5, 5, 3, 6, 3, 6, 3, 3],\n",
       " '3083650014': [4, 2, 3, 2, 5, 1, 2, 2, 2, 4, 1, 4, 4, 1],\n",
       " '3083658111': [0, 0, 0, 0, 0, 0, 0, 0, 0, 0, 0, 0, 6, 0],\n",
       " '3083659711': [1, 5, 2, 1, 2, 4, 4, 3, 3, 3, 5, 0, 5, 2],\n",
       " '3083674119': [1, 6, 1, 1, 1, 1, 1, 0, 1, 1, 1, 1, 1, 1],\n",
       " '3083679612': [0, 0, 0, 0, 0, 0, 0, 0, 0, 0, 0, 0, 5, 2],\n",
       " '3083691418': [4, 6, 1, 1, 1, 5, 5, 1, 2, 2, 2, 1, 1, 1],\n",
       " '3083733814': [0, 0, 0, 0, 0, 0, 0, 0, 0, 0, 0, 0, 5, 0],\n",
       " '3083814912': [0, 0, 0, 0, 0, 0, 0, 0, 4, 1, 1, 0, 0, 0],\n",
       " '3083831413': [2, 2, 2, 2, 2, 4, 2, 2, 2, 2, 5, 2, 6, 3],\n",
       " '3083856018': [0, 0, 0, 0, 0, 1, 0, 0, 4, 1, 2, 0, 0, 0],\n",
       " '3083867811': [0, 0, 5, 1, 1, 2, 2, 1, 1, 0, 0, 0, 0, 0],\n",
       " '3083892412': [0, 0, 0, 0, 5, 3, 4, 2, 0, 4, 2, 0, 0, 0],\n",
       " '3083896413': [1, 1, 5, 2, 2, 2, 1, 1, 5, 1, 2, 1, 0, 2],\n",
       " '3083944411': [0, 0, 0, 0, 0, 0, 0, 0, 0, 0, 0, 0, 0, 4],\n",
       " '3083990712': [0, 2, 5, 2, 5, 0, 1, 2, 4, 2, 2, 0, 1, 1],\n",
       " '3084084312': [0, 4, 4, 4, 1, 1, 0, 0, 2, 0, 0, 0, 1, 4],\n",
       " '3084124712': [1, 5, 2, 1, 1, 0, 0, 0, 0, 0, 1, 1, 0, 0],\n",
       " '3084152113': [1, 3, 3, 2, 3, 6, 6, 3, 3, 2, 3, 3, 2, 3],\n",
       " '3084201910': [2, 2, 6, 3, 3, 2, 3, 5, 6, 2, 2, 2, 2, 4],\n",
       " '3084203310': [0, 0, 0, 0, 5, 2, 2, 1, 2, 2, 2, 2, 5, 2],\n",
       " '3084212513': [1, 1, 1, 2, 5, 5, 2, 1, 1, 1, 2, 1, 2, 1],\n",
       " '3084212519': [0, 6, 5, 0, 0, 0, 0, 1, 2, 2, 2, 1, 1, 0],\n",
       " '3084217119': [0, 0, 0, 0, 0, 0, 0, 4, 2, 2, 2, 2, 4, 2],\n",
       " '3084244612': [2, 0, 1, 5, 0, 0, 0, 0, 0, 0, 1, 0, 1, 0],\n",
       " '3084260014': [0, 0, 0, 0, 0, 0, 0, 0, 0, 0, 3, 1, 1, 1],\n",
       " '3084287211': [0, 0, 3, 2, 4, 1, 1, 5, 1, 5, 2, 1, 2, 0],\n",
       " '3084301810': [0, 0, 0, 0, 4, 0, 0, 1, 0, 1, 0, 0, 0, 0],\n",
       " '3084304211': [0, 0, 0, 0, 0, 0, 0, 0, 4, 1, 0, 0, 0, 0],\n",
       " '3084433018': [0, 6, 6, 5, 6, 5, 5, 2, 2, 2, 2, 1, 2, 2],\n",
       " '3084537912': [1, 4, 1, 1, 1, 1, 0, 0, 1, 0, 2, 1, 1, 0],\n",
       " '3084561614': [0, 4, 0, 6, 1, 1, 1, 6, 5, 5, 0, 0, 0, 6],\n",
       " '3084586314': [0, 6, 6, 0, 5, 1, 5, 0, 0, 0, 0, 0, 0, 0],\n",
       " '3084617513': [0, 0, 6, 1, 6, 1, 1, 2, 1, 6, 1, 1, 6, 4],\n",
       " '3084653919': [0, 0, 5, 1, 1, 1, 4, 0, 0, 0, 0, 0, 0, 0],\n",
       " '3084765910': [0, 0, 0, 6, 0, 0, 5, 0, 0, 0, 0, 1, 1, 0],\n",
       " '3084790012': [0, 0, 3, 4, 4, 3, 3, 4, 3, 4, 3, 6, 3, 3],\n",
       " '3084795719': [0, 0, 6, 2, 5, 1, 0, 0, 0, 0, 0, 0, 0, 0],\n",
       " '3084800811': [0, 0, 4, 1, 4, 0, 0, 0, 2, 0, 0, 0, 0, 0],\n",
       " '3084842318': [0, 0, 0, 0, 5, 2, 2, 2, 1, 2, 2, 2, 2, 2],\n",
       " '3084850210': [0, 0, 0, 0, 0, 0, 0, 0, 0, 0, 4, 2, 1, 0],\n",
       " '3084880113': [0, 0, 0, 0, 0, 0, 0, 5, 2, 0, 0, 0, 0, 0],\n",
       " '3084883312': [0, 0, 0, 0, 0, 0, 0, 0, 5, 0, 0, 0, 0, 0],\n",
       " '3084884711': [0, 0, 0, 0, 0, 0, 6, 0, 0, 5, 0, 1, 0, 1],\n",
       " '3084893911': [0, 0, 0, 0, 0, 0, 4, 1, 1, 0, 0, 0, 0, 0],\n",
       " '3084930319': [0, 0, 0, 0, 1, 1, 1, 0, 1, 1, 1, 0, 1, 5],\n",
       " '3084936314': [0, 0, 0, 0, 0, 0, 0, 0, 0, 3, 1, 0, 2, 4],\n",
       " '3084938613': [0, 0, 0, 0, 0, 0, 2, 0, 3, 1, 0, 0, 0, 0],\n",
       " '3085071714': [0, 0, 0, 0, 4, 0, 1, 1, 2, 5, 5, 0, 0, 4],\n",
       " '3085073919': [0, 0, 0, 0, 4, 1, 0, 0, 2, 1, 2, 0, 0, 0],\n",
       " '3085125411': [0, 0, 0, 0, 0, 0, 0, 0, 4, 1, 1, 1, 0, 0],\n",
       " '3085147318': [0, 0, 0, 0, 0, 0, 0, 0, 0, 5, 1, 4, 2, 2],\n",
       " '3085154212': [0, 0, 0, 0, 0, 5, 1, 1, 1, 0, 0, 0, 0, 0],\n",
       " '3085173111': [0, 0, 0, 0, 0, 0, 0, 0, 0, 0, 0, 0, 6, 0],\n",
       " '3085187213': [0, 0, 0, 0, 0, 6, 2, 0, 2, 2, 2, 1, 5, 2],\n",
       " '3085190719': [0, 1, 0, 0, 0, 5, 0, 0, 0, 0, 0, 0, 0, 0],\n",
       " '3085507311': [0, 0, 0, 0, 0, 0, 0, 0, 0, 0, 0, 0, 6, 2],\n",
       " '3085606011': [0, 0, 0, 0, 0, 0, 0, 0, 0, 0, 5, 6, 0, 6],\n",
       " '3085685710': [0, 0, 0, 0, 0, 0, 0, 0, 0, 0, 0, 0, 3, 1],\n",
       " '3085707211': [0, 0, 0, 0, 0, 0, 0, 0, 0, 6, 3, 3, 3, 3],\n",
       " '3085753518': [1, 1, 2, 1, 1, 0, 1, 2, 1, 3, 5, 2, 2, 6],\n",
       " '3085825419': [0, 0, 0, 5, 5, 5, 5, 6, 0, 1, 5, 2, 5, 5],\n",
       " '3085826911': [0, 0, 0, 6, 1, 0, 0, 0, 0, 0, 0, 4, 1, 0],\n",
       " '3085993418': [0, 0, 0, 0, 5, 2, 5, 5, 6, 5, 6, 2, 1, 1],\n",
       " '3086012911': [0, 0, 0, 0, 0, 0, 0, 0, 0, 1, 3, 5, 2, 5],\n",
       " '3086203314': [0, 0, 0, 0, 0, 0, 0, 0, 0, 0, 0, 0, 5, 2],\n",
       " '3086205018': [0, 0, 0, 0, 0, 0, 0, 0, 0, 0, 0, 0, 5, 2],\n",
       " '3086255119': [0, 0, 0, 0, 0, 0, 0, 0, 0, 0, 0, 0, 0, 5],\n",
       " '3086263810': [0, 0, 0, 0, 0, 0, 0, 0, 0, 0, 0, 0, 0, 6],\n",
       " '3086296711': [0, 0, 0, 0, 0, 0, 0, 0, 0, 0, 0, 0, 5, 2],\n",
       " '3086297418': [0, 0, 0, 0, 0, 0, 0, 0, 0, 0, 0, 0, 3, 0],\n",
       " '3086299918': [0, 0, 0, 0, 0, 0, 0, 0, 0, 0, 0, 0, 3, 0],\n",
       " '3086908918': [0, 0, 0, 0, 0, 0, 0, 0, 0, 0, 4, 3, 1, 0],\n",
       " '3086934811': [0, 0, 0, 0, 0, 0, 0, 0, 0, 0, 0, 0, 3, 0],\n",
       " '3086961114': [0, 0, 0, 0, 0, 0, 0, 0, 0, 0, 0, 6, 0, 0],\n",
       " '3088010312': [0, 0, 0, 0, 0, 0, 4, 2, 1, 1, 0, 0, 1, 0],\n",
       " '3088015214': [0, 0, 0, 0, 0, 0, 0, 0, 0, 0, 4, 4, 6, 4],\n",
       " '3088026311': [1, 2, 2, 1, 2, 5, 4, 2, 1, 4, 4, 1, 0, 0],\n",
       " '3088044011': [0, 0, 0, 0, 4, 0, 1, 1, 4, 2, 4, 1, 2, 1],\n",
       " '3088107613': [0, 1, 0, 1, 5, 1, 0, 0, 0, 0, 0, 0, 0, 0],\n",
       " '3088116711': [4, 1, 1, 1, 0, 0, 0, 1, 0, 2, 0, 1, 0, 1],\n",
       " '3088142514': [0, 0, 0, 0, 0, 0, 0, 0, 0, 5, 0, 1, 6, 5],\n",
       " '3088173319': [0, 0, 1, 5, 0, 0, 1, 4, 1, 0, 1, 0, 0, 0],\n",
       " '3088174710': [1, 1, 0, 3, 5, 4, 2, 2, 2, 0, 4, 1, 1, 4],\n",
       " '3088203018': [0, 0, 0, 0, 0, 0, 0, 0, 0, 0, 0, 0, 0, 4],\n",
       " '3088475818': [1, 6, 5, 2, 6, 2, 2, 0, 0, 0, 1, 1, 0, 2],\n",
       " '3088525314': [0, 0, 0, 0, 0, 0, 5, 5, 4, 1, 2, 5, 2, 4],\n",
       " '3088556113': [0, 0, 0, 0, 0, 0, 0, 0, 0, 0, 0, 0, 4, 1],\n",
       " '3088578614': [0, 0, 0, 0, 5, 1, 0, 0, 2, 0, 2, 0, 0, 0],\n",
       " '3088578918': [1, 5, 2, 4, 2, 1, 5, 1, 6, 2, 4, 2, 3, 3],\n",
       " '3088579910': [0, 4, 0, 0, 1, 1, 4, 1, 0, 0, 0, 0, 0, 0],\n",
       " '3088603910': [0, 0, 0, 1, 4, 1, 0, 0, 0, 0, 0, 0, 0, 0],\n",
       " '3088613913': [0, 3, 2, 2, 2, 2, 2, 2, 2, 2, 2, 1, 1, 1],\n",
       " '3088619414': [0, 2, 5, 1, 1, 0, 1, 3, 2, 0, 0, 0, 3, 1],\n",
       " '3088625510': [0, 0, 0, 0, 0, 0, 0, 0, 0, 0, 0, 0, 6, 1],\n",
       " '3088679513': [0, 0, 0, 0, 0, 0, 0, 5, 5, 1, 1, 4, 2, 1],\n",
       " '3088689419': [0, 0, 0, 0, 0, 0, 0, 0, 0, 0, 0, 0, 0, 6],\n",
       " '3088698011': [4, 1, 4, 0, 1, 1, 1, 0, 0, 0, 0, 0, 0, 0],\n",
       " '3088776810': [1, 4, 4, 4, 4, 3, 2, 2, 3, 4, 4, 2, 1, 1],\n",
       " '3088845719': [0, 0, 1, 0, 0, 0, 1, 1, 1, 0, 0, 0, 0, 5],\n",
       " '3088854210': [0, 0, 0, 0, 4, 1, 1, 0, 2, 1, 1, 0, 1, 1],\n",
       " '3088901919': [0, 0, 1, 1, 0, 1, 2, 0, 4, 3, 0, 0, 0, 0],\n",
       " '3088917811': [1, 1, 1, 4, 1, 1, 0, 0, 0, 2, 2, 0, 1, 1],\n",
       " '3088950114': [0, 6, 2, 5, 1, 1, 0, 4, 6, 2, 2, 2, 6, 2],\n",
       " '3089006312': [0, 1, 1, 1, 4, 1, 2, 1, 4, 1, 4, 1, 1, 1],\n",
       " '3089010613': [0, 0, 0, 0, 0, 0, 0, 0, 0, 5, 0, 0, 3, 4],\n",
       " '3089089213': [3, 2, 6, 1, 0, 4, 6, 4, 4, 5, 4, 1, 2, 2],\n",
       " '3089104219': [0, 0, 0, 0, 0, 0, 0, 0, 0, 0, 0, 0, 0, 6],\n",
       " '3089126210': [0, 0, 0, 0, 0, 3, 0, 4, 6, 5, 0, 0, 0, 0],\n",
       " '3089211412': [4, 2, 2, 2, 0, 0, 0, 0, 0, 1, 2, 2, 1, 1],\n",
       " '3089227714': [0, 0, 0, 0, 0, 0, 0, 0, 4, 4, 1, 1, 5, 5],\n",
       " '3089233814': [2, 2, 2, 4, 1, 4, 2, 1, 1, 0, 0, 0, 0, 0],\n",
       " '3089246314': [0, 0, 0, 0, 0, 0, 0, 0, 3, 1, 2, 0, 0, 6],\n",
       " '3089260213': [1, 6, 6, 6, 5, 1, 4, 5, 6, 5, 2, 6, 5, 5],\n",
       " '3089292513': [1, 4, 2, 4, 1, 1, 1, 0, 0, 0, 0, 0, 0, 0],\n",
       " '3089308114': [4, 6, 1, 1, 1, 0, 0, 1, 4, 3, 1, 1, 3, 5],\n",
       " '3089321011': [1, 3, 2, 1, 2, 4, 4, 2, 2, 2, 1, 1, 1, 2],\n",
       " '3089324811': [0, 0, 0, 0, 2, 4, 0, 0, 0, 0, 2, 1, 0, 0],\n",
       " '3089387319': [1, 1, 2, 0, 1, 5, 1, 1, 1, 0, 0, 0, 0, 0],\n",
       " '3089392412': [0, 0, 0, 0, 0, 0, 0, 0, 0, 6, 1, 0, 0, 0],\n",
       " '3089395211': [0, 0, 0, 0, 0, 0, 0, 0, 0, 5, 6, 0, 0, 0],\n",
       " '3089403812': [0, 0, 0, 0, 0, 0, 0, 0, 5, 0, 0, 0, 1, 0],\n",
       " ...}"
      ]
     },
     "execution_count": 56,
     "metadata": {},
     "output_type": "execute_result"
    }
   ],
   "source": [
    "a_dict_for_markov"
   ]
  },
  {
   "cell_type": "code",
   "execution_count": 57,
   "metadata": {},
   "outputs": [
    {
     "data": {
      "text/plain": [
       "[2, 1, 1, 1, 2, 3, 2, 2, 1, 1, 2, 2, 2, 1]"
      ]
     },
     "execution_count": 57,
     "metadata": {},
     "output_type": "execute_result"
    }
   ],
   "source": [
    "a_dict_for_markov['2680422783']"
   ]
  },
  {
   "cell_type": "markdown",
   "metadata": {},
   "source": [
    "# 以下是 compute_proportion.ipynb加上來的部分"
   ]
  },
  {
   "cell_type": "code",
   "execution_count": 58,
   "metadata": {},
   "outputs": [],
   "source": [
    "#測試假設一個group有以下三人，丟入此三人的個月份的分群\n",
    "a_list_of_group_buyer_route = [a_dict_for_markov['2680250588'],a_dict_for_markov['2680266881'],a_dict_for_markov['2680633189']]"
   ]
  },
  {
   "cell_type": "code",
   "execution_count": 59,
   "metadata": {},
   "outputs": [],
   "source": [
    "#取得路徑名稱\n",
    "def pathname(from_,to):\n",
    "    return \"{}\".format(from_) + \" to \" \"{}\".format(to)"
   ]
  },
  {
   "cell_type": "code",
   "execution_count": 60,
   "metadata": {},
   "outputs": [],
   "source": [
    "#丟入a_list_of_group_buyer_route \n",
    "#ex:丟入a_list_of_group_buyer_route = [[5,6,4,3,2,1,1,1,1,1,1,1,1,1],\n",
    "# [4,3,2,5,1,1,1,1,1,1,1,1,1,1],\n",
    "# [1,1,2,3,4,5,6,1,1,1,1,1,1,1],\n",
    "# [1,1,2,2,2,2,2,1,1,1,1,1,1,1],\n",
    "# [1,1,1,1,2,2,2,3,3,4,4,5,6,6],\n",
    "# [1,1,1,1,1,1,1,1,5,1,1,1,1,1]]\n",
    "\n",
    "\n",
    "def compute_path_count(a_list_of_group_buyer_route):\n",
    "    #儲存所有路徑的dict, ex: 1->6,2->6 等等 \n",
    "    path_dict = {}\n",
    "\n",
    "    #需先儲存此人上一個的群\n",
    "    last_classification = 0\n",
    "\n",
    "    #iterate through every list in the group\n",
    "    for i in a_list_of_group_buyer_route:\n",
    "        #iterate every classification in each member in the group\n",
    "        first = True\n",
    "        for j in i:     \n",
    "            #如果是第一月，沒有路徑，直接跳到下一個月份\n",
    "            if(first):\n",
    "                last_classification = j\n",
    "                first = False\n",
    "                continue\n",
    "\n",
    "            #儲存路徑，ex: {5 to 6 : 1} 代表5到6有一次\n",
    "            else:\n",
    "                #把該路徑的count+1\n",
    "                try:\n",
    "                    path_dict.update( { pathname(last_classification,j) : path_dict[pathname(last_classification,j)] + 1 } )\n",
    "                #第一次出現路徑的情況，就設1\n",
    "                except:\n",
    "                    path_dict.update( { pathname(last_classification,j) : 1 } )\n",
    "                last_classification = j\n",
    "    return path_dict"
   ]
  },
  {
   "cell_type": "code",
   "execution_count": 61,
   "metadata": {},
   "outputs": [],
   "source": [
    "path_dict = compute_path_count(a_list_of_group_buyer_route)"
   ]
  },
  {
   "cell_type": "code",
   "execution_count": 62,
   "metadata": {},
   "outputs": [
    {
     "data": {
      "text/plain": [
       "{'4 to 2': 2,\n",
       " '2 to 4': 2,\n",
       " '4 to 1': 2,\n",
       " '1 to 4': 2,\n",
       " '1 to 1': 3,\n",
       " '1 to 2': 2,\n",
       " '2 to 1': 2,\n",
       " '4 to 5': 1,\n",
       " '5 to 2': 1,\n",
       " '2 to 0': 2,\n",
       " '0 to 0': 11,\n",
       " '0 to 2': 2,\n",
       " '1 to 0': 2,\n",
       " '0 to 5': 1,\n",
       " '5 to 0': 1,\n",
       " '0 to 1': 1,\n",
       " '0 to 4': 1,\n",
       " '4 to 0': 1}"
      ]
     },
     "execution_count": 62,
     "metadata": {},
     "output_type": "execute_result"
    }
   ],
   "source": [
    "path_dict"
   ]
  },
  {
   "cell_type": "code",
   "execution_count": 63,
   "metadata": {},
   "outputs": [],
   "source": [
    "def compute_path_proportion(path_dict):\n",
    "    #先計算所有路徑的次數 total_count\n",
    "    total_count = 0\n",
    "    for values in path_dict.values():\n",
    "        total_count += values\n",
    "    #開始把所有路徑轉為proportion\n",
    "\n",
    "    path_divided_by_all_proportion = {}\n",
    "    for key, value in path_dict.items():\n",
    "        path_divided_by_all_proportion.update({key : (value/total_count)})\n",
    "\n",
    "    #一組group的route機率 divided by classification\n",
    "    path_divided_by_classification_proportion = {}\n",
    "    #from_count 記錄從某一個classification分出去的總數  Ex : 5 to 1為2 ,5 to 6為 3  則from count有{ 5 : 2+3}\n",
    "    from_count = {}\n",
    "\n",
    "    for key, value in path_dict.items():\n",
    "        try:\n",
    "            from_count.update({str.split(key)[0] : from_count[str.split(key)[0]]+value})\n",
    "        except: #處理第一次dict沒key的情況\n",
    "            from_count.update({str.split(key)[0] : value})\n",
    "    for key, value in path_dict.items():\n",
    "        for from_key, from_count_value in from_count.items():\n",
    "            if(str.split(key)[0]==from_key):\n",
    "                path_divided_by_classification_proportion.update({key : (value/from_count_value)})\n",
    "\n",
    "    return path_divided_by_all_proportion,path_divided_by_classification_proportion"
   ]
  },
  {
   "cell_type": "code",
   "execution_count": 64,
   "metadata": {},
   "outputs": [
    {
     "data": {
      "text/plain": [
       "{'4 to 2': 0.05128205128205128,\n",
       " '2 to 4': 0.05128205128205128,\n",
       " '4 to 1': 0.05128205128205128,\n",
       " '1 to 4': 0.05128205128205128,\n",
       " '1 to 1': 0.07692307692307693,\n",
       " '1 to 2': 0.05128205128205128,\n",
       " '2 to 1': 0.05128205128205128,\n",
       " '4 to 5': 0.02564102564102564,\n",
       " '5 to 2': 0.02564102564102564,\n",
       " '2 to 0': 0.05128205128205128,\n",
       " '0 to 0': 0.28205128205128205,\n",
       " '0 to 2': 0.05128205128205128,\n",
       " '1 to 0': 0.05128205128205128,\n",
       " '0 to 5': 0.02564102564102564,\n",
       " '5 to 0': 0.02564102564102564,\n",
       " '0 to 1': 0.02564102564102564,\n",
       " '0 to 4': 0.02564102564102564,\n",
       " '4 to 0': 0.02564102564102564}"
      ]
     },
     "execution_count": 64,
     "metadata": {},
     "output_type": "execute_result"
    }
   ],
   "source": [
    "compute_path_proportion(path_dict)[0] #此為divided by all 的比率 即 各分群到令一分群count/所有路徑的count"
   ]
  },
  {
   "cell_type": "code",
   "execution_count": 65,
   "metadata": {},
   "outputs": [
    {
     "data": {
      "text/plain": [
       "{'4 to 2': 0.3333333333333333,\n",
       " '2 to 4': 0.3333333333333333,\n",
       " '4 to 1': 0.3333333333333333,\n",
       " '1 to 4': 0.2222222222222222,\n",
       " '1 to 1': 0.3333333333333333,\n",
       " '1 to 2': 0.2222222222222222,\n",
       " '2 to 1': 0.3333333333333333,\n",
       " '4 to 5': 0.16666666666666666,\n",
       " '5 to 2': 0.5,\n",
       " '2 to 0': 0.3333333333333333,\n",
       " '0 to 0': 0.6875,\n",
       " '0 to 2': 0.125,\n",
       " '1 to 0': 0.2222222222222222,\n",
       " '0 to 5': 0.0625,\n",
       " '5 to 0': 0.5,\n",
       " '0 to 1': 0.0625,\n",
       " '0 to 4': 0.0625,\n",
       " '4 to 0': 0.16666666666666666}"
      ]
     },
     "execution_count": 65,
     "metadata": {},
     "output_type": "execute_result"
    }
   ],
   "source": [
    "compute_path_proportion(path_dict)[1] #此為 divided by classification的比率 即 假設4 to 2有3次,\n",
    "# 4 to 5有5次 則4 to 2的比率為 3/(3+5) = 3/8 而不考慮其他 比如說1 to 3, 1 to 5之類的次數"
   ]
  },
  {
   "cell_type": "code",
   "execution_count": null,
   "metadata": {},
   "outputs": [],
   "source": []
  }
 ],
 "metadata": {
  "kernelspec": {
   "display_name": "Python 3",
   "language": "python",
   "name": "python3"
  },
  "language_info": {
   "codemirror_mode": {
    "name": "ipython",
    "version": 3
   },
   "file_extension": ".py",
   "mimetype": "text/x-python",
   "name": "python",
   "nbconvert_exporter": "python",
   "pygments_lexer": "ipython3",
   "version": "3.7.3"
  }
 },
 "nbformat": 4,
 "nbformat_minor": 2
}
