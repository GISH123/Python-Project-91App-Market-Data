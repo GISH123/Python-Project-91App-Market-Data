{
 "cells": [
  {
   "cell_type": "code",
   "execution_count": 2,
   "metadata": {},
   "outputs": [],
   "source": [
    "import numpy as np\n",
    "import pandas as pd"
   ]
  },
  {
   "cell_type": "markdown",
   "metadata": {},
   "source": [
    "# 開始計算各個月份的proportion"
   ]
  },
  {
   "cell_type": "code",
   "execution_count": 21,
   "metadata": {},
   "outputs": [],
   "source": [
    "#取得路徑名稱\n",
    "def pathname(from_,to):\n",
    "    return \"{}\".format(from_) + \" to \" \"{}\".format(to)"
   ]
  },
  {
   "cell_type": "code",
   "execution_count": 27,
   "metadata": {},
   "outputs": [],
   "source": [
    "#假設此組group有六個人，在這十四個月分別是屬於以下群\n",
    "testlist = [[5,6,4,3,2,1,1,1,1,1,1,1,1,1],\n",
    "[4,3,2,5,1,1,1,1,1,1,1,1,1,1],\n",
    "[1,1,2,3,4,5,6,1,1,1,1,1,1,1],\n",
    "[1,1,2,2,2,2,2,1,1,1,1,1,1,1],\n",
    "[1,1,1,1,2,2,2,3,3,4,4,5,6,6],\n",
    "[1,1,1,1,1,1,1,1,5,1,1,1,1,1]]\n",
    "\n",
    "\n",
    "#儲存所有路徑的dict, ex: 1->6,2->6 等等 \n",
    "path_dict = {}\n",
    "\n",
    "#需先儲存此人上一個的群\n",
    "last_classification = 0\n",
    "\n",
    "#iterate through every list in the group\n",
    "for i in testlist:\n",
    "    #iterate every classification in each member in the group\n",
    "    first = True\n",
    "    for j in i:     \n",
    "        #如果是第一月，沒有路徑，直接跳到下一個月份\n",
    "        if(first):\n",
    "            last_classification = j\n",
    "            first = False\n",
    "            continue\n",
    "        \n",
    "        #儲存路徑，ex: {5 to 6 : 1} 代表5到6有一次\n",
    "        else:\n",
    "            #把該路徑的count+1\n",
    "            try:\n",
    "                path_dict.update( { pathname(last_classification,j) : path_dict[pathname(last_classification,j)] + 1 } )\n",
    "            #第一次出現路徑的情況，就設1\n",
    "            except:\n",
    "                path_dict.update( { pathname(last_classification,j) : 1 } )\n",
    "            last_classification = j\n",
    "        \n",
    "    "
   ]
  },
  {
   "cell_type": "code",
   "execution_count": 28,
   "metadata": {},
   "outputs": [
    {
     "data": {
      "text/plain": [
       "{'5 to 6': 3,\n",
       " '6 to 4': 1,\n",
       " '4 to 3': 2,\n",
       " '3 to 2': 2,\n",
       " '2 to 1': 2,\n",
       " '1 to 1': 45,\n",
       " '2 to 5': 1,\n",
       " '5 to 1': 2,\n",
       " '1 to 2': 3,\n",
       " '2 to 3': 2,\n",
       " '3 to 4': 2,\n",
       " '4 to 5': 2,\n",
       " '6 to 1': 1,\n",
       " '2 to 2': 6,\n",
       " '3 to 3': 1,\n",
       " '4 to 4': 1,\n",
       " '6 to 6': 1,\n",
       " '1 to 5': 1}"
      ]
     },
     "execution_count": 28,
     "metadata": {},
     "output_type": "execute_result"
    }
   ],
   "source": [
    "path_dict"
   ]
  },
  {
   "cell_type": "markdown",
   "metadata": {},
   "source": [
    "# 開始轉化次數為proportion"
   ]
  },
  {
   "cell_type": "code",
   "execution_count": 36,
   "metadata": {},
   "outputs": [],
   "source": [
    "#先計算所有路徑的次數 total_count\n",
    "total_count = 0\n",
    "for values in path_dict.values():\n",
    "    total_count += values"
   ]
  },
  {
   "cell_type": "code",
   "execution_count": 42,
   "metadata": {},
   "outputs": [],
   "source": [
    "#開始把所有路徑轉為proportion\n",
    "path_proportion = {}\n",
    "for key, value in path_dict.items():\n",
    "    path_proportion.update({key : (value/total_count)})"
   ]
  },
  {
   "cell_type": "code",
   "execution_count": 43,
   "metadata": {},
   "outputs": [
    {
     "data": {
      "text/plain": [
       "{'5 to 6': 0.038461538461538464,\n",
       " '6 to 4': 0.01282051282051282,\n",
       " '4 to 3': 0.02564102564102564,\n",
       " '3 to 2': 0.02564102564102564,\n",
       " '2 to 1': 0.02564102564102564,\n",
       " '1 to 1': 0.5769230769230769,\n",
       " '2 to 5': 0.01282051282051282,\n",
       " '5 to 1': 0.02564102564102564,\n",
       " '1 to 2': 0.038461538461538464,\n",
       " '2 to 3': 0.02564102564102564,\n",
       " '3 to 4': 0.02564102564102564,\n",
       " '4 to 5': 0.02564102564102564,\n",
       " '6 to 1': 0.01282051282051282,\n",
       " '2 to 2': 0.07692307692307693,\n",
       " '3 to 3': 0.01282051282051282,\n",
       " '4 to 4': 0.01282051282051282,\n",
       " '6 to 6': 0.01282051282051282,\n",
       " '1 to 5': 0.01282051282051282}"
      ]
     },
     "execution_count": 43,
     "metadata": {},
     "output_type": "execute_result"
    }
   ],
   "source": [
    "#一組group的路徑機率\n",
    "path_proportion"
   ]
  }
 ],
 "metadata": {
  "kernelspec": {
   "display_name": "Python 3",
   "language": "python",
   "name": "python3"
  },
  "language_info": {
   "codemirror_mode": {
    "name": "ipython",
    "version": 3
   },
   "file_extension": ".py",
   "mimetype": "text/x-python",
   "name": "python",
   "nbconvert_exporter": "python",
   "pygments_lexer": "ipython3",
   "version": "3.7.3"
  }
 },
 "nbformat": 4,
 "nbformat_minor": 2
}
