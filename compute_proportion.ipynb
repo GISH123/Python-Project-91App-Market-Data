{
 "cells": [
  {
   "cell_type": "code",
   "execution_count": 2,
   "metadata": {},
   "outputs": [],
   "source": [
    "import numpy as np\n",
    "import pandas as pd"
   ]
  },
  {
   "cell_type": "markdown",
   "metadata": {},
   "source": [
    "# 開始計算各個月份的proportion"
   ]
  },
  {
   "cell_type": "code",
   "execution_count": 21,
   "metadata": {},
   "outputs": [],
   "source": [
    "#取得路徑名稱\n",
    "def pathname(from_,to):\n",
    "    return \"{}\".format(from_) + \" to \" \"{}\".format(to)"
   ]
  },
  {
   "cell_type": "code",
   "execution_count": 27,
   "metadata": {},
   "outputs": [],
   "source": [
    "#假設此組group有六個人，在這十四個月分別是屬於以下群\n",
    "testlist = [[5,6,4,3,2,1,1,1,1,1,1,1,1,1],\n",
    "[4,3,2,5,1,1,1,1,1,1,1,1,1,1],\n",
    "[1,1,2,3,4,5,6,1,1,1,1,1,1,1],\n",
    "[1,1,2,2,2,2,2,1,1,1,1,1,1,1],\n",
    "[1,1,1,1,2,2,2,3,3,4,4,5,6,6],\n",
    "[1,1,1,1,1,1,1,1,5,1,1,1,1,1]]\n",
    "\n",
    "\n",
    "#儲存所有路徑的dict, ex: 1->6,2->6 等等 \n",
    "path_dict = {}\n",
    "\n",
    "#需先儲存此人上一個的群\n",
    "last_classification = 0\n",
    "\n",
    "#iterate through every list in the group\n",
    "for i in testlist:\n",
    "    #iterate every classification in each member in the group\n",
    "    first = True\n",
    "    for j in i:     \n",
    "        #如果是第一月，沒有路徑，直接跳到下一個月份\n",
    "        if(first):\n",
    "            last_classification = j\n",
    "            first = False\n",
    "            continue\n",
    "        \n",
    "        #儲存路徑，ex: {5 to 6 : 1} 代表5到6有一次\n",
    "        else:\n",
    "            #把該路徑的count+1\n",
    "            try:\n",
    "                path_dict.update( { pathname(last_classification,j) : path_dict[pathname(last_classification,j)] + 1 } )\n",
    "            #第一次出現路徑的情況，就設1\n",
    "            except:\n",
    "                path_dict.update( { pathname(last_classification,j) : 1 } )\n",
    "            last_classification = j\n",
    "        \n",
    "    "
   ]
  },
  {
   "cell_type": "code",
   "execution_count": 28,
   "metadata": {},
   "outputs": [
    {
     "data": {
      "text/plain": [
       "{'5 to 6': 3,\n",
       " '6 to 4': 1,\n",
       " '4 to 3': 2,\n",
       " '3 to 2': 2,\n",
       " '2 to 1': 2,\n",
       " '1 to 1': 45,\n",
       " '2 to 5': 1,\n",
       " '5 to 1': 2,\n",
       " '1 to 2': 3,\n",
       " '2 to 3': 2,\n",
       " '3 to 4': 2,\n",
       " '4 to 5': 2,\n",
       " '6 to 1': 1,\n",
       " '2 to 2': 6,\n",
       " '3 to 3': 1,\n",
       " '4 to 4': 1,\n",
       " '6 to 6': 1,\n",
       " '1 to 5': 1}"
      ]
     },
     "execution_count": 28,
     "metadata": {},
     "output_type": "execute_result"
    }
   ],
   "source": [
    "path_dict"
   ]
  },
  {
   "cell_type": "markdown",
   "metadata": {},
   "source": [
    "# 開始轉化次數為proportion"
   ]
  },
  {
   "cell_type": "code",
   "execution_count": 36,
   "metadata": {},
   "outputs": [],
   "source": [
    "#先計算所有路徑的次數 total_count\n",
    "total_count = 0\n",
    "for values in path_dict.values():\n",
    "    total_count += values"
   ]
  },
  {
   "cell_type": "code",
   "execution_count": 44,
   "metadata": {},
   "outputs": [],
   "source": [
    "#開始把所有路徑轉為proportion\n",
    "path_divided_by_all_proportion = {}\n",
    "for key, value in path_dict.items():\n",
    "    path_divided_by_all_proportion.update({key : (value/total_count)})"
   ]
  },
  {
   "cell_type": "code",
   "execution_count": 45,
   "metadata": {},
   "outputs": [
    {
     "data": {
      "text/plain": [
       "{'5 to 6': 0.038461538461538464,\n",
       " '6 to 4': 0.01282051282051282,\n",
       " '4 to 3': 0.02564102564102564,\n",
       " '3 to 2': 0.02564102564102564,\n",
       " '2 to 1': 0.02564102564102564,\n",
       " '1 to 1': 0.5769230769230769,\n",
       " '2 to 5': 0.01282051282051282,\n",
       " '5 to 1': 0.02564102564102564,\n",
       " '1 to 2': 0.038461538461538464,\n",
       " '2 to 3': 0.02564102564102564,\n",
       " '3 to 4': 0.02564102564102564,\n",
       " '4 to 5': 0.02564102564102564,\n",
       " '6 to 1': 0.01282051282051282,\n",
       " '2 to 2': 0.07692307692307693,\n",
       " '3 to 3': 0.01282051282051282,\n",
       " '4 to 4': 0.01282051282051282,\n",
       " '6 to 6': 0.01282051282051282,\n",
       " '1 to 5': 0.01282051282051282}"
      ]
     },
     "execution_count": 45,
     "metadata": {},
     "output_type": "execute_result"
    }
   ],
   "source": [
    "#一組group的路徑機率 divided by all routes\n",
    "path_divided_by_all_proportion"
   ]
  },
  {
   "cell_type": "code",
   "execution_count": null,
   "metadata": {},
   "outputs": [],
   "source": [
    "#一組group的route機率 divided by classification"
   ]
  },
  {
   "cell_type": "code",
   "execution_count": 46,
   "metadata": {},
   "outputs": [],
   "source": [
    "path_divided_by_classification_proportion = {}"
   ]
  },
  {
   "cell_type": "code",
   "execution_count": 68,
   "metadata": {},
   "outputs": [],
   "source": [
    "#from_count 記錄從某一個classification分出去的總數  Ex : 5 to 1為2 ,5 to 6為 3  則from count有{ 5 : 2+3}\n",
    "from_count = {}\n",
    "\n",
    "for key, value in path_dict.items():\n",
    "    try:\n",
    "        from_count.update({str.split(key)[0] : from_count[str.split(key)[0]]+value})\n",
    "    except: #處理第一次dict沒key的情況\n",
    "        from_count.update({str.split(key)[0] : value})"
   ]
  },
  {
   "cell_type": "code",
   "execution_count": 69,
   "metadata": {},
   "outputs": [
    {
     "data": {
      "text/plain": [
       "{'5': 5, '6': 3, '4': 5, '3': 5, '2': 11, '1': 49}"
      ]
     },
     "execution_count": 69,
     "metadata": {},
     "output_type": "execute_result"
    }
   ],
   "source": [
    "from_count"
   ]
  },
  {
   "cell_type": "markdown",
   "metadata": {},
   "source": [
    "# 開始計算path_divided_by_classification_proportion"
   ]
  },
  {
   "cell_type": "code",
   "execution_count": 70,
   "metadata": {},
   "outputs": [
    {
     "data": {
      "text/plain": [
       "{'5 to 6': 0.6,\n",
       " '6 to 4': 0.3333333333333333,\n",
       " '4 to 3': 0.4,\n",
       " '3 to 2': 0.4,\n",
       " '2 to 1': 0.18181818181818182,\n",
       " '1 to 1': 0.9183673469387755,\n",
       " '2 to 5': 0.09090909090909091,\n",
       " '5 to 1': 0.4,\n",
       " '1 to 2': 0.061224489795918366,\n",
       " '2 to 3': 0.18181818181818182,\n",
       " '3 to 4': 0.4,\n",
       " '4 to 5': 0.4,\n",
       " '6 to 1': 0.3333333333333333,\n",
       " '2 to 2': 0.5454545454545454,\n",
       " '3 to 3': 0.2,\n",
       " '4 to 4': 0.2,\n",
       " '6 to 6': 0.3333333333333333,\n",
       " '1 to 5': 0.02040816326530612}"
      ]
     },
     "execution_count": 70,
     "metadata": {},
     "output_type": "execute_result"
    }
   ],
   "source": [
    "for key, value in path_dict.items():\n",
    "    for from_key, from_count_value in from_count.items():\n",
    "        if(str.split(key)[0]==from_key):\n",
    "            path_divided_by_classification_proportion.update({key : (value/from_count_value)})\n",
    "    \n",
    "path_divided_by_classification_proportion"
   ]
  }
 ],
 "metadata": {
  "kernelspec": {
   "display_name": "Python 3",
   "language": "python",
   "name": "python3"
  },
  "language_info": {
   "codemirror_mode": {
    "name": "ipython",
    "version": 3
   },
   "file_extension": ".py",
   "mimetype": "text/x-python",
   "name": "python",
   "nbconvert_exporter": "python",
   "pygments_lexer": "ipython3",
   "version": "3.7.3"
  }
 },
 "nbformat": 4,
 "nbformat_minor": 2
}
