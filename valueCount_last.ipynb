{
 "cells": [
  {
   "cell_type": "markdown",
   "metadata": {},
   "source": [
    "# 記得常常用markdown 來分隔不同部分的程式碼"
   ]
  },
  {
   "cell_type": "markdown",
   "metadata": {},
   "source": [
    "## 以下是應該考慮的Feature!! 如果已完成 就用#標記掉"
   ]
  },
  {
   "cell_type": "markdown",
   "metadata": {},
   "source": [
    "* 一個購買行為發生之前的features:"
   ]
  },
  {
   "cell_type": "code",
   "execution_count": null,
   "metadata": {},
   "outputs": [],
   "source": [
    "# 多少個date"
   ]
  },
  {
   "cell_type": "code",
   "execution_count": null,
   "metadata": {},
   "outputs": [],
   "source": [
    "# 多少個session"
   ]
  },
  {
   "cell_type": "code",
   "execution_count": null,
   "metadata": {},
   "outputs": [],
   "source": [
    "# 多少個session series\n",
    "名稱名 變形date \n",
    "變數名session_series_list"
   ]
  },
  {
   "cell_type": "markdown",
   "metadata": {},
   "source": [
    "# 把time 塞進session list之後計算出所有東西，平均頁面瀏覽時間，session初始時間，把time 塞進session list之後計算出所有東西"
   ]
  },
  {
   "cell_type": "code",
   "execution_count": null,
   "metadata": {},
   "outputs": [],
   "source": [
    "# 一個 session 內的頭尾時間差距(session使用期間)，\"沒有尾的(比如一個session只有一個瀏覽行為)，那不理她。兩筆資料以上計算(除上n-1)\"\n",
    "名稱名 一個session平均頁面瀏覽時間\n",
    "變數名 #session_viewtime_list\n",
    "        session_avg_viewtime_list"
   ]
  },
  {
   "cell_type": "code",
   "execution_count": null,
   "metadata": {},
   "outputs": [],
   "source": [
    "#一個 session series 內的所有\"session使用期間\"相加\n",
    "名稱名　一個session series平均頁面瀏覽時間\n",
    "變數名 #session_series_viewtime_list\n",
    "        session_series_avg_viewtime_list"
   ]
  },
  {
   "cell_type": "code",
   "execution_count": null,
   "metadata": {},
   "outputs": [],
   "source": [
    "#一個 session 內\"第一個值\" 的廣告來源以及瀏覽來源(web, app)，\"需要另外寫購買前30天內的廣告來源分布\"\n",
    "#一個 session 內的頭初始時間(用來計算時間加權廣告貢獻)，\"也可用來計算使用者活躍時間\"(看是在白天,晚上,星期幾瀏覽跟購物)\n",
    "\n",
    "名稱名  一個session的第一筆資料\n",
    "變數名  session_first_data_list\n"
   ]
  },
  {
   "cell_type": "code",
   "execution_count": null,
   "metadata": {},
   "outputs": [],
   "source": []
  },
  {
   "cell_type": "code",
   "execution_count": null,
   "metadata": {},
   "outputs": [],
   "source": [
    "#一個 購買週期內的所有瀏覽商品 "
   ]
  },
  {
   "cell_type": "code",
   "execution_count": null,
   "metadata": {},
   "outputs": [],
   "source": [
    "#一個 購買週期內的所有加入購物車的商品 \"注意，有這些特徵值就可以計算購物車轉換率，不必另外寫函數。\""
   ]
  },
  {
   "cell_type": "code",
   "execution_count": null,
   "metadata": {},
   "outputs": [],
   "source": [
    "#一個 購買週期內的所有加入Fav的商品"
   ]
  },
  {
   "cell_type": "code",
   "execution_count": null,
   "metadata": {},
   "outputs": [],
   "source": [
    "#一個 購買週期內的所有購買商品"
   ]
  },
  {
   "cell_type": "code",
   "execution_count": null,
   "metadata": {},
   "outputs": [],
   "source": [
    "# 一個 購買週期內整體轉換率 => 多少個session 會變成購買行為(線下或線上)"
   ]
  },
  {
   "cell_type": "code",
   "execution_count": null,
   "metadata": {},
   "outputs": [],
   "source": [
    "一個 購買週期內最後產生的購買的那些商品頁面，在接下來7天是否有瀏覽，\"為了看是否該使用者會去貢獻comments\""
   ]
  },
  {
   "cell_type": "code",
   "execution_count": null,
   "metadata": {},
   "outputs": [],
   "source": [
    "#計算 該次購物的總金額，折扣金額，購物的時間"
   ]
  },
  {
   "cell_type": "code",
   "execution_count": null,
   "metadata": {},
   "outputs": [],
   "source": [
    "# 計算以月為單位的freqency 以及 購物金額"
   ]
  },
  {
   "cell_type": "code",
   "execution_count": null,
   "metadata": {},
   "outputs": [],
   "source": [
    "# 計算view, cart fav 轉換率"
   ]
  },
  {
   "cell_type": "markdown",
   "metadata": {},
   "source": [
    "## 還要思考的點"
   ]
  },
  {
   "cell_type": "markdown",
   "metadata": {},
   "source": [
    "* 線上購買行為發生後，如果繼續瀏覽網頁，購買後的行為應歸屬何處? Session 或 Session series 要重算嗎?"
   ]
  },
  {
   "cell_type": "code",
   "execution_count": null,
   "metadata": {},
   "outputs": [],
   "source": []
  },
  {
   "cell_type": "code",
   "execution_count": null,
   "metadata": {},
   "outputs": [],
   "source": []
  },
  {
   "cell_type": "code",
   "execution_count": null,
   "metadata": {},
   "outputs": [],
   "source": []
  },
  {
   "cell_type": "markdown",
   "metadata": {},
   "source": [
    "# 先用open 方法打開，好處是一行一行讀進來可以知道每一個數字的意義"
   ]
  },
  {
   "cell_type": "code",
   "execution_count": 3,
   "metadata": {},
   "outputs": [],
   "source": [
    "import math\n",
    "file_handler = open('45826522P9.txt', 'r')"
   ]
  },
  {
   "cell_type": "markdown",
   "metadata": {},
   "source": [
    "## 閱讀方法是對open這個物件，使用readlines()"
   ]
  },
  {
   "cell_type": "code",
   "execution_count": 4,
   "metadata": {},
   "outputs": [],
   "source": [
    "lines = file_handler.readlines()"
   ]
  },
  {
   "cell_type": "markdown",
   "metadata": {},
   "source": [
    "## 經過split後給予變數名來做事情才知道在寫啥"
   ]
  },
  {
   "cell_type": "code",
   "execution_count": 5,
   "metadata": {},
   "outputs": [],
   "source": [
    "line = lines[0]\n",
    "time, ad, session, behavior, source, number = line.split(',')"
   ]
  },
  {
   "cell_type": "code",
   "execution_count": 6,
   "metadata": {},
   "outputs": [
    {
     "name": "stdout",
     "output_type": "stream",
     "text": [
      "2018-03-06 00:23:22 GoogleCpc 1 ViewSalePageCategory WEB 55165\n",
      "\n",
      "False\n"
     ]
    }
   ],
   "source": [
    "print(time, ad, session, behavior, source, number)\n",
    "print(behavior == 'Purchase')"
   ]
  },
  {
   "cell_type": "markdown",
   "metadata": {},
   "source": [
    "# 接著一行一行讀進來做事情，首要處理是session的連續問題，那我們先看看有幾個date，然後有幾個連續的session(比date的數量還少才正確)"
   ]
  },
  {
   "cell_type": "code",
   "execution_count": 8,
   "metadata": {},
   "outputs": [],
   "source": [
    "from datetime import datetime, timedelta"
   ]
  },
  {
   "cell_type": "markdown",
   "metadata": {},
   "source": [
    "## 使用 in list的方法來讀取每一行"
   ]
  },
  {
   "cell_type": "markdown",
   "metadata": {},
   "source": [
    "## 此為控制是否有換天 換session 等函數 返回值為True or False"
   ]
  },
  {
   "cell_type": "code",
   "execution_count": 10,
   "metadata": {},
   "outputs": [],
   "source": [
    "Change_day_Flag = False #代表是否有曾經換過日期\n",
    "\n",
    "def change_date(previous_time, time):\n",
    "    global Change_day_Flag #控制 Flag 用\n",
    "    \n",
    "    if time.date() != previous_time.date():\n",
    "        Change_day_Flag = True\n",
    "        return True\n",
    "    else:\n",
    "        return False\n",
    "    \n",
    "def change_session(previous_session, session, previous_time, time, previous_source, source):\n",
    "    if ( time - previous_time >  timedelta(seconds = 1800) )  or source != previous_source : \n",
    "        return True\n",
    "    elif  time.date() == previous_time.date() and session != previous_session :\n",
    "        return True\n",
    "    else:\n",
    "        return False\n",
    "\n",
    "def change_session_series(previous_session, session, previous_time, time, previous_source, source):\n",
    "    global Change_day_Flag #控制 Flag 用\n",
    "    \n",
    "    if Change_day_Flag == True:\n",
    "        if change_session(previous_session, session, previous_time, time, previous_source, source):\n",
    "            Change_day_Flag = False\n",
    "            return True\n",
    "    else:\n",
    "        return False"
   ]
  },
  {
   "cell_type": "markdown",
   "metadata": {},
   "source": [
    "## 開始計算與session有關的東西"
   ]
  },
  {
   "cell_type": "code",
   "execution_count": 13,
   "metadata": {},
   "outputs": [],
   "source": [
    "line = lines[0] #第一row\n",
    "\n",
    "time, ad, session, behavior, source, number = line.split(',')\n",
    "\n",
    "# 紀錄連續的session跟time\n",
    "previous_time = datetime.strptime(time, '%Y-%m-%d %H:%M:%S') #上一筆的時間\n",
    "previous_session = session #上一筆的session\n",
    "previous_source = source #上一筆的source\n",
    "\n",
    "# 讀之後的資料!\n",
    "Change_day_Flag = False #代表是否有曾經換過日期\n",
    "\n",
    "# 把date記下來，以及把session記下來，session counter記下來\n",
    "date_list = [previous_time.date()]\n",
    "session_series_list = []\n",
    "session_list = []\n",
    "\n",
    "#GISH: 各SESSION第一筆資料\n",
    "session_first_data_list =[line.split(',')]\n",
    "\n",
    "# 暫時的sessionseries and session holder\n",
    "tem_session_list = [previous_time]\n",
    "tem_session_series_list = [previous_time]\n",
    "\n",
    "for line in lines[1:]: #從第二row 開始\n",
    "    time, ad, session, behavior, source, number = line.split(',')\n",
    "    time = datetime.strptime(time, '%Y-%m-%d %H:%M:%S')\n",
    "    \n",
    "    # 日期轉換\n",
    "    if change_date(previous_time, time): #如果換天\n",
    "        date_list.append(time.date())\n",
    "    \n",
    "    # session轉換\n",
    "    if change_session(previous_session, session, previous_time, time, previous_source, source) :#如果換session\n",
    "        session_list.append(tem_session_list) #GISH\n",
    "        tem_session_list = [time] #GISH\n",
    "        session_first_data_list.append(line.split(',')) #G \n",
    "    else: \n",
    "        tem_session_list.append(time) #G\n",
    "    # session series轉換    \n",
    "    if change_session_series(previous_session, session, previous_time, time, previous_source, source):\n",
    "        session_series_list.append(tem_session_series_list)\n",
    "        tem_session_series_list = [time]   \n",
    "    else:\n",
    "        tem_session_series_list.append(time)\n",
    "        \n",
    "    #記得更新上一本的資料\n",
    "    previous_time = time #上一筆的time\n",
    "    previous_session = session #上一筆的session\n",
    "    previous_source = source #上一筆的source\n",
    "    \n",
    "# 最後一筆資料記得添加\n",
    "session_series_list.append(tem_session_series_list)\n",
    "session_list.append(tem_session_list)\n"
   ]
  },
  {
   "cell_type": "code",
   "execution_count": 17,
   "metadata": {},
   "outputs": [
    {
     "data": {
      "text/plain": [
       "[['2018-03-08 23:56:39', 'GoogleCpc', '8', 'ViewSalePage', 'WEB', '3932309'],\n",
       " ['2018-03-09 00:02:11',\n",
       "  'GoogleCpc',\n",
       "  '2',\n",
       "  'ViewSalePageCategory',\n",
       "  'WEB',\n",
       "  '55165'],\n",
       " ['2018-03-10 00:38:26', 'Others', '1', 'ViewSalePage', 'WEB', '4106259'],\n",
       " ['2018-03-10 00:42:07',\n",
       "  'Others',\n",
       "  '2',\n",
       "  'ViewSalePageCategory',\n",
       "  'WEB',\n",
       "  '35222']]"
      ]
     },
     "execution_count": 17,
     "metadata": {},
     "output_type": "execute_result"
    }
   ],
   "source": [
    "session_first_data_list"
   ]
  },
  {
   "cell_type": "markdown",
   "metadata": {},
   "source": [
    "# GISH 算出每個SESSION的瀏覽時間"
   ]
  },
  {
   "cell_type": "code",
   "execution_count": 28,
   "metadata": {},
   "outputs": [
    {
     "data": {
      "text/plain": [
       "[[datetime.datetime(2018, 3, 8, 23, 56, 39),\n",
       "  datetime.datetime(2018, 3, 8, 23, 57, 32),\n",
       "  datetime.datetime(2018, 3, 8, 23, 58, 38),\n",
       "  datetime.datetime(2018, 3, 8, 23, 59, 9),\n",
       "  datetime.datetime(2018, 3, 9, 0, 0, 14),\n",
       "  datetime.datetime(2018, 3, 9, 0, 0, 40),\n",
       "  datetime.datetime(2018, 3, 9, 0, 2, 6)],\n",
       " [datetime.datetime(2018, 3, 9, 0, 2, 11),\n",
       "  datetime.datetime(2018, 3, 9, 0, 2, 24),\n",
       "  datetime.datetime(2018, 3, 9, 0, 2, 40),\n",
       "  datetime.datetime(2018, 3, 9, 0, 3, 27),\n",
       "  datetime.datetime(2018, 3, 9, 0, 3, 44),\n",
       "  datetime.datetime(2018, 3, 9, 0, 3, 52)],\n",
       " [datetime.datetime(2018, 3, 10, 0, 38, 26)],\n",
       " [datetime.datetime(2018, 3, 10, 0, 42, 7)]]"
      ]
     },
     "execution_count": 28,
     "metadata": {},
     "output_type": "execute_result"
    }
   ],
   "source": [
    "session_list"
   ]
  },
  {
   "cell_type": "code",
   "execution_count": 31,
   "metadata": {},
   "outputs": [],
   "source": [
    "#session_viewtime_list = [] # 此為儲存每個session的瀏覽時間，如果只有一筆資料就為0\n",
    "session_avg_viewtime_list = []\n",
    "for session_times in session_list:\n",
    "    session_viewtime_list.append(session_times[-1]-session_times[0])\n",
    "    try:\n",
    "        session_avg_viewtime_list.append((session_times[-1]-session_times[0])/(len(session_times)-1))\n",
    "    except:\n",
    "        session_avg_viewtime_list.append(timedelta(0))"
   ]
  },
  {
   "cell_type": "code",
   "execution_count": 30,
   "metadata": {},
   "outputs": [
    {
     "data": {
      "text/plain": [
       "[datetime.timedelta(seconds=327),\n",
       " datetime.timedelta(seconds=101),\n",
       " datetime.timedelta(0),\n",
       " datetime.timedelta(0)]"
      ]
     },
     "execution_count": 30,
     "metadata": {},
     "output_type": "execute_result"
    }
   ],
   "source": [
    "#session_viewtime_list"
   ]
  },
  {
   "cell_type": "code",
   "execution_count": 32,
   "metadata": {},
   "outputs": [
    {
     "data": {
      "text/plain": [
       "[datetime.timedelta(seconds=54, microseconds=500000),\n",
       " datetime.timedelta(seconds=20, microseconds=200000),\n",
       " datetime.timedelta(0),\n",
       " datetime.timedelta(0)]"
      ]
     },
     "execution_count": 32,
     "metadata": {},
     "output_type": "execute_result"
    }
   ],
   "source": [
    "session_avg_viewtime_list"
   ]
  },
  {
   "cell_type": "markdown",
   "metadata": {},
   "source": [
    "# GISH 算出每個SESSION SERIES瀏覽時間"
   ]
  },
  {
   "cell_type": "code",
   "execution_count": 38,
   "metadata": {},
   "outputs": [],
   "source": [
    "#session_series_viewtime_list = [] # 此為儲存每個session series的瀏覽時間，如果只有一筆資料就為0\n",
    "session_series_avg_viewtime_list = []\n",
    "for session_series_times in session_series_list:\n",
    "    viewtime = session_series_times[-1]-session_series_times[0]\n",
    "    session_series_viewtime_list.append(viewtime)\n",
    "    try:\n",
    "        session_series_avg_viewtime_list.append(viewtime/(len(session_series_times)-1))\n",
    "    except:\n",
    "        session_series_avg_viewtime_list.append(timedelta(0))\n",
    "        "
   ]
  },
  {
   "cell_type": "code",
   "execution_count": 37,
   "metadata": {},
   "outputs": [
    {
     "data": {
      "text/plain": [
       "[datetime.timedelta(seconds=327),\n",
       " datetime.timedelta(seconds=101),\n",
       " datetime.timedelta(seconds=221)]"
      ]
     },
     "execution_count": 37,
     "metadata": {},
     "output_type": "execute_result"
    }
   ],
   "source": [
    "#session_series_viewtime_list"
   ]
  },
  {
   "cell_type": "code",
   "execution_count": 39,
   "metadata": {},
   "outputs": [
    {
     "data": {
      "text/plain": [
       "[datetime.timedelta(seconds=54, microseconds=500000),\n",
       " datetime.timedelta(seconds=20, microseconds=200000),\n",
       " datetime.timedelta(seconds=221)]"
      ]
     },
     "execution_count": 39,
     "metadata": {},
     "output_type": "execute_result"
    }
   ],
   "source": [
    "session_series_avg_viewtime_list"
   ]
  },
  {
   "cell_type": "markdown",
   "metadata": {},
   "source": [
    "# 告一段落"
   ]
  },
  {
   "cell_type": "code",
   "execution_count": 55,
   "metadata": {},
   "outputs": [
    {
     "data": {
      "text/plain": [
       "([datetime.date(2018, 3, 8),\n",
       "  datetime.date(2018, 3, 9),\n",
       "  datetime.date(2018, 3, 10)],\n",
       " [['8', '8', '8', '8', '1', '1', '1'],\n",
       "  ['2', '2', '2', '2', '2', '2'],\n",
       "  ['1'],\n",
       "  ['2']],\n",
       " [['8', '8', '8', '8', '1', '1', '1'],\n",
       "  ['2', '2', '2', '2', '2', '2'],\n",
       "  ['1', '2']])"
      ]
     },
     "execution_count": 55,
     "metadata": {},
     "output_type": "execute_result"
    }
   ],
   "source": [
    "date_list,session_list,session_series_list"
   ]
  },
  {
   "cell_type": "markdown",
   "metadata": {},
   "source": [
    "## 我弄了一個test的資料\n",
    "## 照理說 test的第0~5筆 將會有兩個date_count, 但只有一個session，一個session series\n",
    "## 不過如果是全部資料 將會有3個date, 4個session, 3個session seires(修改的date定義)"
   ]
  },
  {
   "cell_type": "code",
   "execution_count": 5,
   "metadata": {},
   "outputs": [],
   "source": [
    "test = [\n",
    "\n",
    "\"2018-03-08 23:56:39,GoogleCpc,8,ViewSalePage,WEB,3932309\",\n",
    "\"2018-03-08 23:57:32,GoogleCpc,8,ViewSalePageCategory,WEB,51876\", \n",
    "\"2018-03-08 23:58:38,GoogleCpc,8,ViewSalePage,WEB,3991800\",\n",
    "\"2018-03-08 23:59:09,GoogleCpc,8,ViewSalePageCategory,WEB,51876\",\n",
    "\"2018-03-09 00:00:14,Direct,1,ViewSalePageCategory,WEB,51876\",\n",
    "\"2018-03-09 00:00:40,Direct,1,ViewSalePageCategory,WEB,51876\",\n",
    "\"2018-03-09 00:02:06,Direct,1,ViewSalePageCategory,WEB,51876\", \n",
    "\"2018-03-09 00:02:11,GoogleCpc,2,ViewSalePageCategory,WEB,55165\",\n",
    "\"2018-03-09 00:02:24,GoogleCpc,2,ViewSalePageCategory,WEB,182295\",\n",
    "\"2018-03-09 00:02:40,GoogleCpc,2,ViewSalePage,WEB,4161481\",\n",
    "\"2018-03-09 00:03:27,GoogleCpc,2,ViewSalePageCategory,WEB,55165\",\n",
    "\"2018-03-09 00:03:44,GoogleCpc,2,ViewSalePageCategory,WEB,182295\",\n",
    "\"2018-03-09 00:03:52,GoogleCpc,2,ViewSalePage,WEB,4161481\",\n",
    "\"2018-03-10 00:38:26,Others,1,ViewSalePage,WEB,4106259\",\n",
    "\"2018-03-10 00:42:07,Others,2,ViewSalePageCategory,WEB,35222\"\n",
    "]"
   ]
  },
  {
   "cell_type": "code",
   "execution_count": 6,
   "metadata": {},
   "outputs": [],
   "source": [
    "lines = test"
   ]
  },
  {
   "cell_type": "code",
   "execution_count": 29,
   "metadata": {},
   "outputs": [],
   "source": [
    "line = lines[0] #第一row\n",
    "time, ad, session, behavior, source, number = line.split(',')\n",
    "\n",
    "# 紀錄連續的session跟time\n",
    "previous_time = datetime.strptime(time, '%Y-%m-%d %H:%M:%S') #上一筆的時間\n",
    "previous_session = session #上一筆的session\n",
    "previous_source = source #上一筆的source\n",
    "\n",
    "# 讀之後的資料!\n",
    "Change_day_Flag = False #代表是否有曾經換過日期\n",
    "date_counter = 1 # 以時間來計算，11231 會有兩天\n",
    "session_series_counter = 1 #以序列來計算，11231只有一個序列\n",
    "session_counter = 1 #以session來計算，11231會有3個session，分別是 [11, 2, 31]\n",
    "\n",
    "# 把date記下來，以及把session記下來，session counter記下來\n",
    "date_list = [previous_time.date()]\n",
    "session_series_list = []\n",
    "session_list = []\n",
    "\n",
    "\n",
    "# 暫時的sessionseries and session holder\n",
    "tem_session_list = [session]\n",
    "tem_session_series_list = [session]\n",
    "\n",
    "for line in lines[1:]: #從第二row 開始\n",
    "    time, ad, session, behavior, source, number = line.split(',')\n",
    "    time = datetime.strptime(time, '%Y-%m-%d %H:%M:%S')\n",
    "    \n",
    "\n",
    "    \n",
    "    \n",
    "    # 日期轉換\n",
    "    if change_date(previous_time, time): #如果換天\n",
    "        date_counter += 1\n",
    "        date_list.append(time.date())\n",
    "    \n",
    "    # session轉換\n",
    "    if change_session(previous_session, session, previous_time, time, previous_source, source) :#如果換session\n",
    "        session_counter += 1\n",
    "        session_list.append(tem_session_list)\n",
    "        tem_session_list = [session]   \n",
    "    else:\n",
    "        tem_session_list.append(session)\n",
    "        \n",
    "        \n",
    "    # session series轉換    \n",
    "    if change_session_series(previous_session, session, previous_time, time, previous_source, source):\n",
    "        session_series_counter += 1\n",
    "        session_series_list.append(tem_session_series_list)\n",
    "        tem_session_series_list = [session]   \n",
    "    else:\n",
    "        tem_session_series_list.append(session)\n",
    "        \n",
    "    #記得更新上一本的資料\n",
    "    previous_time = time #上一筆的time\n",
    "    previous_session = session #上一筆的session\n",
    "    previous_source = source #上一筆的source\n",
    "    \n",
    "# 最後一筆資料記得添加\n",
    "session_series_list.append(tem_session_series_list)\n",
    "session_list.append(tem_session_list)\n"
   ]
  },
  {
   "cell_type": "code",
   "execution_count": 30,
   "metadata": {},
   "outputs": [
    {
     "data": {
      "text/plain": [
       "(3, 4, 3)"
      ]
     },
     "execution_count": 30,
     "metadata": {},
     "output_type": "execute_result"
    }
   ],
   "source": [
    "date_counter, session_counter , session_series_counter"
   ]
  },
  {
   "cell_type": "code",
   "execution_count": 31,
   "metadata": {},
   "outputs": [
    {
     "data": {
      "text/plain": [
       "[datetime.date(2018, 3, 8),\n",
       " datetime.date(2018, 3, 9),\n",
       " datetime.date(2018, 3, 10)]"
      ]
     },
     "execution_count": 31,
     "metadata": {},
     "output_type": "execute_result"
    }
   ],
   "source": [
    "date_list"
   ]
  },
  {
   "cell_type": "code",
   "execution_count": 32,
   "metadata": {},
   "outputs": [
    {
     "data": {
      "text/plain": [
       "[['8', '8', '8', '8', '1', '1', '1'],\n",
       " ['2', '2', '2', '2', '2', '2'],\n",
       " ['1'],\n",
       " ['2']]"
      ]
     },
     "execution_count": 32,
     "metadata": {},
     "output_type": "execute_result"
    }
   ],
   "source": [
    "session_list"
   ]
  },
  {
   "cell_type": "code",
   "execution_count": 33,
   "metadata": {},
   "outputs": [
    {
     "data": {
      "text/plain": [
       "[['8', '8', '8', '8', '1', '1', '1'],\n",
       " ['2', '2', '2', '2', '2', '2'],\n",
       " ['1', '2']]"
      ]
     },
     "execution_count": 33,
     "metadata": {},
     "output_type": "execute_result"
    }
   ],
   "source": [
    "session_series_list"
   ]
  },
  {
   "cell_type": "code",
   "execution_count": null,
   "metadata": {},
   "outputs": [],
   "source": []
  },
  {
   "cell_type": "code",
   "execution_count": null,
   "metadata": {},
   "outputs": [],
   "source": []
  },
  {
   "cell_type": "markdown",
   "metadata": {},
   "source": [
    "# ....用這種方式寫程式，別改那9個變數名\n",
    "## time, ad, session, behavior, source, number, previous_time, previous_session, previous_source"
   ]
  },
  {
   "cell_type": "markdown",
   "metadata": {},
   "source": [
    "## keep salepage items"
   ]
  },
  {
   "cell_type": "code",
   "execution_count": 126,
   "metadata": {},
   "outputs": [],
   "source": [
    "def is_buying(behavior): #看是不是購買行為\n",
    "    if behavior in ['Purchase', 'Offline']:\n",
    "        return True\n",
    "    else:\n",
    "        return False\n",
    "    \n",
    "def is_salepage_or_cart_or_fav(behavior): ##看是不是salepage 或者 購物車 或者 加入最愛行為\n",
    "    if behavior in ['ViewSalePage', 'Cart', 'Fav']:\n",
    "        return True\n",
    "    else:\n",
    "        return False\n",
    "    \n",
    "    \n",
    "def update_product_dictionary(product_id, behavior, time = ''): \n",
    "    #把瀏覽的商品ID給記錄下來，每個id對應5個元素，[view, cart, fav, buy, (last_time, last_type)]\n",
    "    global product_dictionary\n",
    "    \n",
    "    if product_id not in product_dictionary:\n",
    "        product_dictionary[product_id] = [0,0,0,0,('', '')]\n",
    "\n",
    "    if behavior in ['ViewSalePage', 'Cart', 'Fav']:\n",
    "        for i in range(3):\n",
    "            if behavior == ['ViewSalePage', 'Cart', 'Fav'][i]:\n",
    "                product_dictionary[product_id][i] +=1\n",
    "                break\n",
    "        product_dictionary[product_id][4] = (time, behavior)\n",
    "        \n",
    "    elif behavior in ['Purchase', 'Offline']:\n",
    "        product_dictionary[product_id][3] +=1\n",
    "            \n",
    "\n",
    "    \n",
    "def update_purchase_dictionary(product_id, Status):\n",
    "    global purchase_dictionary\n",
    "    if Status == 'Fin':\n",
    "        if product_id not in purchase_dictionary['finish_id'] :\n",
    "            purchase_dictionary['finish_id'].append(product_id)\n",
    "    \n",
    "\n",
    "    elif Status == 'Ret':\n",
    "        if product_id not in purchase_dictionary['return_id'] :\n",
    "            purchase_dictionary['return_id'].append(product_id)\n",
    "        \n",
    "def update_purchase_time(time, amount, discount, where): #第一筆購買資料出現後 要更新該筆購物的時間地點金額\n",
    "    global purchase_dictionary\n",
    "    \n",
    "\n",
    "    purchase_dictionary['amount'] = amount\n",
    "    purchase_dictionary['time'] = time\n",
    "    purchase_dictionary['discount'] = discount\n",
    "    purchase_dictionary['where'] = 'Online' if where=='Purchase' else 'Offline'\n",
    "\n",
    "def is_first_purchase_row(): #看該筆購買行為是不是一個購買行為的第一次出現購買紀錄\n",
    "    global Next_purchase_Flag\n",
    "    if Next_purchase_Flag == False: #將會跟新一個flag，用來知道是否要更新\n",
    "        Next_purchase_Flag = True\n",
    "        return True\n",
    "    else:\n",
    "        return False\n",
    "    \n",
    "def is_same_purchase(time):  #看該筆購買行為是不是同一個單號的東西\n",
    "    if  time == purchase_dictionary['time']:\n",
    "        return True\n",
    "    else:\n",
    "        return False\n",
    "    \n",
    "def needs_save_everything(time = '', behavior = ''):#看是不是需要更新\n",
    "    global Next_purchase_Flag, tem_buying_behaviour, purchase_dictionary\n",
    "    \n",
    "\n",
    "    \n",
    "    if Next_purchase_Flag == True :#如果有之前有購買紀錄出現\n",
    "    \n",
    "        if time != purchase_dictionary['time'] or behavior not in ['Purchase', 'Offline']: #看看是否是連續的購買行為\n",
    "            \n",
    "            #如果是的話，看看這個購買行為有沒有意義(是不是有status是finish)\n",
    "            is_valid_purchase = False\n",
    "            for a_id,a_status in tem_buying_behaviour:\n",
    "                if a_status =='Fin':\n",
    "                    is_valid_purchase = True\n",
    "                    break\n",
    "            \n",
    "            \n",
    "            \n",
    "            if is_valid_purchase: #如果是有效的購買行為 將會return True 並且之後會呼叫save_everything()\n",
    "                Next_purchase_Flag = False\n",
    "                return True\n",
    "            \n",
    "            else: #不然的話就把 tem_buying_behaviour，Next_purchase_Flag 給歸零\n",
    "                tem_buying_behaviour = []\n",
    "                Next_purchase_Flag = False\n",
    "                return False\n",
    "\n",
    "    return False\n",
    "    \n",
    "def save_everything(): #更新全部的東西\n",
    "    global purchase_dict_records, product_dictionary_records, purchase_dictionary, product_dictionary, tem_buying_behaviour\n",
    "    \n",
    "    \n",
    "    for a_id,a_status in tem_buying_behaviour:\n",
    "        update_purchase_dictionary(a_id,a_status)\n",
    "        update_product_dictionary(a_id, 'Purchase')\n",
    "    \n",
    "    purchase_dict_records.append(purchase_dictionary)\n",
    "    product_dictionary_records.append(product_dictionary)\n",
    "    \n",
    "    # reset those value\n",
    "    purchase_dictionary = dict() \n",
    "    purchase_dictionary['finish_id'] = []\n",
    "    purchase_dictionary['return_id'] = []\n",
    "    product_dictionary = dict()\n",
    "    tem_buying_behaviour = [] \n",
    "    \n",
    "    "
   ]
  },
  {
   "cell_type": "code",
   "execution_count": 127,
   "metadata": {},
   "outputs": [],
   "source": [
    "# 紀錄product dictionary\n",
    "purchase_dict_records = [] #放dict, purchase_dictionary\n",
    "product_dictionary_records = [] #放dict，紀錄product_dict\n",
    "\n",
    "purchase_dictionary = dict() #紀錄每個purchase的狀態 ，{amount:總金額, discount:折扣金額, finish_id:[], return_id:[], time:時間, where:地點}\n",
    "purchase_dictionary['finish_id'] = []\n",
    "purchase_dictionary['return_id'] = []\n",
    "\n",
    "\n",
    "product_dictionary = dict() #紀錄每個product_id的狀態，{ id : (看次數、購物車次數、FAV次數、買次數, (最後一次使用的時間與type)) } \n",
    "\n",
    "\n",
    "tem_buying_behaviour = [] #紀錄遇到purchase後 的Status以及productID狀態，為了避免concel or fail or 只有退貨的狀況\n"
   ]
  },
  {
   "cell_type": "code",
   "execution_count": 128,
   "metadata": {},
   "outputs": [],
   "source": [
    "Next_purchase_Flag = False\n",
    "\n",
    "for line in lines: #從第一row 開始\n",
    "\n",
    "    time, ad, session, behavior, source, number = line.strip('\\n').split(',')\n",
    "    time = datetime.strptime(time, '%Y-%m-%d %H:%M:%S')\n",
    "\n",
    "    \n",
    "    \n",
    "    if needs_save_everything(time, behavior): #看需不需要儲存購買行為了!\n",
    "        save_everything()#存東西\n",
    "        \n",
    "    if is_salepage_or_cart_or_fav(behavior): #看是不是salepage 或者 購物車 或者 加入最愛行為\n",
    "        update_product_dictionary(number, behavior, time) #把瀏覽的商品ID給記錄下來\n",
    "            \n",
    "        \n",
    "        \n",
    "        \n",
    "    elif is_buying(behavior): #看是不是購買行為\n",
    "        \n",
    "        # try, except 是為了處理有些線下行為不知道對應的線上商品ID\n",
    "        try:\n",
    "            product_id, amount, discount, Status = number.split()\n",
    "        except:\n",
    "            amount, discount, Status = number.split()\n",
    "            product_id = ''\n",
    "        \n",
    "        if is_first_purchase_row(): #看該筆購買行為是不是一個購買行為的第一次出現購買紀錄\n",
    "            \n",
    "            update_purchase_time(time, amount, discount, behavior)  #第一筆才要記錄\n",
    "            tem_buying_behaviour.append( (product_id, Status) )\n",
    "        \n",
    "        \n",
    "        elif is_same_purchase(time):\n",
    "            tem_buying_behaviour.append( (product_id, Status) )\n",
    "      \n",
    "\n",
    "\n",
    "\n",
    "\n",
    "    \n",
    "    \n",
    "    \n",
    "        \n",
    "    #記得更新上一本的資料\n",
    "    previous_time = time #上一筆的time\n",
    "    previous_session = session #上一筆的session\n",
    "    previous_source = source #上一筆的source\n",
    "\n",
    "# 怕最後一筆資料是購買資料:\n",
    "if needs_save_everything():\n",
    "    save_everything()"
   ]
  },
  {
   "cell_type": "code",
   "execution_count": 129,
   "metadata": {},
   "outputs": [
    {
     "data": {
      "text/plain": [
       "(40, 40)"
      ]
     },
     "execution_count": 129,
     "metadata": {},
     "output_type": "execute_result"
    }
   ],
   "source": [
    "len(purchase_dict_records), len(product_dictionary_records)"
   ]
  },
  {
   "cell_type": "code",
   "execution_count": 47,
   "metadata": {},
   "outputs": [],
   "source": [
    "#purchase_dict_records[0], product_dictionary_records[0]"
   ]
  },
  {
   "cell_type": "markdown",
   "metadata": {},
   "source": [
    "# TEST"
   ]
  },
  {
   "cell_type": "code",
   "execution_count": 40,
   "metadata": {},
   "outputs": [],
   "source": [
    "test = [\n",
    "\"2018-03-22 13:28:14,,,Offline,,3160278 2660 -2000 Fin\",\n",
    "\"2018-03-22 13:28:14,,,Offline,,5091125 2660 -2000 Fin\",\n",
    "\"2019-02-26 07:34:42,GoogleCpc,3,ViewSalePageCategory,WEB,187928\",\n",
    "\"2019-02-26 07:34:55,GoogleCpc,3,ViewSalePageCategory,WEB,51876\",\n",
    "\"2019-02-26 07:35:48,GoogleCpc,3,ViewSalePage,WEB,5079977\",\n",
    "\"2019-02-26 07:36:28,GoogleCpc,3,ViewSalePageCategory,WEB,51876\",\n",
    "\"2019-02-26 07:36:32,GoogleCpc,3,ViewSalePageCategory,WEB,187928\",\n",
    "\"2019-02-26 07:36:44,GoogleCpc,3,ViewSalePageCategory,WEB,182295\",\n",
    "\"2019-02-26 07:37:04,GoogleCpc,3,ViewSalePage,WEB,5199774\",\n",
    "\"2019-02-26 07:37:47,GoogleCpc,3,Cart,WEB,5199774\",\n",
    "\"2019-02-26 07:41:28,Direct,1,Purchase,WEB,5149422 3250 0 Fin\",\n",
    "\"2019-02-26 07:41:28,Direct,1,Purchase,WEB,5164910 3250 0 Fin\",\n",
    "\"2019-02-26 07:41:28,Direct,1,Purchase,WEB,5197781 3250 0 Fin\",\n",
    "\"2019-02-26 08:26:31,GoogleCpc,4,ViewSalePageCategory,WEB,182295\",\n",
    "\"2019-02-26 08:26:42,GoogleCpc,4,ViewSalePage,WEB,5199802\",\n",
    "\"2019-02-26 08:26:47,GoogleCpc,4,Cart,WEB,5199802\",\n",
    "\"2019-02-26 08:26:48,GoogleCpc,4,Purchase,WEB,5199802 9527 -487 Can\",\n",
    "\"2019-02-26 08:26:52,GoogleCpc,4,ViewSalePageCategory,WEB,182295\",\n",
    "\"2019-02-26 08:27:01,GoogleCpc,4,ViewSalePage,WEB,5199774\",\n",
    "\"2019-02-26 08:31:27,GoogleCpc,4,ViewSalePageCategory,WEB,182295\",\n",
    "\"2019-02-26 08:31:37,GoogleCpc,4,ViewSalePage,WEB,5199841\",\n",
    "\"2019-02-26 08:31:45,GoogleCpc,4,ViewSalePageCategory,WEB,182295\",\n",
    "\"2019-02-26 08:31:52,GoogleCpc,4,ViewSalePage,WEB,5199841\",\n",
    "\"2019-02-26 08:58:30,GoogleCpc,4,ViewSalePageCategory,WEB,187928\",\n",
    "\"2019-02-26 09:31:14,GoogleCpc,5,ViewSalePageCategory,WEB,86270\",\n",
    "\"2019-02-26 09:37:16,Direct,3,Purchase,WEB,5199774 2860 0 Fin\",\n",
    "\"2019-02-26 09:37:16,Direct,3,Purchase,WEB,5199802 2860 0 Fin\",\n",
    "\"2019-02-26 09:37:47,GoogleCpc,5,ViewSalePageCategory,WEB,86270\",\n",
    "\"2019-02-26 14:05:48,GoogleCpc,6,ViewSalePageCategory,WEB,86270\",\n",
    "\"2019-03-22 13:28:14,,,Offline,,3160278 2660 -2000 Fin\",\n",
    "\"2019-03-22 13:28:14,,,Offline,,5091125 2660 -2000 Fin\"\n",
    "]"
   ]
  },
  {
   "cell_type": "code",
   "execution_count": 27,
   "metadata": {},
   "outputs": [],
   "source": [
    "Next_purchase_Flag = False\n",
    "\n",
    "for line in test[0:]: #從第一row 開始\n",
    "\n",
    "    time, ad, session, behavior, source, number = line.strip('\\n').split(',')\n",
    "    time = datetime.strptime(time, '%Y-%m-%d %H:%M:%S')\n",
    "\n",
    "    \n",
    "    \n",
    "    if needs_save_everything(time, behavior): #看需不需要儲存購買行為了!\n",
    "        save_everything()#存東西\n",
    "        \n",
    "    if is_salepage_or_cart_or_fav(behavior): #看是不是salepage 或者 購物車 或者 加入最愛行為\n",
    "        update_product_dictionary(number, behavior, time) #把瀏覽的商品ID給記錄下來\n",
    "            \n",
    "        \n",
    "        \n",
    "        \n",
    "    elif is_buying(behavior): #看是不是購買行為\n",
    "        \n",
    "        # try, except 是為了處理有些線下行為不知道對應的線上商品ID\n",
    "        try:\n",
    "            product_id, amount, discount, Status = number.split()\n",
    "        except:\n",
    "            amount, discount, Status = number.split()\n",
    "            product_id = ''\n",
    "        \n",
    "        if is_first_purchase_row(): #看該筆購買行為是不是一個購買行為的第一次出現購買紀錄\n",
    "            \n",
    "            update_purchase_time(time, amount, discount, behavior)  #第一筆才要記錄\n",
    "            tem_buying_behaviour.append( (product_id, Status) )\n",
    "        \n",
    "        \n",
    "        elif is_same_purchase(time):\n",
    "            tem_buying_behaviour.append( (product_id, Status) )\n",
    "      \n",
    "\n",
    "\n",
    "\n",
    "\n",
    "    \n",
    "    \n",
    "    \n",
    "        \n",
    "    #記得更新上一本的資料\n",
    "    previous_time = time #上一筆的time\n",
    "    previous_session = session #上一筆的session\n",
    "    previous_source = source #上一筆的source\n",
    "\n",
    "# 怕最後一筆資料是購買資料:\n",
    "if needs_save_everything():\n",
    "    save_everything()"
   ]
  },
  {
   "cell_type": "code",
   "execution_count": 32,
   "metadata": {},
   "outputs": [
    {
     "data": {
      "text/plain": [
       "(4, 4)"
      ]
     },
     "execution_count": 32,
     "metadata": {},
     "output_type": "execute_result"
    }
   ],
   "source": [
    "len(purchase_dict_records), len(product_dictionary_records)"
   ]
  },
  {
   "cell_type": "code",
   "execution_count": 28,
   "metadata": {},
   "outputs": [
    {
     "data": {
      "text/plain": [
       "({'finish_id': ['3160278', '5091125'],\n",
       "  'return_id': [],\n",
       "  'amount': '2660',\n",
       "  'time': datetime.datetime(2018, 3, 22, 13, 28, 14),\n",
       "  'discount': '-2000',\n",
       "  'where': 'Offline'},\n",
       " {'3160278': [0, 0, 0, 1, ('', '')], '5091125': [0, 0, 0, 1, ('', '')]})"
      ]
     },
     "execution_count": 28,
     "metadata": {},
     "output_type": "execute_result"
    }
   ],
   "source": [
    "purchase_dict_records[0], product_dictionary_records[0]"
   ]
  },
  {
   "cell_type": "code",
   "execution_count": 29,
   "metadata": {},
   "outputs": [
    {
     "data": {
      "text/plain": [
       "({'finish_id': ['5149422', '5164910', '5197781'],\n",
       "  'return_id': [],\n",
       "  'amount': '3250',\n",
       "  'time': datetime.datetime(2019, 2, 26, 7, 41, 28),\n",
       "  'discount': '0',\n",
       "  'where': 'Online'},\n",
       " {'5079977': [1,\n",
       "   0,\n",
       "   0,\n",
       "   0,\n",
       "   (datetime.datetime(2019, 2, 26, 7, 35, 48), 'ViewSalePage')],\n",
       "  '5199774': [1, 1, 0, 0, (datetime.datetime(2019, 2, 26, 7, 37, 47), 'Cart')],\n",
       "  '5149422': [0, 0, 0, 1, ('', '')],\n",
       "  '5164910': [0, 0, 0, 1, ('', '')],\n",
       "  '5197781': [0, 0, 0, 1, ('', '')]})"
      ]
     },
     "execution_count": 29,
     "metadata": {},
     "output_type": "execute_result"
    }
   ],
   "source": [
    "purchase_dict_records[1], product_dictionary_records[1]"
   ]
  },
  {
   "cell_type": "code",
   "execution_count": 30,
   "metadata": {},
   "outputs": [
    {
     "data": {
      "text/plain": [
       "({'finish_id': ['5199774', '5199802'],\n",
       "  'return_id': [],\n",
       "  'amount': '2860',\n",
       "  'time': datetime.datetime(2019, 2, 26, 9, 37, 16),\n",
       "  'discount': '0',\n",
       "  'where': 'Online'},\n",
       " {'5199802': [1, 1, 0, 1, (datetime.datetime(2019, 2, 26, 8, 26, 47), 'Cart')],\n",
       "  '5199774': [1,\n",
       "   0,\n",
       "   0,\n",
       "   1,\n",
       "   (datetime.datetime(2019, 2, 26, 8, 27, 1), 'ViewSalePage')],\n",
       "  '5199841': [2,\n",
       "   0,\n",
       "   0,\n",
       "   0,\n",
       "   (datetime.datetime(2019, 2, 26, 8, 31, 52), 'ViewSalePage')]})"
      ]
     },
     "execution_count": 30,
     "metadata": {},
     "output_type": "execute_result"
    }
   ],
   "source": [
    "purchase_dict_records[2], product_dictionary_records[2]"
   ]
  },
  {
   "cell_type": "code",
   "execution_count": 31,
   "metadata": {},
   "outputs": [
    {
     "data": {
      "text/plain": [
       "({'finish_id': ['3160278', '5091125'],\n",
       "  'return_id': [],\n",
       "  'amount': '2660',\n",
       "  'time': datetime.datetime(2019, 3, 22, 13, 28, 14),\n",
       "  'discount': '-2000',\n",
       "  'where': 'Offline'},\n",
       " {'3160278': [0, 0, 0, 1, ('', '')], '5091125': [0, 0, 0, 1, ('', '')]})"
      ]
     },
     "execution_count": 31,
     "metadata": {},
     "output_type": "execute_result"
    }
   ],
   "source": [
    "purchase_dict_records[3], product_dictionary_records[3]"
   ]
  },
  {
   "cell_type": "markdown",
   "metadata": {},
   "source": [
    "# 計算freqency 以及 金額大小，首先必須要有purchase_dict_records"
   ]
  },
  {
   "cell_type": "code",
   "execution_count": 130,
   "metadata": {},
   "outputs": [],
   "source": [
    "def update_F_M(purchase_time, purchase_amount):\n",
    "    global F_list, M_list\n",
    "    \n",
    "    \n",
    "    if purchase_time.year == 2018:\n",
    "        i = purchase_time.month - 3\n",
    "    elif purchase_time.year == 2019:\n",
    "        i = purchase_time.month + 9\n",
    "    \n",
    "    F_list[i] +=1\n",
    "    M_list[i] += purchase_amount"
   ]
  },
  {
   "cell_type": "code",
   "execution_count": 131,
   "metadata": {},
   "outputs": [],
   "source": [
    "F_list = [0]*14\n",
    "M_list = [0]*14\n",
    "for a_record in purchase_dict_records:\n",
    "    purchase_time = a_record['time']\n",
    "    purchase_amount = int( a_record['amount'] )\n",
    "    update_F_M(purchase_time, purchase_amount)\n",
    "    "
   ]
  },
  {
   "cell_type": "code",
   "execution_count": 134,
   "metadata": {},
   "outputs": [
    {
     "name": "stdout",
     "output_type": "stream",
     "text": [
      "0 0\n",
      "1 2560\n",
      "4 21200\n",
      "4 10040\n",
      "7 36500\n",
      "0 0\n",
      "1 1480\n",
      "1 2460\n",
      "0 0\n",
      "2 3660\n",
      "7 39420\n",
      "7 21770\n",
      "4 12740\n",
      "2 8090\n"
     ]
    }
   ],
   "source": [
    "for i in range(14):\n",
    "    print( F_list[i], M_list[i])"
   ]
  },
  {
   "cell_type": "markdown",
   "metadata": {},
   "source": [
    "# 算 點擊、購物車、FAV 轉換率"
   ]
  },
  {
   "cell_type": "code",
   "execution_count": 135,
   "metadata": {},
   "outputs": [],
   "source": [
    "def update_conversion_list(view, cart, fav, product_id):\n",
    "    global conversion_list\n",
    "    \n",
    "    if view !=0:\n",
    "        conversion_list[0].add(product_id)\n",
    "    if cart !=0:\n",
    "        conversion_list[1].add(product_id)\n",
    "    if fav !=0:\n",
    "        conversion_list[2].add(product_id)\n",
    "        \n",
    "def update_conversion_metrics(conversion_list,  purchase_dict):\n",
    "    global conversion_metrics_all\n",
    "    \n",
    "    def conversion_rate(buy_set, other_set):\n",
    "        if len(other_set) == 0:\n",
    "            return None\n",
    "        else:\n",
    "            return round( len(  buy_set.intersection(other_set)   ) /  len(other_set) , 2)\n",
    "    buy_set = set( purchase_dict['finish_id'] )\n",
    "    view_set, cart_set, fav_set = conversion_list\n",
    "    \n",
    "    \n",
    "    v_c = conversion_rate(buy_set, view_set)\n",
    "    c_c = conversion_rate(buy_set, cart_set)\n",
    "    f_c = conversion_rate(buy_set, fav_set)\n",
    "    \n",
    "    conversion_metrics_all.append(  [v_c, c_c, f_c ])\n",
    "    \n",
    "    "
   ]
  },
  {
   "cell_type": "code",
   "execution_count": 136,
   "metadata": {},
   "outputs": [],
   "source": [
    "'定義是 view_conversion_rate = 所有有被看過的商品，其最後會被買的比率' ,\n",
    "'定義是 cart_conversion_rate = 所有有被cart的商品，其最後會被買的比率' ,\n",
    "'定義是  fav_conversion_rate = 所有有被 fav的商品，其最後會被買的比率' \n",
    "conversion_metrics_all = [] #裡面放每一次交易的轉換率list = [view 轉換率, cart 轉換率, fav轉換率]"
   ]
  },
  {
   "cell_type": "code",
   "execution_count": 137,
   "metadata": {},
   "outputs": [],
   "source": [
    "for i in range(len(product_dictionary_records)):\n",
    "    a_dict = product_dictionary_records[i]\n",
    "    conversion_list = [set(), set(), set()]\n",
    "    \n",
    "    cnt = 0\n",
    "    for product_id in a_dict.keys():\n",
    "        view, cart, fav, buy, (time, last) = a_dict[product_id]\n",
    "        update_conversion_list(view, cart, fav, product_id)\n",
    "        \n",
    "    update_conversion_metrics(conversion_list, purchase_dict_records[i])"
   ]
  },
  {
   "cell_type": "markdown",
   "metadata": {},
   "source": [
    "* total conversion rate ( 買次數/ session次數)"
   ]
  },
  {
   "cell_type": "code",
   "execution_count": 138,
   "metadata": {},
   "outputs": [
    {
     "data": {
      "text/plain": [
       "0.033984706881903144"
      ]
     },
     "execution_count": 138,
     "metadata": {},
     "output_type": "execute_result"
    }
   ],
   "source": [
    "len(purchase_dict_records) / len(session_list)"
   ]
  },
  {
   "cell_type": "markdown",
   "metadata": {},
   "source": [
    "* [view 轉換率, cart 轉換率, fav轉換率]"
   ]
  },
  {
   "cell_type": "code",
   "execution_count": 139,
   "metadata": {
    "scrolled": false
   },
   "outputs": [
    {
     "name": "stdout",
     "output_type": "stream",
     "text": [
      "Online 2018-04-19 22:39:42 \n",
      " [0.01, 0.25, 0.0] 2560\n",
      "Offline 2018-05-01 19:04:15 \n",
      " [0.16, 1.0, 0.5] 16080\n",
      "Offline 2018-05-14 15:15:05 \n",
      " [0.02, 0.0, None] 90\n",
      "Online 2018-05-30 07:54:16 \n",
      " [0.06, 1.0, 1.0] 3450\n",
      "Online 2018-05-31 20:24:28 \n",
      " [0.2, 1.0, None] 1580\n",
      "Online 2018-06-15 00:27:06 \n",
      " [0.04, 1.0, 0.0] 2560\n",
      "Online 2018-06-22 20:32:32 \n",
      " [0.02, 0.33, None] 2360\n",
      "Online 2018-06-26 01:09:24 \n",
      " [0.12, 1.0, None] 2760\n",
      "Offline 2018-06-27 21:20:23 \n",
      " [0.0, None, None] 2360\n",
      "Offline 2018-07-08 17:41:10 \n",
      " [0.02, 0.0, None] 1280\n",
      "Online 2018-07-10 01:03:23 \n",
      " [0.07, 0.5, None] 4040\n",
      "Online 2018-07-11 00:14:08 \n",
      " [0.13, 0.8, None] 4530\n",
      "Offline 2018-07-21 17:20:13 \n",
      " [0.02, 0.0, None] 18380\n",
      "Online 2018-07-24 07:59:06 \n",
      " [0.03, 0.33, None] 3340\n",
      "Online 2018-07-25 18:57:22 \n",
      " [0.06, 1.0, 0.0] 1480\n",
      "Online 2018-07-31 01:11:27 \n",
      " [0.03, None, None] 3450\n",
      "Online 2018-09-28 00:01:13 \n",
      " [0.01, 0.5, 0.0] 1480\n",
      "Online 2018-10-09 07:07:43 \n",
      " [0.07, 1.0, None] 2460\n",
      "Online 2018-12-14 12:57:39 \n",
      " [0.01, 0.0, None] 2180\n",
      "Online 2018-12-25 23:13:50 \n",
      " [0.02, 0.25, 0.0] 1480\n",
      "Online 2019-01-08 01:34:50 \n",
      " [0.05, 0.67, None] 2760\n",
      "Online 2019-01-10 09:33:47 \n",
      " [0.06, None, 0.0] 2280\n",
      "Offline 2019-01-23 21:56:45 \n",
      " [0.08, 0.0, 0.0] 28280\n",
      "Offline 2019-01-24 16:06:14 \n",
      " [0.06, None, 0.0] 0\n",
      "Online 2019-01-25 09:37:33 \n",
      " [0.14, 0.67, None] 3350\n",
      "Offline 2019-01-30 21:19:11 \n",
      " [0.03, 0.0, 0.0] 1970\n",
      "Offline 2019-01-30 21:23:00 \n",
      " [None, None, None] 780\n",
      "Offline 2019-02-11 15:09:45 \n",
      " [0.02, 0.0, 0.5] 3060\n",
      "Online 2019-02-12 08:55:00 \n",
      " [0.11, 1.0, None] 2660\n",
      "Offline 2019-02-16 16:05:47 \n",
      " [0.13, 0.5, 0.0] 7680\n",
      "Online 2019-02-19 12:43:56 \n",
      " [0.05, 0.4, 0.0] 1180\n",
      "Offline 2019-02-22 20:40:13 \n",
      " [0.03, 0.0, None] 1080\n",
      "Online 2019-02-26 07:41:28 \n",
      " [0.07, 0.43, 0.0] 3250\n",
      "Online 2019-02-26 09:37:16 \n",
      " [0.67, 1.0, None] 2860\n",
      "Online 2019-03-07 21:34:46 \n",
      " [0.03, 0.5, 0.33] 3560\n",
      "Online 2019-03-12 00:58:38 \n",
      " [0.04, 0.5, 0.0] 3360\n",
      "Online 2019-03-20 18:33:27 \n",
      " [0.04, 1.0, 0.0] 1080\n",
      "Online 2019-03-26 07:37:07 \n",
      " [0.04, 0.5, 0.0] 4740\n",
      "Online 2019-04-02 07:38:35 \n",
      " [0.05, 1.0, None] 1380\n",
      "Online 2019-04-29 20:06:08 \n",
      " [0.05, 0.23, 0.4] 6710\n"
     ]
    }
   ],
   "source": [
    "for i in range(len(conversion_metrics_all)):\n",
    "    print( purchase_dict_records[i]['where'], purchase_dict_records[i]['time'], '\\n',conversion_metrics_all[i], purchase_dict_records[i]['amount'])"
   ]
  },
  {
   "cell_type": "code",
   "execution_count": null,
   "metadata": {},
   "outputs": [],
   "source": []
  },
  {
   "cell_type": "code",
   "execution_count": null,
   "metadata": {},
   "outputs": [],
   "source": []
  },
  {
   "cell_type": "code",
   "execution_count": null,
   "metadata": {},
   "outputs": [],
   "source": []
  },
  {
   "cell_type": "code",
   "execution_count": null,
   "metadata": {},
   "outputs": [],
   "source": []
  },
  {
   "cell_type": "markdown",
   "metadata": {},
   "source": [
    "# 原本Gish的東西"
   ]
  },
  {
   "cell_type": "code",
   "execution_count": null,
   "metadata": {},
   "outputs": [],
   "source": [
    "import pandas as pd\n",
    "import math\n",
    "df = pd.read_csv('45826522P9.txt',header = None) \n",
    "\"建議變數名寫df ，這是dataframe object 而不是file object\""
   ]
  },
  {
   "cell_type": "code",
   "execution_count": 170,
   "metadata": {},
   "outputs": [],
   "source": [
    "#回傳一個陣列，裡面有  除了第一列(也就是時間列)的所有value count\n",
    "#呼叫時parameters放入要讀取的檔案\n",
    "def countValues(file):\n",
    "    file_header = list(file)\n",
    "    unique_count = {}\n",
    "    for i in range(1,len(file_header)):  #刻意不算時間欄位\n",
    "        valueCounts = file[file_header[i]].value_counts()\n",
    "        for j in range(len(valueCounts.index)):\n",
    "            unique_count[valueCounts.index[j]] = valueCounts.values[j]\n",
    "    return unique_count\n",
    "\n",
    "#以下沒用到，以後要用可以參考\n",
    "#unique_names = file[file_header[i]].value_counts().index.tolist() #算出個欄位unique值\n",
    "#unique_count[valueCounts.indexs] = valueCounts.values\n",
    "        "
   ]
  },
  {
   "cell_type": "code",
   "execution_count": 171,
   "metadata": {},
   "outputs": [],
   "source": [
    "countValuesList = countValues(file)"
   ]
  },
  {
   "cell_type": "code",
   "execution_count": 172,
   "metadata": {},
   "outputs": [],
   "source": [
    "def activityCount(file):  #使用這個function請先確定資料是照日期排序，且第二欄位為TrafficSource\n",
    "    sessionJumpCount = 0 #算session跳另一組的次數\n",
    "    rowCount = 0\n",
    "    for i in range(len(file.index)):\n",
    "        if i==0: \n",
    "            rowCount =1 \n",
    "            continue\n",
    "        if file[2][i] == file[2][i-1]: #如果session連續\n",
    "            rowCount += 1\n",
    "        else:\n",
    "            #print(\"換另一session\")\n",
    "            sessionJumpCount += 1\n",
    "            rowCount +=1\n",
    "            \n",
    "    print(\"rowCount = \" + str(rowCount))\n",
    "    print(\"sessionJumpCount =\" +str(sessionJumpCount))\n",
    "    # print( math.log2(rowCount) + sessionJumpCount) #97\n",
    "    return math.sqrt(rowCount)+sessionJumpCount"
   ]
  },
  {
   "cell_type": "code",
   "execution_count": 173,
   "metadata": {},
   "outputs": [
    {
     "name": "stdout",
     "output_type": "stream",
     "text": [
      "rowCount = 10173\n",
      "sessionJumpCount =1045\n"
     ]
    },
    {
     "data": {
      "text/plain": [
       "1145.8612908900138"
      ]
     },
     "execution_count": 173,
     "metadata": {},
     "output_type": "execute_result"
    }
   ],
   "source": [
    "activityCount(file)"
   ]
  },
  {
   "cell_type": "code",
   "execution_count": 174,
   "metadata": {},
   "outputs": [],
   "source": [
    "def purchaseActivityCount(countValuesList): #執行過countValues函數，把那個函數的return值丟進來才能算\n",
    "    purchaseActivityDict = {}\n",
    "    favCount = countValuesList['Fav']\n",
    "    cartCount = countValuesList['Cart']\n",
    "    purchaseCount = countValuesList['Purchase']\n",
    "    purchaseCartConversionRate = purchaseCount/cartCount # 購物次數/cart次數\n",
    "    favPurchaseConversionRate = favCount/purchaseCount # fav次數/購物次數\n",
    "    #所以purchaseCartConversionRate*favCartConversionRate =  fav次數/cart次數\n",
    "    favCartConversionRate = purchaseCartConversionRate*favPurchaseConversionRate # fav/Cart\n",
    "    purchaseActivityDict.update({'favCount' : favCount,\n",
    "                                'cartCount' : cartCount,\n",
    "                                'purchaseCount' : purchaseCount,\n",
    "                                'purchaseCartConversionRate' : purchaseCartConversionRate,\n",
    "                                'favPurchaseConversionRate' : favPurchaseConversionRate,\n",
    "                                'favCartConversionRate' : favCartConversionRate})\n",
    "    return purchaseActivityDict"
   ]
  },
  {
   "cell_type": "code",
   "execution_count": 175,
   "metadata": {},
   "outputs": [
    {
     "data": {
      "text/plain": [
       "{'favCount': 37,\n",
       " 'cartCount': 142,\n",
       " 'purchaseCount': 64,\n",
       " 'purchaseCartConversionRate': 0.4507042253521127,\n",
       " 'favPurchaseConversionRate': 0.578125,\n",
       " 'favCartConversionRate': 0.2605633802816901}"
      ]
     },
     "execution_count": 175,
     "metadata": {},
     "output_type": "execute_result"
    }
   ],
   "source": [
    "purchaseActivityCount(countValuesList)"
   ]
  },
  {
   "cell_type": "code",
   "execution_count": 12,
   "metadata": {},
   "outputs": [
    {
     "name": "stdout",
     "output_type": "stream",
     "text": [
      "ViewSalePage\n"
     ]
    }
   ],
   "source": [
    "# print(file[3][1])"
   ]
  },
  {
   "cell_type": "code",
   "execution_count": null,
   "metadata": {},
   "outputs": [],
   "source": [
    "# for i, row in enumerate(file.values):\n",
    "#     print(i)\n",
    "#     print(type(row[0]))\n",
    "#     print(file.values[i-1])"
   ]
  },
  {
   "cell_type": "code",
   "execution_count": null,
   "metadata": {},
   "outputs": [],
   "source": [
    "# for i, row in enumerate(file.values):\n",
    "#     #print((pd.to_datetime(row[0]) - pd.to_datetime(file.values[i-1][0])).total_seconds())\n",
    "#     print(i)\n",
    "#     if(i%3==0):\n",
    "#         i+=2"
   ]
  },
  {
   "cell_type": "code",
   "execution_count": 374,
   "metadata": {},
   "outputs": [
    {
     "name": "stdout",
     "output_type": "stream",
     "text": [
      "49\n"
     ]
    }
   ],
   "source": [
    "# print(len(file.index))"
   ]
  },
  {
   "cell_type": "code",
   "execution_count": 429,
   "metadata": {},
   "outputs": [
    {
     "data": {
      "text/plain": [
       "Timestamp('2018-04-08 19:36:45')"
      ]
     },
     "execution_count": 429,
     "metadata": {},
     "output_type": "execute_result"
    }
   ],
   "source": [
    "# txt = \"8888 55 44\"\n",
    "# txt.split(\" \")\n",
    "#print(file[0][0].split(\" \")[0])"
   ]
  },
  {
   "cell_type": "markdown",
   "metadata": {},
   "source": [
    "# 開始做事情?"
   ]
  },
  {
   "cell_type": "markdown",
   "metadata": {},
   "source": [
    "### a_purchase_segment_row : 什麼?"
   ]
  },
  {
   "cell_type": "code",
   "execution_count": 527,
   "metadata": {},
   "outputs": [],
   "source": [
    "import datetime\n",
    "def purchaseBeforeCount(file):\n",
    "    \n",
    "    one_empty_row = pd.DataFrame([0])\n",
    "    file = file.append(one_empty_row,ignore_index=True)\n",
    "    \n",
    "    #print(file)\n",
    "    \n",
    "    purchase_segment_dict = {}\n",
    "    a_purchase_segment_row = 0\n",
    "    a_purchase_segment_product_list = {}\n",
    "    a_purchase_segment_source_type = {}\n",
    "    a_purchase_segment_SessionCount=0   #　session的跳動count\n",
    "    a_purchase_segment_SessionSeriesCount = 1 # session序列跳下一個session序列的跳動count\n",
    "#     a_purchase_segment_SessionCount_totaltime = 0 # 每一個session 在一個purchase segment下的 總瀏覽時間\n",
    "#     a_purchase_segment_SessionSeriesCount_totaltime = 0 # 每一個sessionSeries 在一個purchase segment下的 總瀏覽時間\n",
    "    \n",
    "    a_purchase_segment_behavior_type ={}\n",
    "    a_purchase_segment_traffic_source ={}\n",
    "    a_purchase_order = {} #訂單的東西\n",
    "    purchase_orders = []\n",
    "    purchase_order_serial_number = 0 #訂單編號\n",
    "    before_purchase_counts=[]\n",
    "    i=0\n",
    "    \n",
    "#     session_count_index = [] #儲存session count的初始row index 以及跳動發生的時候 之index\n",
    "#     session_series_count_index = [] # 儲存session series count跟上述一樣的東西 目前還不確定正不正確\n",
    "    \n",
    "    \n",
    "#    behavior_name =''\n",
    "    \n",
    "    purchase_amount=0\n",
    "    discount_amount=0\n",
    "    \n",
    "#     sessiontime = pd.to_datetime(file.values[0][0])\n",
    "#     session_count_index.append(0)\n",
    "    for i, row in enumerate(file.values):\n",
    "        \n",
    "        if(row[3]!='Purchase' and row[3]!='Offline'):\n",
    "            a_purchase_segment_row += 1\n",
    "            try:\n",
    "                a_purchase_segment_source_type[\"{}\".format(row[4])] = a_purchase_segment_source_type[\"{}\".format(row[4])]+1\n",
    "            except:\n",
    "                a_purchase_segment_source_type.update({\"{}\".format(row[4]) : 1})\n",
    "            try:\n",
    "                a_purchase_segment_product_list[\"{}\".format(row[5])] = a_purchase_segment_product_list[\"{}\".format(row[5])]+1 #該品項或商品的count+1\n",
    "            except:\n",
    "                a_purchase_segment_product_list.update({\"{}\".format(row[5]) : 1}) \n",
    "\n",
    "            #BehaviorType\n",
    "            try:\n",
    "                a_purchase_segment_behavior_type[\"{}\".format(row[3])] = a_purchase_segment_behavior_type[\"{}\".format(row[3])]+1\n",
    "            except:\n",
    "                a_purchase_segment_behavior_type.update({\"{}\".format(row[3]) : 1})\n",
    "\n",
    "            try:\n",
    "                a_purchase_segment_traffic_source[\"{}\".format(row[1])] = a_purchase_segment_traffic_source[\"{}\".format(row[1])]+1\n",
    "            except:\n",
    "                a_purchase_segment_traffic_source.update({\"{}\".format(row[1]) : 1})\n",
    "\n",
    "\n",
    "        #算purchase裡，session的跳動  => 11231為跳三次 \n",
    "        \n",
    "            if(row[2]!=file.values[i-1][2]): # i-1為上一行 ,意思即是session跳動 i.e.如果session不等於上一個session的number\n",
    "#                 #if(row[2] + 1 != file.values[i-1][2] ):\n",
    "#                 session_count_index.append(i-1)\n",
    "                \n",
    "                \n",
    "#                 if(file.values[i+1][3]!='Offline'):\n",
    "#                     if(file.values[i+1][3]!='Purchase'):\n",
    "#                         session_count_index.append(i)\n",
    "                \n",
    "                \n",
    "                if((pd.to_datetime(row[0]) - pd.to_datetime(file.values[i-1][0])).total_seconds()>= 1800 or row[4]!=file.values[i-1][4]):  #if 超過1800秒 or 使用來源(web, app)不同:\n",
    "                    a_purchase_segment_SessionCount += 1 \n",
    "                    \n",
    "#                     elif(row[0].split(\" \")[0] !=file.values[i-1][0].split(\" \")[0] and row[4]!=file.values[i-1][4]):           #elif 換天flag==True and session數兩者不相同:\n",
    "#                          a_purchase_segment_SessionCount += 1\n",
    "                elif(row[0].split(\" \")[0] ==file.values[i-1][0].split(\" \")[0] and row[4]!=file.values[i-1][4]):            #elif 換天flag==False and session數兩者不相同:\n",
    "                    a_purchase_segment_SessionCount += 1\n",
    "\n",
    "            \n",
    "#                 #算SessionSeriesCount\n",
    "                if(row[2]!=file.values[i-1][2]+1 ): # 如果sessionnumber不連續        \n",
    "                    if((pd.to_datetime(row[0]) - pd.to_datetime(file.values[i-1][0])).total_seconds()>= 1800 and row[0].split(\" \")[0] ==file.values[i-1][0].split(\" \")[0]):\n",
    "                        a_purchase_segment_SessionSeriesCount += 1\n",
    "#                         session_series_count_index.append(i-1) # 儲存一個session series最後一個row之index\n",
    "                \n",
    "#             else: #如果session不跳動\n",
    "#                 if(row[2]==file.values[i+1][2] and row[2]==1): # \n",
    "#                     session_series_count_index.append(i-1)\n",
    "            \n",
    "        #如果該筆資料為purchase，把之前計算之數值放入dict,並且全部重新計算\n",
    "        elif(row[3]=='Purchase' or row[3]=='Offline'): #就是else，為purchase或offline的情況\n",
    "#             if(file.values[i-1][3]!='Purchase'):\n",
    "#                 if(file.values[i-1][3]!='Offline'):\n",
    "#                     if(i != 0):\n",
    "#                         session_count_index.append(i-1)\n",
    "            \n",
    "            \n",
    "            \n",
    "\n",
    "            \n",
    "            if(a_purchase_segment_SessionCount!=0): #把之前count的東西全部裝在一個list\n",
    "                #計算session,series total time\n",
    "#                 for index in range(0,len(session_count_index),2):\n",
    "#                     print(session_count_index)\n",
    "#                     print(pd.to_datetime(file.values[session_count_index[index+1]][0]))\n",
    "#                     print(pd.to_datetime(file.values[session_count_index[index]][0]))\n",
    "#                     #a_purchase_segment_SessionCount_totaltime += (pd.to_datetime(file.values[index+1][0]) - pd.to_datetime(file.values[index][0])).total_seconds()\n",
    "#                     #print(a_purchase_segment_SessionCount_totaltime)\n",
    "                \n",
    "#                 for index in session_series_count_index[::2]:\n",
    "#                     a_purchase_segment_SessionSeriesCount_totaltime += (pd.to_datetime(file.values[index+1][0]) - pd.to_datetime(file.values[index][0])).total_seconds()                \n",
    "\n",
    "                \n",
    "                before_purchase_counts.append({'segment_session_count' : a_purchase_segment_SessionCount,\n",
    "                                               'segment_session_series_count' : a_purchase_segment_SessionSeriesCount,\n",
    "                            'source_type' : a_purchase_segment_source_type,\n",
    "                             'product_list' : a_purchase_segment_product_list,\n",
    "                            'behavior_type' : a_purchase_segment_behavior_type,\n",
    "                            'traffic_source' : a_purchase_segment_traffic_source,\n",
    "#                             'session_count_time' : a_purchase_segment_SessionCount_totaltime,\n",
    "#                             'session_series_count_time' : a_purchase_segment_SessionSeriesCount_totaltime,\n",
    "                            'traffic_count' : a_purchase_segment_row\n",
    "                                               \n",
    "                                               \n",
    "                            })\n",
    "\n",
    "#             a_purchase_segment_SessionCount_totaltime = 0\n",
    "#             a_purchase_segment_SessionSeriesCount_totaltime = 0\n",
    "            a_purchase_segment_source_type = {}\n",
    "            a_purchase_segment_product_list = {}\n",
    "            a_purchase_segment_row = 0\n",
    "            a_purchase_segment_SessionCount = 0\n",
    "            a_purchase_segment_SessionSeriesCount = 1\n",
    "            a_purchase_segment_behavior_type ={}\n",
    "            a_purchase_segment_traffic_source ={}\n",
    "            a_purchase_segment_row = 0\n",
    "            \n",
    "            \n",
    "            #Purchase單 計算\n",
    "\n",
    "            if( row[0] != file.values[i-1][0]): #為purchase或offline， 且與上一row時間不同\n",
    "                if(row[0] != file.values[i+1][0] ): #已知下一筆資料不為同一筆訂單=>只購買一個單獨商品的訂單\n",
    "                    a_purchase_order.update({\"{}\".format(row[5]).split(\" \")[0] : 1})\n",
    "                    a_purchase_order['purchase_amount'] = float(row[5].split(\" \")[1])\n",
    "                    a_purchase_order['discount_amount'] = float(row[5].split(\" \")[2])         \n",
    "                    purchase_orders.append({'purchaseOrder{}{}'.format(row[3],purchase_order_serial_number) : a_purchase_order})\n",
    "                    purchase_amount=0\n",
    "                    discount_amount=0\n",
    "                    a_purchase_order = {}\n",
    "                    purchase_order_serial_number += 1                    \n",
    "                    continue\n",
    "                else: # 已知下一筆資料為同筆訂單\n",
    "                    try:\n",
    "                        a_purchase_order[\"{}\".format(row[5]).split(\" \")[0]] = a_purchase_segment_product_list[\"{}\".format(row[5]).split(\" \")[0]]+1\n",
    "                    except:\n",
    "                        a_purchase_order.update({\"{}\".format(row[5]).split(\" \")[0] : 1})\n",
    "                    purchase_amount += float(row[5].split(\" \")[1])\n",
    "                    discount_amount += float(row[5].split(\" \")[2])\n",
    "                    a_purchase_order['purchase_amount'] = purchase_amount\n",
    "                    a_purchase_order['discount_amount'] = discount_amount                    \n",
    "                        \n",
    "\n",
    "\n",
    "#                 elif(row[0] != file.values[i+1][0] ): #已知下一筆資料不為同一筆訂單=>只購買一個單獨商品的訂單\n",
    "#                     a_purchase_order.update({\"{}\".format(row[5]).split(\" \")[0] : 1})\n",
    "#                     a_purchase_order['purchase_amount'] = float(row[5].split(\" \")[1])\n",
    "#                     a_purchase_order['discount_amount'] = float(row[5].split(\" \")[2])         \n",
    "#                     purchase_orders.append({'purchaseOrder{}{}'.format(row[3],purchase_order_serial_number) : a_purchase_order})\n",
    "#                     a_purchase_order = {}\n",
    "#                     purchase_order_serial_number += 1\n",
    "\n",
    "\n",
    "\n",
    "            else: #如果是 purchase或offline,且時間與上一row時間相同\n",
    "                if(row[0] == file.values[i+1][0]): #下一row為同筆訂單\n",
    "                    try:\n",
    "                        a_purchase_order[\"{}\".format(row[5]).split(\" \")[0]] = a_purchase_segment_product_list[\"{}\".format(row[5]).split(\" \")[0]]+1\n",
    "                    except:\n",
    "                        a_purchase_order.update({\"{}\".format(row[5]).split(\" \")[0] : 1})\n",
    "                    purchase_amount += float(row[5].split(\" \")[1])\n",
    "                    discount_amount += float(row[5].split(\" \")[2])\n",
    "                    a_purchase_order['purchase_amount'] = purchase_amount\n",
    "                    a_purchase_order['discount_amount'] = discount_amount\n",
    "                else: #同一訂單最後一個row的情況\n",
    "\n",
    "                    #算最後一次的金額\n",
    "                    purchase_amount += float(row[5].split(\" \")[1])\n",
    "                    discount_amount += float(row[5].split(\" \")[2])\n",
    "                    a_purchase_order['purchase_amount'] = purchase_amount\n",
    "                    a_purchase_order['discount_amount'] = discount_amount\n",
    "\n",
    "                    #add 商品or種類 count\n",
    "                    try:\n",
    "                        a_purchase_order[\"{}\".format(row[5]).split(\" \")[0]] = a_purchase_segment_product_list[\"{}\".format(row[5]).split(\" \")[0]]+1\n",
    "                    except:\n",
    "                        a_purchase_order.update({\"{}\".format(row[5]).split(\" \")[0] : 1}) \n",
    "\n",
    "\n",
    "                    purchase_orders.append({'purchaseOrder{}{}'.format(row[3],purchase_order_serial_number) : a_purchase_order})\n",
    "                    #歸零\n",
    "                    a_purchase_order = {}\n",
    "                    purchase_amount=0\n",
    "                    discount_amount=0\n",
    "                    purchase_order_serial_number += 1\n",
    "                    \n",
    "                    \n",
    "                    \n",
    "#         if(i+2 == len(file.index)):\n",
    "#             if(file.values[i+1][0]==0): # 表示讀到整個資料表最後一row了\n",
    "#                 if(row[3]!='Purchase' and row[3]!='Offline'):\n",
    "#                     session_count_index.append(i)\n",
    "                \n",
    "                \n",
    "\n",
    "            \n",
    "            \n",
    "            \n",
    "    return before_purchase_counts,purchase_orders\n",
    "\n"
   ]
  },
  {
   "cell_type": "code",
   "execution_count": 528,
   "metadata": {},
   "outputs": [
    {
     "data": {
      "text/plain": [
       "([{'segment_session_count': 3,\n",
       "   'segment_session_series_count': 1,\n",
       "   'source_type': {'APP': 24},\n",
       "   'product_list': {'35222': 1,\n",
       "    '33652': 1,\n",
       "    '183450': 1,\n",
       "    '4143210': 1,\n",
       "    '4678808': 1,\n",
       "    '4700585': 1,\n",
       "    '4678939': 2,\n",
       "    '4735719': 1,\n",
       "    '4721435': 1,\n",
       "    '86270': 1,\n",
       "    '4715275': 1,\n",
       "    '4648175': 2,\n",
       "    '4721564': 1,\n",
       "    '4679507': 1,\n",
       "    '4678921': 2,\n",
       "    '4678821': 1,\n",
       "    '4656011': 1,\n",
       "    '4700252': 1,\n",
       "    '4636310': 1,\n",
       "    '4567709': 1,\n",
       "    '4246981': 1},\n",
       "   'behavior_type': {'ViewSalePageCategory': 4, 'ViewSalePage': 20},\n",
       "   'traffic_source': {'Direct': 24},\n",
       "   'traffic_count': 24},\n",
       "  {'segment_session_count': 2,\n",
       "   'segment_session_series_count': 1,\n",
       "   'source_type': {'APP': 14},\n",
       "   'product_list': {'51876': 1,\n",
       "    '4758407': 3,\n",
       "    '4814269': 2,\n",
       "    '4814395': 1,\n",
       "    '4814425': 2,\n",
       "    '182295': 1,\n",
       "    '231141': 1,\n",
       "    '4835216': 1,\n",
       "    '4835882': 1,\n",
       "    '35222': 1},\n",
       "   'behavior_type': {'ViewSalePageCategory': 4, 'ViewSalePage': 10},\n",
       "   'traffic_source': {'Direct': 14},\n",
       "   'traffic_count': 14},\n",
       "  {'segment_session_count': 1,\n",
       "   'segment_session_series_count': 1,\n",
       "   'source_type': {'APP': 1},\n",
       "   'product_list': {'33652': 1},\n",
       "   'behavior_type': {'ViewSalePageCategory': 1},\n",
       "   'traffic_source': {'Direct': 1},\n",
       "   'traffic_count': 1},\n",
       "  {'segment_session_count': 5,\n",
       "   'segment_session_series_count': 1,\n",
       "   'source_type': {'APP': 21},\n",
       "   'product_list': {'78849': 2,\n",
       "    '4901068': 1,\n",
       "    '4925538': 1,\n",
       "    '4922014': 1,\n",
       "    '4903665': 1,\n",
       "    '4913068': 1,\n",
       "    '78853': 1,\n",
       "    '衣服': 1,\n",
       "    '蕾絲': 1,\n",
       "    '4721876': 1,\n",
       "    '35222': 1,\n",
       "    '4943350': 1,\n",
       "    '5024546': 1,\n",
       "    '4982728': 1,\n",
       "    '4974768': 1,\n",
       "    '4944017': 1,\n",
       "    '4898564': 1,\n",
       "    '5016452': 1,\n",
       "    '5004206': 1,\n",
       "    '183450': 1},\n",
       "   'behavior_type': {'ViewSalePageCategory': 5,\n",
       "    'ViewSalePage': 14,\n",
       "    'Search': 2},\n",
       "   'traffic_source': {'Direct': 21},\n",
       "   'traffic_count': 21},\n",
       "  {'segment_session_count': 1,\n",
       "   'segment_session_series_count': 1,\n",
       "   'source_type': {'APP': 1},\n",
       "   'product_list': {'74626': 1},\n",
       "   'behavior_type': {'ViewSalePageCategory': 1},\n",
       "   'traffic_source': {'Direct': 1},\n",
       "   'traffic_count': 1},\n",
       "  {'segment_session_count': 2,\n",
       "   'segment_session_series_count': 2,\n",
       "   'source_type': {'APP': 11},\n",
       "   'product_list': {'5016898': 2,\n",
       "    '4982923': 3,\n",
       "    '4922014': 1,\n",
       "    '4758407': 1,\n",
       "    '4835882': 1,\n",
       "    '4943350': 2,\n",
       "    '35222': 1},\n",
       "   'behavior_type': {'ViewSalePage': 8, 'Cart': 2, 'ViewSalePageCategory': 1},\n",
       "   'traffic_source': {'Direct': 11},\n",
       "   'traffic_count': 11},\n",
       "  {'segment_session_count': 2,\n",
       "   'segment_session_series_count': 1,\n",
       "   'source_type': {'APP': 7},\n",
       "   'product_list': {'86270': 1,\n",
       "    '4982923': 2,\n",
       "    '5164976': 1,\n",
       "    '51875': 2,\n",
       "    '5180613': 1},\n",
       "   'behavior_type': {'ViewSalePageCategory': 3, 'ViewSalePage': 4},\n",
       "   'traffic_source': {'Direct': 7},\n",
       "   'traffic_count': 7}],\n",
       " [{'purchaseOrderOffline0': {'2548006': 1,\n",
       "    'purchase_amount': 13760.0,\n",
       "    'discount_amount': 0.0,\n",
       "    '2913311': 1,\n",
       "    '3069968': 1,\n",
       "    '3249200': 1}},\n",
       "  {'purchaseOrderOffline1': {'4587371': 1,\n",
       "    'purchase_amount': 18880.0,\n",
       "    'discount_amount': -6000.0,\n",
       "    '4587419': 1,\n",
       "    '4587480': 1,\n",
       "    '4608277': 1}},\n",
       "  {'purchaseOrderOffline2': {'4286330': 1,\n",
       "    'purchase_amount': 19720.0,\n",
       "    'discount_amount': 0.0,\n",
       "    '4396739': 1,\n",
       "    '4587480': 1,\n",
       "    '4608277': 1}},\n",
       "  {'purchaseOrderOffline3': {'': 1,\n",
       "    'purchase_amount': 9000.0,\n",
       "    'discount_amount': 0.0,\n",
       "    '2483721': 1,\n",
       "    '2548032': 1,\n",
       "    '3328542': 1}},\n",
       "  {'purchaseOrderOffline4': {'4550118': 1,\n",
       "    'purchase_amount': 3540.0,\n",
       "    'discount_amount': 0.0,\n",
       "    '4699734': 1}},\n",
       "  {'purchaseOrderOffline5': {'3813761': 1,\n",
       "    'purchase_amount': 4940.0,\n",
       "    'discount_amount': 0.0,\n",
       "    '4743053': 1}},\n",
       "  {'purchaseOrderOffline6': {'': 1,\n",
       "    'purchase_amount': 161760.0,\n",
       "    'discount_amount': 0.0,\n",
       "    '2345099': 1,\n",
       "    '2543097': 1,\n",
       "    '2678016': 1,\n",
       "    '3182105': 1,\n",
       "    '3669076': 1,\n",
       "    '3740677': 1,\n",
       "    '3779917': 1,\n",
       "    '3784227': 1,\n",
       "    '4555088': 1,\n",
       "    '4555223': 1,\n",
       "    '4561118': 1,\n",
       "    '4563184': 1,\n",
       "    '4782021': 1,\n",
       "    '5090707': 1}},\n",
       "  {'purchaseOrderOffline7': {'': 1,\n",
       "    'purchase_amount': 31640.0,\n",
       "    'discount_amount': -3500.0,\n",
       "    '3539886': 1,\n",
       "    '3669076': 1,\n",
       "    '4286757': 1,\n",
       "    '4551977': 1,\n",
       "    '4561118': 1,\n",
       "    '4904461': 1}},\n",
       "  {'purchaseOrderOffline8': {'2544493': 1,\n",
       "    'purchase_amount': 40590.0,\n",
       "    'discount_amount': 0.0,\n",
       "    '2549838': 1,\n",
       "    '2677737': 1,\n",
       "    '2815956': 1,\n",
       "    '3914316': 1,\n",
       "    '4563184': 1,\n",
       "    '4569737': 1,\n",
       "    '4878447': 1,\n",
       "    '4901609': 1}},\n",
       "  {'purchaseOrderOffline9': {'2292305': 1,\n",
       "    'purchase_amount': 1960.0,\n",
       "    'discount_amount': 0.0,\n",
       "    '4562076': 1}},\n",
       "  {'purchaseOrderOffline10': {'3329196': 1,\n",
       "    'purchase_amount': 5010.0,\n",
       "    'discount_amount': -600.0,\n",
       "    '3685866': 1,\n",
       "    '3914316': 1}},\n",
       "  {'purchaseOrderOffline11': {'': 1,\n",
       "    'purchase_amount': 2160.0,\n",
       "    'discount_amount': 0.0,\n",
       "    '5093507': 1}},\n",
       "  {'purchaseOrderOffline12': {'5131864': 1,\n",
       "    'purchase_amount': 1280.0,\n",
       "    'discount_amount': -500.0}},\n",
       "  {'purchaseOrderPurchase13': {'4982923': 1,\n",
       "    'purchase_amount': 4140.0,\n",
       "    'discount_amount': -400.0,\n",
       "    '5016898': 1}},\n",
       "  {'purchaseOrderOffline14': {'': 1,\n",
       "    'purchase_amount': 38400.0,\n",
       "    'discount_amount': 0.0,\n",
       "    '2873603': 1,\n",
       "    '3140888': 1,\n",
       "    '4901079': 1,\n",
       "    '4913279': 1,\n",
       "    '5092553': 1,\n",
       "    '5092970': 1,\n",
       "    '5199770': 1}}])"
      ]
     },
     "execution_count": 528,
     "metadata": {},
     "output_type": "execute_result"
    }
   ],
   "source": [
    "a = purchaseBeforeCount(file)\n",
    "a"
   ]
  }
 ],
 "metadata": {
  "kernelspec": {
   "display_name": "Python 3",
   "language": "python",
   "name": "python3"
  },
  "language_info": {
   "codemirror_mode": {
    "name": "ipython",
    "version": 3
   },
   "file_extension": ".py",
   "mimetype": "text/x-python",
   "name": "python",
   "nbconvert_exporter": "python",
   "pygments_lexer": "ipython3",
   "version": "3.7.3"
  }
 },
 "nbformat": 4,
 "nbformat_minor": 2
}
