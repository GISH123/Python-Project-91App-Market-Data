{
 "cells": [
  {
   "cell_type": "code",
   "execution_count": 169,
   "metadata": {},
   "outputs": [],
   "source": [
    "import pandas as pd\n",
    "import math\n",
    "file = pd.read_csv('45826522P9.txt',header = None)"
   ]
  },
  {
   "cell_type": "code",
   "execution_count": 170,
   "metadata": {},
   "outputs": [],
   "source": [
    "#回傳一個陣列，裡面有  除了第一列(也就是時間列)的所有value count\n",
    "#呼叫時parameters放入要讀取的檔案\n",
    "def countValues(file):\n",
    "    file_header = list(file)\n",
    "    unique_count = {}\n",
    "    for i in range(1,len(file_header)):  #刻意不算時間欄位\n",
    "        valueCounts = file[file_header[i]].value_counts()\n",
    "        for j in range(len(valueCounts.index)):\n",
    "            unique_count[valueCounts.index[j]] = valueCounts.values[j]\n",
    "    return unique_count\n",
    "\n",
    "#以下沒用到，以後要用可以參考\n",
    "#unique_names = file[file_header[i]].value_counts().index.tolist() #算出個欄位unique值\n",
    "#unique_count[valueCounts.indexs] = valueCounts.values\n",
    "        "
   ]
  },
  {
   "cell_type": "code",
   "execution_count": null,
   "metadata": {},
   "outputs": [],
   "source": [
    "# countValues(file)"
   ]
  },
  {
   "cell_type": "code",
   "execution_count": 171,
   "metadata": {},
   "outputs": [],
   "source": [
    "countValuesList = countValues(file)"
   ]
  },
  {
   "cell_type": "code",
   "execution_count": 172,
   "metadata": {},
   "outputs": [],
   "source": [
    "def activityCount(file):  #使用這個function請先確定資料是照日期排序，且第二欄位為TrafficSource\n",
    "    sessionJumpCount = 0 #算session跳另一組的次數\n",
    "    rowCount = 0\n",
    "    for i in range(len(file.index)):\n",
    "        if i==0: \n",
    "            rowCount =1 \n",
    "            continue\n",
    "        if file[2][i] == file[2][i-1]: #如果session連續\n",
    "            rowCount += 1\n",
    "        else:\n",
    "            #print(\"換另一session\")\n",
    "            sessionJumpCount += 1\n",
    "            rowCount +=1\n",
    "            \n",
    "    print(\"rowCount = \" + str(rowCount))\n",
    "    print(\"sessionJumpCount =\" +str(sessionJumpCount))\n",
    "    # print( math.log2(rowCount) + sessionJumpCount) #97\n",
    "    return math.sqrt(rowCount)+sessionJumpCount"
   ]
  },
  {
   "cell_type": "code",
   "execution_count": 173,
   "metadata": {},
   "outputs": [
    {
     "name": "stdout",
     "output_type": "stream",
     "text": [
      "rowCount = 10173\n",
      "sessionJumpCount =1045\n"
     ]
    },
    {
     "data": {
      "text/plain": [
       "1145.8612908900138"
      ]
     },
     "execution_count": 173,
     "metadata": {},
     "output_type": "execute_result"
    }
   ],
   "source": [
    "activityCount(file)"
   ]
  },
  {
   "cell_type": "code",
   "execution_count": 174,
   "metadata": {},
   "outputs": [],
   "source": [
    "def purchaseActivityCount(countValuesList): #執行過countValues函數，把那個函數的return值丟進來才能算\n",
    "    purchaseActivityDict = {}\n",
    "    favCount = countValuesList['Fav']\n",
    "    cartCount = countValuesList['Cart']\n",
    "    purchaseCount = countValuesList['Purchase']\n",
    "    purchaseCartConversionRate = purchaseCount/cartCount # 購物次數/cart次數\n",
    "    favPurchaseConversionRate = favCount/purchaseCount # fav次數/購物次數\n",
    "    #所以purchaseCartConversionRate*favCartConversionRate =  fav次數/cart次數\n",
    "    favCartConversionRate = purchaseCartConversionRate*favPurchaseConversionRate # fav/Cart\n",
    "    purchaseActivityDict.update({'favCount' : favCount,\n",
    "                                'cartCount' : cartCount,\n",
    "                                'purchaseCount' : purchaseCount,\n",
    "                                'purchaseCartConversionRate' : purchaseCartConversionRate,\n",
    "                                'favPurchaseConversionRate' : favPurchaseConversionRate,\n",
    "                                'favCartConversionRate' : favCartConversionRate})\n",
    "    return purchaseActivityDict"
   ]
  },
  {
   "cell_type": "code",
   "execution_count": 175,
   "metadata": {},
   "outputs": [
    {
     "data": {
      "text/plain": [
       "{'favCount': 37,\n",
       " 'cartCount': 142,\n",
       " 'purchaseCount': 64,\n",
       " 'purchaseCartConversionRate': 0.4507042253521127,\n",
       " 'favPurchaseConversionRate': 0.578125,\n",
       " 'favCartConversionRate': 0.2605633802816901}"
      ]
     },
     "execution_count": 175,
     "metadata": {},
     "output_type": "execute_result"
    }
   ],
   "source": [
    "purchaseActivityCount(countValuesList)"
   ]
  },
  {
   "cell_type": "code",
   "execution_count": 12,
   "metadata": {},
   "outputs": [
    {
     "name": "stdout",
     "output_type": "stream",
     "text": [
      "ViewSalePage\n"
     ]
    }
   ],
   "source": [
    "# print(file[3][1])"
   ]
  },
  {
   "cell_type": "code",
   "execution_count": null,
   "metadata": {},
   "outputs": [],
   "source": [
    "# for i, row in enumerate(file.values):\n",
    "#     print(i)\n",
    "#     print(type(row[0]))\n",
    "#     print(file.values[i-1])"
   ]
  },
  {
   "cell_type": "code",
   "execution_count": null,
   "metadata": {},
   "outputs": [],
   "source": [
    "# for i, row in enumerate(file.values):\n",
    "#     #print((pd.to_datetime(row[0]) - pd.to_datetime(file.values[i-1][0])).total_seconds())\n",
    "#     print(i)\n",
    "#     if(i%3==0):\n",
    "#         i+=2"
   ]
  },
  {
   "cell_type": "code",
   "execution_count": 74,
   "metadata": {},
   "outputs": [
    {
     "name": "stdout",
     "output_type": "stream",
     "text": [
      "10173\n"
     ]
    }
   ],
   "source": [
    "# print(len(file.index))"
   ]
  },
  {
   "cell_type": "code",
   "execution_count": 154,
   "metadata": {},
   "outputs": [
    {
     "data": {
      "text/plain": [
       "['8888', '55', '44']"
      ]
     },
     "execution_count": 154,
     "metadata": {},
     "output_type": "execute_result"
    }
   ],
   "source": [
    "# txt = \"8888 55 44\"\n",
    "# txt.split(\" \")"
   ]
  },
  {
   "cell_type": "code",
   "execution_count": 176,
   "metadata": {},
   "outputs": [],
   "source": [
    "import datetime\n",
    "def purchaseBeforeCount(file):\n",
    "    purchase_segment_dict = {}\n",
    "    a_purchase_segment_row = 0\n",
    "    a_purchase_segment_product_list = {}\n",
    "    a_purchase_segment_source_type = {}\n",
    "    a_purchase_segment_SessionCount=0\n",
    "    a_purchase_order = {}\n",
    "    purchase_orders = []\n",
    "    purchase_order_serial_number = 0 #訂單編號\n",
    "    test=[]\n",
    "    i=0\n",
    "    while(i+1 != len(file.index)):\n",
    "        for i, row in enumerate(file.values):\n",
    "\n",
    "            if(row[3]!='Purchase'):\n",
    "                a_purchase_segment_row += 1\n",
    "                try:\n",
    "                    a_purchase_segment_source_type[\"{}\".format(row[4])] = a_purchase_segment_source_type[\"{}\".format(row[4])]+1\n",
    "                except:\n",
    "                    a_purchase_segment_source_type.update({\"{}\".format(row[4]) : 1})\n",
    "                try:\n",
    "                    a_purchase_segment_product_list[\"{}\".format(row[5])] = a_purchase_segment_product_list[\"{}\".format(row[5])]+1 #該品項或商品的count+1\n",
    "                except:\n",
    "                    a_purchase_segment_product_list.update({\"{}\".format(row[5]) : 1})\n",
    "                \n",
    "            #算purchase裡，session的跳動  => 11231為跳四次 \n",
    "                if(row[2]!=file.values[i-1][2]): # i-1為上一行\n",
    "                    if((pd.to_datetime(row[0]) - pd.to_datetime(file.values[i-1][0])).total_seconds()>= 1800):\n",
    "                        a_purchase_segment_SessionCount += 1 \n",
    "                        \n",
    "            \n",
    "            #如果該筆資料為purchase，把之前計算之數值放入dict,並且全部重新計算\n",
    "            elif(row[3]=='Purchase'):\n",
    "                test.append(a_purchase_segment_SessionCount)\n",
    "#                 print(a_purchase_segment_source_type)\n",
    "#                 print(a_purchase_segment_product_list)\n",
    "                \n",
    "                #before_purchase_list.append(before_purchase_row)\n",
    "                \n",
    "                \n",
    "                \n",
    "                a_purchase_segment_source_type = {}\n",
    "                a_purchase_segment_product_list = {}\n",
    "                a_purchase_segment_row = 0\n",
    "                a_purchase_segment_SessionCount = 0\n",
    "                \n",
    "                \n",
    "                #Purchase單 計算\n",
    "                if(row[0] == file.values[i-1][0]): #如果時間相同\n",
    "                    try:\n",
    "                        a_purchase_order[\"{}\".format(row[5]).split(\" \")[0]] = a_purchase_segment_product_list[\"{}\".format(row[5]).split(\" \")[0]]+1\n",
    "                    except:\n",
    "                        a_purchase_order.update({\"{}\".format(row[5]).split(\" \")[0] : 1})\n",
    "                    purchase_amount += float(row[5].split(\" \")[1])\n",
    "                    discount_amount += float(row[5].split(\" \")[2])\n",
    "                    a_purchase_order['purchase_amount'] = purchase_amount\n",
    "                    a_purchase_order['discount_amount'] = discount_amount\n",
    "                else:\n",
    "                    if(a_purchase_order == {}):\n",
    "                        a_purchase_order.update({\"{}\".format(row[5]).split(\" \")[0] : 1})\n",
    "                        a_purchase_order['purchase_amount'] = float(row[5].split(\" \")[1])\n",
    "                        a_purchase_order['discount_amount'] = float(row[5].split(\" \")[2])\n",
    "                    purchase_orders.append({'purchaseOrder{}'.format(purchase_order_serial_number) : a_purchase_order})\n",
    "                    purchase_amount = float(row[5].split(\" \")[1])\n",
    "                    discount_amount = float(row[5].split(\" \")[2])\n",
    "                    purchase_order_serial_number += 1\n",
    "                    a_purchase_order = {}\n",
    "                    \n",
    "    return test,purchase_orders\n",
    "\n",
    "\n",
    "\n",
    "#     sessionJumpCount = 0 #算session跳另一組的次數\n",
    "#     rowCount = 0\n",
    "#     for i in range(len(file.index)):\n",
    "#         if i==0: \n",
    "#             rowCount =1 \n",
    "#             continue\n",
    "#         if file[2][i] == file[2][i-1]: #如果session連續\n",
    "#             rowCount += 1\n",
    "#         else:\n",
    "#             #print(\"換另一session\")\n",
    "#             sessionJumpCount += 1\n",
    "#             rowCount +=1\n",
    "            \n",
    "#     print(\"rowCount = \" + str(rowCount))\n",
    "#     print(\"sessionJumpCount =\" +str(sessionJumpCount))        \n",
    "            \n",
    "            \n",
    "    #before_purchase_list.append(每個dict)        \n",
    "    #return before_purchase_list"
   ]
  },
  {
   "cell_type": "code",
   "execution_count": 177,
   "metadata": {},
   "outputs": [
    {
     "data": {
      "text/plain": [
       "([45,\n",
       "  45,\n",
       "  0,\n",
       "  0,\n",
       "  3,\n",
       "  0,\n",
       "  24,\n",
       "  0,\n",
       "  0,\n",
       "  17,\n",
       "  0,\n",
       "  10,\n",
       "  0,\n",
       "  0,\n",
       "  32,\n",
       "  0,\n",
       "  5,\n",
       "  0,\n",
       "  0,\n",
       "  0,\n",
       "  18,\n",
       "  4,\n",
       "  20,\n",
       "  0,\n",
       "  47,\n",
       "  9,\n",
       "  7,\n",
       "  0,\n",
       "  32,\n",
       "  15,\n",
       "  9,\n",
       "  0,\n",
       "  11,\n",
       "  21,\n",
       "  5,\n",
       "  13,\n",
       "  0,\n",
       "  28,\n",
       "  0,\n",
       "  55,\n",
       "  0,\n",
       "  33,\n",
       "  0,\n",
       "  16,\n",
       "  0,\n",
       "  24,\n",
       "  0,\n",
       "  0,\n",
       "  2,\n",
       "  0,\n",
       "  35,\n",
       "  0,\n",
       "  9,\n",
       "  0,\n",
       "  26,\n",
       "  0,\n",
       "  13,\n",
       "  0,\n",
       "  18,\n",
       "  0,\n",
       "  42,\n",
       "  0,\n",
       "  0,\n",
       "  0],\n",
       " [{'purchaseOrder0': {'4297994': 1,\n",
       "    'purchase_amount': 2560.0,\n",
       "    'discount_amount': 0.0}},\n",
       "  {'purchaseOrder1': {'4305841': 1,\n",
       "    'purchase_amount': 3450.0,\n",
       "    'discount_amount': 0.0}},\n",
       "  {'purchaseOrder2': {'4396756': 1,\n",
       "    'purchase_amount': 10350.0,\n",
       "    'discount_amount': 0.0,\n",
       "    '4396777': 1}},\n",
       "  {'purchaseOrder3': {'4286297': 1,\n",
       "    'purchase_amount': 3160.0,\n",
       "    'discount_amount': 0.0}},\n",
       "  {'purchaseOrder4': {'4482455': 1,\n",
       "    'purchase_amount': 7680.0,\n",
       "    'discount_amount': 0.0}},\n",
       "  {'purchaseOrder5': {'4422498': 1,\n",
       "    'purchase_amount': 4720.0,\n",
       "    'discount_amount': 0.0}},\n",
       "  {'purchaseOrder6': {'4508699': 1,\n",
       "    'purchase_amount': 8280.0,\n",
       "    'discount_amount': -600.0,\n",
       "    '4508956': 1}},\n",
       "  {'purchaseOrder7': {'4549467': 1,\n",
       "    'purchase_amount': 8080.0,\n",
       "    'discount_amount': 0.0}},\n",
       "  {'purchaseOrder8': {'4527200': 1,\n",
       "    'purchase_amount': 18120.0,\n",
       "    'discount_amount': 0.0,\n",
       "    '4540006': 1,\n",
       "    '4542090': 1}},\n",
       "  {'purchaseOrder9': {'4527152': 1,\n",
       "    'purchase_amount': 1480.0,\n",
       "    'discount_amount': 0.0}},\n",
       "  {'purchaseOrder10': {'4565476': 1,\n",
       "    'purchase_amount': 3450.0,\n",
       "    'discount_amount': 0.0}},\n",
       "  {'purchaseOrder11': {'4608963': 1,\n",
       "    'purchase_amount': 6900.0,\n",
       "    'discount_amount': 0.0}},\n",
       "  {'purchaseOrder12': {'4784851': 1,\n",
       "    'purchase_amount': 1480.0,\n",
       "    'discount_amount': -500.0}},\n",
       "  {'purchaseOrder13': {'4835078': 1,\n",
       "    'purchase_amount': 2460.0,\n",
       "    'discount_amount': -200.0}},\n",
       "  {'purchaseOrder14': {'4835639': 1,\n",
       "    'purchase_amount': 4920.0,\n",
       "    'discount_amount': -400.0}},\n",
       "  {'purchaseOrder15': {'5064791': 1,\n",
       "    'purchase_amount': 1480.0,\n",
       "    'discount_amount': 0.0}},\n",
       "  {'purchaseOrder16': {'5023478': 1,\n",
       "    'purchase_amount': 2760.0,\n",
       "    'discount_amount': -200.0}},\n",
       "  {'purchaseOrder17': {'5095874': 1,\n",
       "    'purchase_amount': 5520.0,\n",
       "    'discount_amount': -400.0}},\n",
       "  {'purchaseOrder18': {'5109825': 1,\n",
       "    'purchase_amount': 2360.0,\n",
       "    'discount_amount': 0.0}},\n",
       "  {'purchaseOrder19': {'4943350': 1,\n",
       "    'purchase_amount': 1480.0,\n",
       "    'discount_amount': -500.0}},\n",
       "  {'purchaseOrder20': {'5095365': 1,\n",
       "    'purchase_amount': 3060.0,\n",
       "    'discount_amount': 0.0}},\n",
       "  {'purchaseOrder21': {'5125038': 1,\n",
       "    'purchase_amount': 6120.0,\n",
       "    'discount_amount': 0.0}},\n",
       "  {'purchaseOrder22': {'5142390': 1,\n",
       "    'purchase_amount': 6700.0,\n",
       "    'discount_amount': 0.0}},\n",
       "  {'purchaseOrder23': {'5165085': 1,\n",
       "    'purchase_amount': 5320.0,\n",
       "    'discount_amount': -400.0}},\n",
       "  {'purchaseOrder24': {'5173437': 1,\n",
       "    'purchase_amount': 2360.0,\n",
       "    'discount_amount': 0.0}},\n",
       "  {'purchaseOrder25': {'5189886': 1,\n",
       "    'purchase_amount': 3160.0,\n",
       "    'discount_amount': 0.0}},\n",
       "  {'purchaseOrder26': {'5164910': 1,\n",
       "    'purchase_amount': 9750.0,\n",
       "    'discount_amount': 0.0,\n",
       "    '5197781': 1}},\n",
       "  {'purchaseOrder27': {'5199802': 1,\n",
       "    'purchase_amount': 5720.0,\n",
       "    'discount_amount': 0.0}},\n",
       "  {'purchaseOrder28': {'5220040': 1,\n",
       "    'purchase_amount': 7120.0,\n",
       "    'discount_amount': 0.0}},\n",
       "  {'purchaseOrder29': {'5229333': 1,\n",
       "    'purchase_amount': 6720.0,\n",
       "    'discount_amount': -400.0}},\n",
       "  {'purchaseOrder30': {'5259771': 1,\n",
       "    'purchase_amount': 1080.0,\n",
       "    'discount_amount': 0.0}},\n",
       "  {'purchaseOrder31': {'5244073': 1,\n",
       "    'purchase_amount': 4740.0,\n",
       "    'discount_amount': 0.0}},\n",
       "  {'purchaseOrder32': {'5267201': 1,\n",
       "    'purchase_amount': 9480.0,\n",
       "    'discount_amount': 0.0}},\n",
       "  {'purchaseOrder33': {'5287824': 1,\n",
       "    'purchase_amount': 2760.0,\n",
       "    'discount_amount': 0.0}}])"
      ]
     },
     "execution_count": 177,
     "metadata": {},
     "output_type": "execute_result"
    }
   ],
   "source": [
    "a = purchaseBeforeCount(file)\n",
    "a"
   ]
  },
  {
   "cell_type": "code",
   "execution_count": 178,
   "metadata": {},
   "outputs": [
    {
     "data": {
      "text/plain": [
       "2"
      ]
     },
     "execution_count": 178,
     "metadata": {},
     "output_type": "execute_result"
    }
   ],
   "source": [
    "len(a)"
   ]
  },
  {
   "cell_type": "code",
   "execution_count": null,
   "metadata": {},
   "outputs": [],
   "source": []
  }
 ],
 "metadata": {
  "kernelspec": {
   "display_name": "Python 3",
   "language": "python",
   "name": "python3"
  },
  "language_info": {
   "codemirror_mode": {
    "name": "ipython",
    "version": 3
   },
   "file_extension": ".py",
   "mimetype": "text/x-python",
   "name": "python",
   "nbconvert_exporter": "python",
   "pygments_lexer": "ipython3",
   "version": "3.7.3"
  }
 },
 "nbformat": 4,
 "nbformat_minor": 2
}
