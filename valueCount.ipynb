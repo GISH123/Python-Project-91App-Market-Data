{
 "cells": [
  {
   "cell_type": "code",
   "execution_count": 169,
   "metadata": {},
   "outputs": [],
   "source": [
    "import pandas as pd\n",
    "import math\n",
    "file = pd.read_csv('45826522P9.txt',header = None)"
   ]
  },
  {
   "cell_type": "code",
   "execution_count": 170,
   "metadata": {},
   "outputs": [],
   "source": [
    "#回傳一個陣列，裡面有  除了第一列(也就是時間列)的所有value count\n",
    "#呼叫時parameters放入要讀取的檔案\n",
    "def countValues(file):\n",
    "    file_header = list(file)\n",
    "    unique_count = {}\n",
    "    for i in range(1,len(file_header)):  #刻意不算時間欄位\n",
    "        valueCounts = file[file_header[i]].value_counts()\n",
    "        for j in range(len(valueCounts.index)):\n",
    "            unique_count[valueCounts.index[j]] = valueCounts.values[j]\n",
    "    return unique_count\n",
    "\n",
    "#以下沒用到，以後要用可以參考\n",
    "#unique_names = file[file_header[i]].value_counts().index.tolist() #算出個欄位unique值\n",
    "#unique_count[valueCounts.indexs] = valueCounts.values\n",
    "        "
   ]
  },
  {
   "cell_type": "code",
   "execution_count": null,
   "metadata": {},
   "outputs": [],
   "source": [
    "# countValues(file)"
   ]
  },
  {
   "cell_type": "code",
   "execution_count": 171,
   "metadata": {},
   "outputs": [],
   "source": [
    "countValuesList = countValues(file)"
   ]
  },
  {
   "cell_type": "code",
   "execution_count": 172,
   "metadata": {},
   "outputs": [],
   "source": [
    "def activityCount(file):  #使用這個function請先確定資料是照日期排序，且第二欄位為TrafficSource\n",
    "    sessionJumpCount = 0 #算session跳另一組的次數\n",
    "    rowCount = 0\n",
    "    for i in range(len(file.index)):\n",
    "        if i==0: \n",
    "            rowCount =1 \n",
    "            continue\n",
    "        if file[2][i] == file[2][i-1]: #如果session連續\n",
    "            rowCount += 1\n",
    "        else:\n",
    "            #print(\"換另一session\")\n",
    "            sessionJumpCount += 1\n",
    "            rowCount +=1\n",
    "            \n",
    "    print(\"rowCount = \" + str(rowCount))\n",
    "    print(\"sessionJumpCount =\" +str(sessionJumpCount))\n",
    "    # print( math.log2(rowCount) + sessionJumpCount) #97\n",
    "    return math.sqrt(rowCount)+sessionJumpCount"
   ]
  },
  {
   "cell_type": "code",
   "execution_count": 173,
   "metadata": {},
   "outputs": [
    {
     "name": "stdout",
     "output_type": "stream",
     "text": [
      "rowCount = 10173\n",
      "sessionJumpCount =1045\n"
     ]
    },
    {
     "data": {
      "text/plain": [
       "1145.8612908900138"
      ]
     },
     "execution_count": 173,
     "metadata": {},
     "output_type": "execute_result"
    }
   ],
   "source": [
    "activityCount(file)"
   ]
  },
  {
   "cell_type": "code",
   "execution_count": 174,
   "metadata": {},
   "outputs": [],
   "source": [
    "def purchaseActivityCount(countValuesList): #執行過countValues函數，把那個函數的return值丟進來才能算\n",
    "    purchaseActivityDict = {}\n",
    "    favCount = countValuesList['Fav']\n",
    "    cartCount = countValuesList['Cart']\n",
    "    purchaseCount = countValuesList['Purchase']\n",
    "    purchaseCartConversionRate = purchaseCount/cartCount # 購物次數/cart次數\n",
    "    favPurchaseConversionRate = favCount/purchaseCount # fav次數/購物次數\n",
    "    #所以purchaseCartConversionRate*favCartConversionRate =  fav次數/cart次數\n",
    "    favCartConversionRate = purchaseCartConversionRate*favPurchaseConversionRate # fav/Cart\n",
    "    purchaseActivityDict.update({'favCount' : favCount,\n",
    "                                'cartCount' : cartCount,\n",
    "                                'purchaseCount' : purchaseCount,\n",
    "                                'purchaseCartConversionRate' : purchaseCartConversionRate,\n",
    "                                'favPurchaseConversionRate' : favPurchaseConversionRate,\n",
    "                                'favCartConversionRate' : favCartConversionRate})\n",
    "    return purchaseActivityDict"
   ]
  },
  {
   "cell_type": "code",
   "execution_count": 175,
   "metadata": {},
   "outputs": [
    {
     "data": {
      "text/plain": [
       "{'favCount': 37,\n",
       " 'cartCount': 142,\n",
       " 'purchaseCount': 64,\n",
       " 'purchaseCartConversionRate': 0.4507042253521127,\n",
       " 'favPurchaseConversionRate': 0.578125,\n",
       " 'favCartConversionRate': 0.2605633802816901}"
      ]
     },
     "execution_count": 175,
     "metadata": {},
     "output_type": "execute_result"
    }
   ],
   "source": [
    "purchaseActivityCount(countValuesList)"
   ]
  },
  {
   "cell_type": "code",
   "execution_count": 12,
   "metadata": {},
   "outputs": [
    {
     "name": "stdout",
     "output_type": "stream",
     "text": [
      "ViewSalePage\n"
     ]
    }
   ],
   "source": [
    "# print(file[3][1])"
   ]
  },
  {
   "cell_type": "code",
   "execution_count": null,
   "metadata": {},
   "outputs": [],
   "source": [
    "# for i, row in enumerate(file.values):\n",
    "#     print(i)\n",
    "#     print(type(row[0]))\n",
    "#     print(file.values[i-1])"
   ]
  },
  {
   "cell_type": "code",
   "execution_count": null,
   "metadata": {},
   "outputs": [],
   "source": [
    "# for i, row in enumerate(file.values):\n",
    "#     #print((pd.to_datetime(row[0]) - pd.to_datetime(file.values[i-1][0])).total_seconds())\n",
    "#     print(i)\n",
    "#     if(i%3==0):\n",
    "#         i+=2"
   ]
  },
  {
   "cell_type": "code",
   "execution_count": 74,
   "metadata": {},
   "outputs": [
    {
     "name": "stdout",
     "output_type": "stream",
     "text": [
      "10173\n"
     ]
    }
   ],
   "source": [
    "# print(len(file.index))"
   ]
  },
  {
   "cell_type": "code",
   "execution_count": 218,
   "metadata": {},
   "outputs": [
    {
     "name": "stdout",
     "output_type": "stream",
     "text": [
      "2018-03-06\n"
     ]
    }
   ],
   "source": [
    "# txt = \"8888 55 44\"\n",
    "# txt.split(\" \")\n",
    "#print(file[0][0].split(\" \")[0])"
   ]
  },
  {
   "cell_type": "code",
   "execution_count": 330,
   "metadata": {},
   "outputs": [],
   "source": [
    "import datetime\n",
    "def purchaseBeforeCount(file):\n",
    "    purchase_segment_dict = {}\n",
    "    a_purchase_segment_row = 0\n",
    "    a_purchase_segment_product_list = {}\n",
    "    a_purchase_segment_source_type = {}\n",
    "    a_purchase_segment_SessionCount=0   #　session的跳動count\n",
    "    a_purchase_segment_SessionSeriesCount = 0 # session序列跳下一個session序列的跳動count\n",
    "    \n",
    "    a_purchase_segment_behavior_type ={}\n",
    "    a_purchase_segment_traffic_source ={}\n",
    "    a_purchase_order = {} #訂單的東西\n",
    "    purchase_orders = []\n",
    "    purchase_order_serial_number = 0 #訂單編號\n",
    "    before_purchase_counts=[]\n",
    "    i=0\n",
    "#    behavior_name =''\n",
    "    \n",
    "    purchase_amount=0\n",
    "    discount_amount=0\n",
    "    while(i+1 != len(file.index)):\n",
    "        for i, row in enumerate(file.values):\n",
    "\n",
    "            if(row[3]!='Purchase' and row[3]!='Offline'):\n",
    "                a_purchase_segment_row += 1\n",
    "                try:\n",
    "                    a_purchase_segment_source_type[\"{}\".format(row[4])] = a_purchase_segment_source_type[\"{}\".format(row[4])]+1\n",
    "                except:\n",
    "                    a_purchase_segment_source_type.update({\"{}\".format(row[4]) : 1})\n",
    "                try:\n",
    "                    a_purchase_segment_product_list[\"{}\".format(row[5])] = a_purchase_segment_product_list[\"{}\".format(row[5])]+1 #該品項或商品的count+1\n",
    "                except:\n",
    "                    a_purchase_segment_product_list.update({\"{}\".format(row[5]) : 1}) \n",
    "                    \n",
    "                #BehaviorType\n",
    "                try:\n",
    "                    a_purchase_segment_behavior_type[\"{}\".format(row[3])] = a_purchase_segment_behavior_type[\"{}\".format(row[3])]+1\n",
    "                except:\n",
    "                    a_purchase_segment_behavior_type.update({\"{}\".format(row[3]) : 1})\n",
    "                 \n",
    "                try:\n",
    "                    a_purchase_segment_traffic_source[\"{}\".format(row[1])] = a_purchase_segment_traffic_source[\"{}\".format(row[1])]+1\n",
    "                except:\n",
    "                    a_purchase_segment_traffic_source.update({\"{}\".format(row[1]) : 1})\n",
    "                \n",
    "                \n",
    "            #算purchase裡，session的跳動  => 11231為跳三次 \n",
    "                if(row[2]!=file.values[i-1][2]): # i-1為上一行\n",
    "                    if((pd.to_datetime(row[0]) - pd.to_datetime(file.values[i-1][0])).total_seconds()>= 1800 or row[4]!=file.values[i-1][4]):  #if 超過1800秒 or 使用來源(web, app)不同:\n",
    "                        a_purchase_segment_SessionCount += 1 \n",
    "                    elif(row[0].split(\" \")[0] !=file.values[i-1][0].split(\" \")[0] and row[4]!=file.values[i-1][4]):           #elif 換天flag==True and session數兩者不相同:\n",
    "                        a_purchase_segment_SessionCount += 1\n",
    "                    elif(row[0].split(\" \")[0] ==file.values[i-1][0].split(\" \")[0] and row[4]!=file.values[i-1][4]):            #elif 換天flag==False and session數兩者不相同:\n",
    "                        a_purchase_segment_SessionCount += 1\n",
    "                        \n",
    "                    #算SessionSeriesCount\n",
    "                    if(row[2]!=file.values[i-1][2]+1 ): # 如果sessionnumber不連續        \n",
    "                        if((pd.to_datetime(row[0]) - pd.to_datetime(file.values[i-1][0])).total_seconds()>= 1800 and row[0].split(\" \")[0] ==file.values[i-1][0].split(\" \")[0]):\n",
    "                            a_purchase_segment_SessionSeriesCount += 1 \n",
    "                            \n",
    "            #如果該筆資料為purchase，把之前計算之數值放入dict,並且全部重新計算\n",
    "            elif(row[3]=='Purchase' or row[3]=='Offline'): #就是else，為purchase或offline的情況\n",
    "                \n",
    "                if(a_purchase_segment_SessionCount!=0): #把之前count的東西全部裝在一個list\n",
    "                    before_purchase_counts.append({'segment_session_count' : a_purchase_segment_SessionCount,\n",
    "                                                   'segment_session_series_count' : a_purchase_segment_SessionSeriesCount,\n",
    "                                'source_type' : a_purchase_segment_source_type,\n",
    "                                 'product_list' : a_purchase_segment_product_list,\n",
    "                                'behavior_type' : a_purchase_segment_behavior_type,\n",
    "                                'traffic_source' : a_purchase_segment_traffic_source\n",
    "\n",
    "                                })\n",
    "#                 print(a_purchase_segment_source_type)\n",
    "#                 print(a_purchase_segment_product_list)\n",
    "                \n",
    "                #before_purchase_list.append(before_purchase_row)\n",
    "                \n",
    "                \n",
    "                \n",
    "                a_purchase_segment_source_type = {}\n",
    "                a_purchase_segment_product_list = {}\n",
    "                a_purchase_segment_row = 0\n",
    "                a_purchase_segment_SessionCount = 0\n",
    "                a_purchase_segment_SessionSeriesCount = 0\n",
    "                a_purchase_segment_behavior_type ={}\n",
    "                a_purchase_segment_traffic_source ={}\n",
    "                #Purchase單 計算\n",
    "                \n",
    "                if( row[0] != file.values[i-1][0]): #為purchase或offline， 且與上一row時間不同\n",
    "                    if(row[0] != file.values[i+1][0] ): #已知下一筆資料不為同一筆訂單=>只購買一個單獨商品的訂單\n",
    "                        a_purchase_order.update({\"{}\".format(row[5]).split(\" \")[0] : 1})\n",
    "                        a_purchase_order['purchase_amount'] = float(row[5].split(\" \")[1])\n",
    "                        a_purchase_order['discount_amount'] = float(row[5].split(\" \")[2])         \n",
    "                        purchase_orders.append({'purchaseOrder{}{}'.format(row[3],purchase_order_serial_number) : a_purchase_order})\n",
    "                        purchase_amount=0\n",
    "                        discount_amount=0\n",
    "                        a_purchase_order = {}\n",
    "                        purchase_order_serial_number += 1                    \n",
    "                        continue\n",
    "                    else: # 已知下一筆資料為同筆訂單\n",
    "                        try:\n",
    "                            a_purchase_order[\"{}\".format(row[5]).split(\" \")[0]] = a_purchase_segment_product_list[\"{}\".format(row[5]).split(\" \")[0]]+1\n",
    "                        except:\n",
    "                            a_purchase_order.update({\"{}\".format(row[5]).split(\" \")[0] : 1})\n",
    "                        purchase_amount += float(row[5].split(\" \")[1])\n",
    "                        discount_amount += float(row[5].split(\" \")[2])\n",
    "                        a_purchase_order['purchase_amount'] = purchase_amount\n",
    "                        a_purchase_order['discount_amount'] = discount_amount                    \n",
    "                        \n",
    "                        \n",
    "                        \n",
    "#                 elif(row[0] != file.values[i+1][0] ): #已知下一筆資料不為同一筆訂單=>只購買一個單獨商品的訂單\n",
    "#                     a_purchase_order.update({\"{}\".format(row[5]).split(\" \")[0] : 1})\n",
    "#                     a_purchase_order['purchase_amount'] = float(row[5].split(\" \")[1])\n",
    "#                     a_purchase_order['discount_amount'] = float(row[5].split(\" \")[2])         \n",
    "#                     purchase_orders.append({'purchaseOrder{}{}'.format(row[3],purchase_order_serial_number) : a_purchase_order})\n",
    "#                     a_purchase_order = {}\n",
    "#                     purchase_order_serial_number += 1\n",
    "                        \n",
    "    \n",
    "                \n",
    "                else: #如果是 purchase或offline,且時間與上一row時間相同\n",
    "                    if(row[0] == file.values[i+1][0]): #下一row為同筆訂單\n",
    "                        try:\n",
    "                            a_purchase_order[\"{}\".format(row[5]).split(\" \")[0]] = a_purchase_segment_product_list[\"{}\".format(row[5]).split(\" \")[0]]+1\n",
    "                        except:\n",
    "                            a_purchase_order.update({\"{}\".format(row[5]).split(\" \")[0] : 1})\n",
    "                        purchase_amount += float(row[5].split(\" \")[1])\n",
    "                        discount_amount += float(row[5].split(\" \")[2])\n",
    "                        a_purchase_order['purchase_amount'] = purchase_amount\n",
    "                        a_purchase_order['discount_amount'] = discount_amount\n",
    "                    else: #同一訂單最後一個row的情況\n",
    "                        \n",
    "                        #算最後一次的金額\n",
    "                        purchase_amount += float(row[5].split(\" \")[1])\n",
    "                        discount_amount += float(row[5].split(\" \")[2])\n",
    "                        a_purchase_order['purchase_amount'] = purchase_amount\n",
    "                        a_purchase_order['discount_amount'] = discount_amount\n",
    "                        \n",
    "                        #add 商品or種類 count\n",
    "                        try:\n",
    "                            a_purchase_order[\"{}\".format(row[5]).split(\" \")[0]] = a_purchase_segment_product_list[\"{}\".format(row[5]).split(\" \")[0]]+1\n",
    "                        except:\n",
    "                            a_purchase_order.update({\"{}\".format(row[5]).split(\" \")[0] : 1})\n",
    "                        purchase_amount += float(row[5].split(\" \")[1])\n",
    "                        discount_amount += float(row[5].split(\" \")[2])\n",
    "                        a_purchase_order['purchase_amount'] = purchase_amount\n",
    "                        a_purchase_order['discount_amount'] = discount_amount    \n",
    "                        \n",
    "                        \n",
    "                        purchase_orders.append({'purchaseOrder{}{}'.format(row[3],purchase_order_serial_number) : a_purchase_order})\n",
    "                        #歸零\n",
    "                        a_purchase_order = {}\n",
    "                        purchase_amount=0\n",
    "                        discount_amount=0\n",
    "                        purchase_order_serial_number += 1\n",
    "                        \n",
    "    return before_purchase_counts,purchase_orders\n",
    "\n",
    "\n",
    "\n",
    "#     sessionJumpCount = 0 #算session跳另一組的次數\n",
    "#     rowCount = 0\n",
    "#     for i in range(len(file.index)):\n",
    "#         if i==0: \n",
    "#             rowCount =1 \n",
    "#             continue\n",
    "#         if file[2][i] == file[2][i-1]: #如果session連續\n",
    "#             rowCount += 1\n",
    "#         else:\n",
    "#             #print(\"換另一session\")\n",
    "#             sessionJumpCount += 1\n",
    "#             rowCount +=1\n",
    "            \n",
    "#     print(\"rowCount = \" + str(rowCount))\n",
    "#     print(\"sessionJumpCount =\" +str(sessionJumpCount))        \n",
    "            \n",
    "            \n",
    "    #before_purchase_list.append(每個dict)        \n",
    "    #return before_purchase_list"
   ]
  },
  {
   "cell_type": "code",
   "execution_count": null,
   "metadata": {},
   "outputs": [],
   "source": [
    "a = purchaseBeforeCount(file)\n",
    "a"
   ]
  }
 ],
 "metadata": {
  "kernelspec": {
   "display_name": "Python 3",
   "language": "python",
   "name": "python3"
  },
  "language_info": {
   "codemirror_mode": {
    "name": "ipython",
    "version": 3
   },
   "file_extension": ".py",
   "mimetype": "text/x-python",
   "name": "python",
   "nbconvert_exporter": "python",
   "pygments_lexer": "ipython3",
   "version": "3.7.3"
  }
 },
 "nbformat": 4,
 "nbformat_minor": 2
}
